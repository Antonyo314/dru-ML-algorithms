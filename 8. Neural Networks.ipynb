{
 "cells": [
  {
   "cell_type": "code",
   "execution_count": 12,
   "metadata": {
    "collapsed": true
   },
   "outputs": [],
   "source": [
    "%matplotlib inline\n",
    "import numpy as np\n",
    "from scipy import optimize\n",
    "import matplotlib.pyplot as plt\n",
    "import matplotlib.cm as cm"
   ]
  },
  {
   "cell_type": "markdown",
   "metadata": {},
   "source": [
    "# 2-layer NN class implementation"
   ]
  },
  {
   "cell_type": "code",
   "execution_count": 25,
   "metadata": {
    "collapsed": true
   },
   "outputs": [],
   "source": [
    "class Neural_Network(object):\n",
    "    def __init__(self, Lambda=0):  \n",
    "        '''\n",
    "        Defines hyperparameters:\n",
    "            - input layer size is equal to the number of features\n",
    "              (input layer consists of features values)\n",
    "            - output layer size is equal to the number of target functions\n",
    "            - hidden layer size is 3 for this example\n",
    "        Initializes weights (randomly)\n",
    "        Set Lambda to the class argument\n",
    "        '''\n",
    "        self.inputLayerSize = 2\n",
    "        self.outputLayerSize = 1\n",
    "        self.hiddenLayerSize = 3\n",
    "        \n",
    "        self.W1 = np.random.randn(self.inputLayerSize,self.hiddenLayerSize) #2x3\n",
    "        self.W2 = np.random.randn(self.hiddenLayerSize,self.outputLayerSize) #3x1\n",
    "        \n",
    "        self.Lambda = Lambda\n",
    "        \n",
    "    def forward(self, X):\n",
    "        '''\n",
    "        Propagates inputs through network\n",
    "        '''\n",
    "        self.z2 = np.dot(X, self.W1)\n",
    "        self.a2 = self.sigmoid(self.z2)\n",
    "        self.z3 = np.dot(self.a2, self.W2)\n",
    "        yHat = self.sigmoid(self.z3) \n",
    "        return yHat\n",
    "        \n",
    "    def sigmoid(self, z):\n",
    "        '''\n",
    "        Applies sigmoid activation function\n",
    "        '''\n",
    "        return 1/(1+np.exp(-z))\n",
    "    \n",
    "    def sigmoid_grad(self, z):\n",
    "        '''\n",
    "        Returns gradient of sigmoid activation function\n",
    "        '''\n",
    "        return np.exp(-z)/((1+np.exp(-z))**2)\n",
    "    \n",
    "    def costFunction(self, X, y):\n",
    "        '''\n",
    "        Returns MSE cost function\n",
    "        '''\n",
    "        self.yHat = self.forward(X)\n",
    "        J = 0.5 * sum((y - self.yHat)**2) / X.shape[0]\\\n",
    "            + (self.Lambda / 2) * (np.sum(self.W1**2) + np.sum(self.W2**2))\n",
    "        return J\n",
    "        \n",
    "    def costFunction_grads(self, X, y):\n",
    "        '''\n",
    "        Returns gradient of MSE cost function as a complete vector\n",
    "        '''\n",
    "        #Compute derivative with respect to W and W2 for a given X and y:\n",
    "        self.yHat = self.forward(X)\n",
    "        \n",
    "        delta3 = np.multiply(-(y - self.yHat), self.sigmoid_grad(self.z3))\n",
    "        \n",
    "        #Add gradient of regularization term:\n",
    "        dJdW2 = np.dot(self.a2.T, delta3) / X.shape[0] + self.Lambda * self.W2\n",
    "        \n",
    "        delta2 = np.dot(delta3, self.W2.T) * self.sigmoid_grad(self.z2)\n",
    "        \n",
    "        #Add gradient of regularization term:\n",
    "        dJdW1 = np.dot(X.T, delta2) / X.shape[0] + self.Lambda * self.W1\n",
    "        \n",
    "        return np.concatenate((dJdW1.ravel(), dJdW2.ravel()))\n",
    "    \n",
    "    def getParams(self):\n",
    "        '''\n",
    "        Get W1 and W2 rolled into vector:\n",
    "        '''\n",
    "        params = np.concatenate((self.W1.ravel(), self.W2.ravel()))\n",
    "        return params\n",
    "    \n",
    "    def setParams(self, params):\n",
    "        '''\n",
    "        Set W1 and W2 using single parameter vector:\n",
    "        '''\n",
    "        W1_start = 0\n",
    "        W1_end = self.hiddenLayerSize * self.inputLayerSize\n",
    "        self.W1 = np.reshape(params[W1_start:W1_end], \\\n",
    "                             (self.inputLayerSize, self.hiddenLayerSize))\n",
    "        W2_end = W1_end + self.hiddenLayerSize * self.outputLayerSize\n",
    "        self.W2 = np.reshape(params[W1_end:W2_end], \\\n",
    "                             (self.hiddenLayerSize, self.outputLayerSize))\n",
    "\n",
    "def costFunction_numerical_grads(N, X, y):    \n",
    "        '''\n",
    "        Returns numerically computed gradient of MSE cost function \n",
    "        as a complete vector\n",
    "        '''\n",
    "        paramsInitial = N.getParams()\n",
    "        numgrad = np.zeros(paramsInitial.shape)\n",
    "        perturb = np.zeros(paramsInitial.shape)\n",
    "        e = 1e-4\n",
    "\n",
    "        for p in range(len(paramsInitial)):\n",
    "            #Set perturbation vector\n",
    "            perturb[p] = e\n",
    "            N.setParams(paramsInitial + perturb)\n",
    "            loss2 = N.costFunction(X, y)\n",
    "            \n",
    "            N.setParams(paramsInitial - perturb)\n",
    "            loss1 = N.costFunction(X, y)\n",
    "\n",
    "            #Compute Numerical Gradient\n",
    "            numgrad[p] = (loss2 - loss1) / (2*e)\n",
    "\n",
    "            #Return the value we changed to zero:\n",
    "            perturb[p] = 0\n",
    "            \n",
    "        #Return Params to original value:\n",
    "        N.setParams(paramsInitial)\n",
    "\n",
    "        return numgrad"
   ]
  },
  {
   "cell_type": "markdown",
   "metadata": {},
   "source": [
    "# Trainer class"
   ]
  },
  {
   "cell_type": "code",
   "execution_count": 26,
   "metadata": {
    "collapsed": true
   },
   "outputs": [],
   "source": [
    "##Need to modify trainer class a bit to check testing error during training:\n",
    "class trainer(object):\n",
    "    def __init__(self, N):\n",
    "        '''\n",
    "        Makes local reference to network:\n",
    "        '''\n",
    "        self.N = N\n",
    "        \n",
    "    def callbackF(self, params):\n",
    "        '''\n",
    "        Callback function called after each iteration of optimization\n",
    "        '''\n",
    "        self.N.setParams(params)\n",
    "        self.J.append(self.N.costFunction(self.X, self.y))\n",
    "        self.testJ.append(self.N.costFunction(self.testX, self.testY))\n",
    "        \n",
    "    def costFunctionWrapper(self, params, X, y):\n",
    "        '''\n",
    "        Returns cost function and jacobian(gradient) for optimization\n",
    "        '''\n",
    "        self.N.setParams(params)\n",
    "        cost = self.N.costFunction(X, y)\n",
    "        grad = self.N.costFunction_grads(X,y)\n",
    "        return cost, grad\n",
    "        \n",
    "    def train(self, trainX, trainY, testX, testY):\n",
    "        '''\n",
    "        Trains neural network using scipy optimization method BFGS\n",
    "        '''\n",
    "        #Make an internal variable for the callback function:\n",
    "        self.X = trainX\n",
    "        self.y = trainY\n",
    "        \n",
    "        self.testX = testX\n",
    "        self.testY = testY\n",
    "\n",
    "        #Make empty list to store training costs:\n",
    "        self.J = []\n",
    "        self.testJ = []\n",
    "        \n",
    "        params0 = self.N.getParams()\n",
    "\n",
    "        options = {'maxiter': 500, 'disp' : True}\n",
    "        _res = optimize.minimize(self.costFunctionWrapper, params0, jac=True,\n",
    "                                 method='BFGS', args=(trainX, trainY),\n",
    "                                 options=options, callback=self.callbackF)\n",
    "\n",
    "        self.N.setParams(_res.x)\n",
    "        self.optimizationResults = _res"
   ]
  },
  {
   "cell_type": "markdown",
   "metadata": {},
   "source": [
    "### Auxiliary functions"
   ]
  },
  {
   "cell_type": "code",
   "execution_count": 22,
   "metadata": {
    "code_folding": [
     0,
     14,
     28
    ],
    "collapsed": true
   },
   "outputs": [],
   "source": [
    "def normalize(X, mean_std=True):\n",
    "    '''\n",
    "    Normalise data before processing\n",
    "    Return normalized data and normalization parameters\n",
    "    '''     \n",
    "    if mean_std:\n",
    "        means, stds = X.mean(axis=0), X.std(axis=0, ddof=1)\n",
    "        X = (X - means) / stds\n",
    "        return X, means, stds\n",
    "    else:\n",
    "        mins, maxs = X.min(axis=0), X.max(axis=0)\n",
    "        X = (X - mins) / (maxs - mins)\n",
    "        return X, mins, maxs\n",
    "\n",
    "def denormalize(X, param1, param2, mean_std=True):\n",
    "    '''\n",
    "    Denormalize data after processing\n",
    "    Return denormalized data\n",
    "    '''\n",
    "    if mean_std:\n",
    "        means, stds = param1, param2\n",
    "        X = X * stds + means\n",
    "        return X\n",
    "    else:\n",
    "        mins, maxs = param1, param2\n",
    "        X = X * (maxs - mins) + mins\n",
    "        return X\n",
    "\n",
    "def plot_cost_changes(T):\n",
    "    plt.plot(T.J)\n",
    "    plt.plot(T.testJ)\n",
    "    plt.grid(1)\n",
    "    plt.xlabel('Iterations')\n",
    "    plt.ylabel('Cost function')\n",
    "    plt.show()"
   ]
  },
  {
   "cell_type": "markdown",
   "metadata": {},
   "source": [
    "# Data"
   ]
  },
  {
   "cell_type": "markdown",
   "metadata": {},
   "source": [
    "### Generate dataset"
   ]
  },
  {
   "cell_type": "code",
   "execution_count": 38,
   "metadata": {
    "collapsed": true
   },
   "outputs": [],
   "source": [
    "from sklearn import datasets \n",
    "\n",
    "sample_size = 200\n",
    "data, target = datasets.make_regression(n_samples = sample_size,\n",
    "                                        n_features = 2, \n",
    "                                        n_informative = 1, \n",
    "                                        n_targets = 1, noise = 5.,\n",
    "                                        coef = False, random_state = 2)\n",
    "\n",
    "data,_,_ = normalize(data, False)\n",
    "target,_,_ = normalize(target, False)"
   ]
  },
  {
   "cell_type": "markdown",
   "metadata": {},
   "source": [
    "### Split dataset into train & test samples"
   ]
  },
  {
   "cell_type": "code",
   "execution_count": 39,
   "metadata": {},
   "outputs": [],
   "source": [
    "from sklearn import cross_validation as cross_val\n",
    "\n",
    "train_data, test_data, \\\n",
    "train_labels, test_labels = cross_val.train_test_split(data, target,\n",
    "                                                       test_size = 0.3)"
   ]
  },
  {
   "cell_type": "code",
   "execution_count": 40,
   "metadata": {
    "collapsed": true
   },
   "outputs": [],
   "source": [
    "train_labels = train_labels.reshape((len(train_labels),1))\n",
    "test_labels = test_labels.reshape((len(test_labels),1))"
   ]
  },
  {
   "cell_type": "code",
   "execution_count": 41,
   "metadata": {},
   "outputs": [
    {
     "name": "stdout",
     "output_type": "stream",
     "text": [
      "train_data: \n",
      " [[ 0.17423426  0.33326091]\n",
      " [ 0.27091337  0.2673487 ]\n",
      " [ 0.41172787  0.36494213]\n",
      " [ 0.37040803  0.38078457]\n",
      " [ 0.39586897  0.47607135]] \n",
      "...\n",
      "\n",
      "train_labels: \n",
      " [[ 0.34068188]\n",
      " [ 0.26821854]\n",
      " [ 0.37320215]\n",
      " [ 0.37811812]\n",
      " [ 0.48495512]] ...\n"
     ]
    }
   ],
   "source": [
    "print('train_data: \\n',train_data[:5],'\\n...\\n')\n",
    "print('train_labels: \\n',train_labels[:5],'...')"
   ]
  },
  {
   "cell_type": "code",
   "execution_count": 43,
   "metadata": {},
   "outputs": [],
   "source": [
    "#Train network with new data:\n",
    "NN = Neural_Network(Lambda=0.0001)"
   ]
  },
  {
   "cell_type": "code",
   "execution_count": 44,
   "metadata": {},
   "outputs": [
    {
     "data": {
      "text/plain": [
       "True"
      ]
     },
     "execution_count": 44,
     "metadata": {},
     "output_type": "execute_result"
    }
   ],
   "source": [
    "#Should be less than 1e-8:\n",
    "numgrad = costFunction_numerical_grads(NN, train_data, train_labels)\n",
    "grad = NN.costFunction_grads(train_data, train_labels)\n",
    "np.linalg.norm(grad - numgrad) / np.linalg.norm(grad + numgrad) < 1e-8"
   ]
  },
  {
   "cell_type": "code",
   "execution_count": 45,
   "metadata": {},
   "outputs": [
    {
     "name": "stdout",
     "output_type": "stream",
     "text": [
      "Optimization terminated successfully.\n",
      "         Current function value: 0.002505\n",
      "         Iterations: 110\n",
      "         Function evaluations: 114\n",
      "         Gradient evaluations: 114\n"
     ]
    },
    {
     "data": {
      "image/png": "[encoded data removed]",
      "text/plain": [
       "<matplotlib.figure.Figure at 0x1a183fac88>"
      ]
     },
     "metadata": {},
     "output_type": "display_data"
    }
   ],
   "source": [
    "T = trainer(NN)\n",
    "T.train(train_data, train_labels, test_data, test_labels)\n",
    "\n",
    "plot_cost_changes(T)"
   ]
  },
  {
   "cell_type": "code",
   "execution_count": null,
   "metadata": {
    "collapsed": true
   },
   "outputs": [],
   "source": []
  }
 ],
 "metadata": {
  "kernelspec": {
   "display_name": "Python 3",
   "language": "python",
   "name": "python3"
  },
  "language_info": {
   "codemirror_mode": {
    "name": "ipython",
    "version": 3
   },
   "file_extension": ".py",
   "mimetype": "text/x-python",
   "name": "python",
   "nbconvert_exporter": "python",
   "pygments_lexer": "ipython3",
   "version": "3.6.1"
  }
 },
 "nbformat": 4,
 "nbformat_minor": 2
}
