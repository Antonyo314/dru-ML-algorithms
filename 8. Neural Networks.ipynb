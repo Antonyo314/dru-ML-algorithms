{
 "cells": [
  {
   "cell_type": "code",
   "execution_count": 1,
   "metadata": {
    "collapsed": true
   },
   "outputs": [],
   "source": [
    "%matplotlib inline\n",
    "import numpy as np\n",
    "from scipy import optimize\n",
    "import matplotlib.pyplot as plt\n",
    "import matplotlib.cm as cm"
   ]
  },
  {
   "cell_type": "markdown",
   "metadata": {},
   "source": [
    "# 2-layer NN class implementation"
   ]
  },
  {
   "cell_type": "code",
   "execution_count": 5,
   "metadata": {
    "collapsed": true
   },
   "outputs": [],
   "source": [
    "class Neural_Network(object):\n",
    "    def __init__(self, Lambda=0):  \n",
    "        '''\n",
    "        Defines hyperparameters:\n",
    "            - input layer size is equal to the number of features\n",
    "              (input layer consists of features values)\n",
    "            - output layer size is equal to the number of target functions\n",
    "            - hidden layer size is 3 for this example\n",
    "        Initializes weights (randomly)\n",
    "        Set Lambda to the class argument\n",
    "        '''\n",
    "        self.inputLayerSize = 2\n",
    "        self.outputLayerSize = 1\n",
    "        self.hiddenLayerSize = 3\n",
    "        \n",
    "        self.W1 = np.random.randn(self.inputLayerSize,self.hiddenLayerSize) #2x3\n",
    "        self.W2 = np.random.randn(self.hiddenLayerSize,self.outputLayerSize) #3x1\n",
    "        \n",
    "        self.Lambda = Lambda\n",
    "        \n",
    "    def forward(self, X):\n",
    "        '''\n",
    "        Propagates inputs through network\n",
    "        '''\n",
    "        self.z2 = np.dot(X, self.W1)\n",
    "        self.a2 = self.sigmoid(self.z2)\n",
    "        self.z3 = np.dot(self.a2, self.W2)\n",
    "        yHat = self.sigmoid(self.z3) \n",
    "        return yHat\n",
    "        \n",
    "    def sigmoid(self, z):\n",
    "        '''\n",
    "        Applies sigmoid activation function\n",
    "        '''\n",
    "        return 1/(1+np.exp(-z))\n",
    "    \n",
    "    def sigmoid_grad(self, z):\n",
    "        '''\n",
    "        Returns gradient of sigmoid activation function\n",
    "        '''\n",
    "        return np.exp(-z)/((1+np.exp(-z))**2)\n",
    "    \n",
    "    def costFunction(self, X, y):\n",
    "        '''\n",
    "        Returns MSE cost function\n",
    "        '''\n",
    "        self.yHat = self.forward(X)\n",
    "        J = 0.5 * sum((y - self.yHat)**2) / X.shape[0]\\\n",
    "            + (self.Lambda / 2) * (np.sum(self.W1**2) + np.sum(self.W2**2))\n",
    "        return J\n",
    "        \n",
    "    def costFunction_grads(self, X, y):\n",
    "        '''\n",
    "        Returns gradient of MSE cost function as a complete vector\n",
    "        '''\n",
    "        #Compute derivative with respect to W and W2 for a given X and y:\n",
    "        self.yHat = self.forward(X)\n",
    "        \n",
    "        delta3 = np.multiply(-(y - self.yHat), self.sigmoid_grad(self.z3))\n",
    "        \n",
    "        #Add gradient of regularization term:\n",
    "        dJdW2 = np.dot(self.a2.T, delta3) / X.shape[0] + self.Lambda * self.W2\n",
    "        \n",
    "        delta2 = np.dot(delta3, self.W2.T) * self.sigmoid_grad(self.z2)\n",
    "        \n",
    "        #Add gradient of regularization term:\n",
    "        dJdW1 = np.dot(X.T, delta2) / X.shape[0] + self.Lambda * self.W1\n",
    "        \n",
    "        return np.concatenate((dJdW1.ravel(), dJdW2.ravel()))\n",
    "    \n",
    "    #Helper functions for interacting with other methods/classes\n",
    "    def getParams(self):\n",
    "        '''\n",
    "        Get W1 and W2 rolled into vector:\n",
    "        '''\n",
    "        params = np.concatenate((self.W1.ravel(), self.W2.ravel()))\n",
    "        return params\n",
    "    \n",
    "    def setParams(self, params):\n",
    "        '''\n",
    "        Set W1 and W2 using single parameter vector:\n",
    "        '''\n",
    "        W1_start = 0\n",
    "        W1_end = self.hiddenLayerSize * self.inputLayerSize\n",
    "        self.W1 = np.reshape(params[W1_start:W1_end], \\\n",
    "                             (self.inputLayerSize, self.hiddenLayerSize))\n",
    "        W2_end = W1_end + self.hiddenLayerSize * self.outputLayerSize\n",
    "        self.W2 = np.reshape(params[W1_end:W2_end], \\\n",
    "                             (self.hiddenLayerSize, self.outputLayerSize))\n",
    "\n",
    "def costFunction_numerical_grads(N, X, y):    \n",
    "        '''\n",
    "        Returns numerically computed gradient of MSE cost function \n",
    "        as a complete vector\n",
    "        '''\n",
    "        paramsInitial = N.getParams()\n",
    "        numgrad = np.zeros(paramsInitial.shape)\n",
    "        perturb = np.zeros(paramsInitial.shape)\n",
    "        e = 1e-4\n",
    "\n",
    "        for p in range(len(paramsInitial)):\n",
    "            #Set perturbation vector\n",
    "            perturb[p] = e\n",
    "            N.setParams(paramsInitial + perturb)\n",
    "            loss2 = N.costFunction(X, y)\n",
    "            \n",
    "            N.setParams(paramsInitial - perturb)\n",
    "            loss1 = N.costFunction(X, y)\n",
    "\n",
    "            #Compute Numerical Gradient\n",
    "            numgrad[p] = (loss2 - loss1) / (2*e)\n",
    "\n",
    "            #Return the value we changed to zero:\n",
    "            perturb[p] = 0\n",
    "            \n",
    "        #Return Params to original value:\n",
    "        N.setParams(paramsInitial)\n",
    "\n",
    "        return numgrad"
   ]
  },
  {
   "cell_type": "markdown",
   "metadata": {},
   "source": [
    "# Trainer class"
   ]
  },
  {
   "cell_type": "code",
   "execution_count": 91,
   "metadata": {
    "collapsed": true
   },
   "outputs": [],
   "source": [
    "##Need to modify trainer class a bit to check testing error during training:\n",
    "class trainer(object):\n",
    "    def __init__(self, N):\n",
    "        '''\n",
    "        Makes local reference to network:\n",
    "        '''\n",
    "        self.N = N\n",
    "        \n",
    "    def callbackF(self, params):\n",
    "        self.N.setParams(params)\n",
    "        self.J.append(self.N.costFunction(self.X, self.y))\n",
    "        self.testJ.append(self.N.costFunction(self.testX, self.testY))\n",
    "        \n",
    "    def costFunctionWrapper(self, params, X, y):\n",
    "        self.N.setParams(params)\n",
    "        cost = self.N.costFunction(X, y)\n",
    "        grad = self.N.costFunction_grads(X,y)\n",
    "        \n",
    "        return cost, grad\n",
    "        \n",
    "    def train(self, trainX, trainY, testX, testY):\n",
    "        #Make an internal variable for the callback function:\n",
    "        self.X = trainX\n",
    "        self.y = trainY\n",
    "        \n",
    "        self.testX = testX\n",
    "        self.testY = testY\n",
    "\n",
    "        #Make empty list to store training costs:\n",
    "        self.J = []\n",
    "        self.testJ = []\n",
    "        \n",
    "        params0 = self.N.getParams()\n",
    "\n",
    "        options = {'maxiter': 500, 'disp' : True}\n",
    "        _res = optimize.minimize(self.costFunctionWrapper, params0, jac=True,\n",
    "                                 method='BFGS', args=(trainX, trainY),\n",
    "                                 options=options, callback=self.callbackF)\n",
    "\n",
    "        self.N.setParams(_res.x)\n",
    "        self.optimizationResults = _res"
   ]
  },
  {
   "cell_type": "markdown",
   "metadata": {},
   "source": [
    "# Data"
   ]
  },
  {
   "cell_type": "markdown",
   "metadata": {},
   "source": [
    "### Auxiliary functions"
   ]
  },
  {
   "cell_type": "code",
   "execution_count": 44,
   "metadata": {
    "code_folding": [
     15
    ],
    "collapsed": true
   },
   "outputs": [],
   "source": [
    "def normalize(X, mean_std=True):\n",
    "    '''\n",
    "    Normalise data before processing\n",
    "    Return normalized data and normalization parameters\n",
    "    '''     \n",
    "    if mean_std:\n",
    "        means, stds = X.mean(axis=0), X.std(axis=0, ddof=1)\n",
    "        X = (X - means) / stds\n",
    "        return X, means, stds\n",
    "    else:\n",
    "        mins, maxs = X.min(axis=0), X.max(axis=0)\n",
    "        X = (X - mins) / (maxs - mins)\n",
    "        return X, mins, maxs\n",
    "\n",
    "\n",
    "def denormalize(X, param1, param2, mean_std=True):\n",
    "    '''\n",
    "    Denormalize data after processing\n",
    "    Return denormalized data\n",
    "    '''\n",
    "    if mean_std:\n",
    "        means, stds = param1, param2\n",
    "        X = X * stds + means\n",
    "        return X\n",
    "    else:\n",
    "        mins, maxs = param1, param2\n",
    "        X = X * (maxs - mins) + mins\n",
    "        return X"
   ]
  },
  {
   "cell_type": "markdown",
   "metadata": {},
   "source": [
    "### Generate dataset"
   ]
  },
  {
   "cell_type": "code",
   "execution_count": 85,
   "metadata": {
    "collapsed": true
   },
   "outputs": [],
   "source": [
    "from sklearn import datasets \n",
    "\n",
    "sample_size = 200\n",
    "data, target = datasets.make_regression(n_samples = sample_size,\n",
    "                                        n_features = 2, \n",
    "                                        n_informative = 1, \n",
    "                                        n_targets = 1, noise = 5.,\n",
    "                                        coef = False, random_state = 2)\n",
    "\n",
    "data,_,_ = normalize(data, False)\n",
    "target,_,_ = normalize(target, False)"
   ]
  },
  {
   "cell_type": "markdown",
   "metadata": {},
   "source": [
    "### Split dataset into train & test samples"
   ]
  },
  {
   "cell_type": "code",
   "execution_count": 86,
   "metadata": {
    "collapsed": true
   },
   "outputs": [],
   "source": [
    "from sklearn import cross_validation as cross_val\n",
    "\n",
    "train_data, test_data, \\\n",
    "train_labels, test_labels = cross_val.train_test_split(data, target,\n",
    "                                                       test_size = 0.3)"
   ]
  },
  {
   "cell_type": "code",
   "execution_count": 87,
   "metadata": {
    "collapsed": true
   },
   "outputs": [],
   "source": [
    "train_labels = train_labels.reshape((len(train_labels),1))\n",
    "test_labels = test_labels.reshape((len(test_labels),1))"
   ]
  },
  {
   "cell_type": "code",
   "execution_count": 88,
   "metadata": {},
   "outputs": [
    {
     "name": "stdout",
     "output_type": "stream",
     "text": [
      "train_data: \n",
      " [[ 0.43415909  0.09147657]\n",
      " [ 0.31110237  0.51407529]\n",
      " [ 0.38344621  0.50339493]\n",
      " [ 0.41172787  0.36494213]\n",
      " [ 0.24612719  0.43084496]] \n",
      "...\n",
      "\n",
      "train_labels: \n",
      " [[ 0.07167124]\n",
      " [ 0.49590957]\n",
      " [ 0.49192326]\n",
      " [ 0.37320215]\n",
      " [ 0.43443681]] ...\n"
     ]
    }
   ],
   "source": [
    "print('train_data: \\n',train_data[:5],'\\n...\\n')\n",
    "print('train_labels: \\n',train_labels[:5],'...')"
   ]
  },
  {
   "cell_type": "code",
   "execution_count": 89,
   "metadata": {},
   "outputs": [
    {
     "name": "stdout",
     "output_type": "stream",
     "text": [
      "Optimization terminated successfully.\n",
      "         Current function value: 0.002340\n",
      "         Iterations: 115\n",
      "         Function evaluations: 118\n",
      "         Gradient evaluations: 118\n"
     ]
    },
    {
     "data": {
      "text/plain": [
       "<matplotlib.text.Text at 0x1a20d64c18>"
      ]
     },
     "execution_count": 89,
     "metadata": {},
     "output_type": "execute_result"
    },
    {
     "data": {
      "image/png": "[encoded data removed]",
      "text/plain": [
       "<matplotlib.figure.Figure at 0x1a20de9400>"
      ]
     },
     "metadata": {},
     "output_type": "display_data"
    }
   ],
   "source": [
    "#Train network with new data:\n",
    "NN = Neural_Network(Lambda=0.0001)\n",
    "\n",
    "#Make sure our gradients our correct after making changes:\n",
    "numgrad = costFunction_numerical_grads(NN, train_data, train_labels)\n",
    "grad = NN.costFunction_grads(train_data, train_labels)\n",
    "\n",
    "#Should be less than 1e-8:\n",
    "np.linalg.norm(grad - numgrad) / np.linalg.norm(grad + numgrad)\n",
    "\n",
    "T = trainer(NN)\n",
    "\n",
    "T.train(train_data, train_labels, test_data, test_labels)\n",
    "\n",
    "plt.plot(T.J)\n",
    "plt.plot(T.testJ)\n",
    "plt.grid(1)\n",
    "plt.xlabel('Iterations')\n",
    "plt.ylabel('Cost function')"
   ]
  },
  {
   "cell_type": "code",
   "execution_count": 74,
   "metadata": {
    "collapsed": true
   },
   "outputs": [],
   "source": [
    "#Data:\n",
    "train_data = np.array(([3,5], [5,1], [10,2], [6,1.5]), dtype=float)\n",
    "train_labels = np.array(([75], [82], [93], [70]), dtype=float)\n",
    "\n",
    "test_data = np.array(([4, 5.5], [4.5,1], [9,2.5], [6, 2]), dtype=float)\n",
    "test_labels = np.array(([70], [89], [85], [75]), dtype=float)\n",
    "\n",
    "#Normalize\n",
    "max_test_score = 100\n",
    "\n",
    "train_data = train_data / np.max(train_data, axis=0)\n",
    "train_labels = train_labels / max_test_score\n",
    "\n",
    "test_data = test_data / np.max(test_data, axis=0)\n",
    "test_labels = test_labels / max_test_score"
   ]
  },
  {
   "cell_type": "code",
   "execution_count": null,
   "metadata": {
    "collapsed": true
   },
   "outputs": [],
   "source": []
  }
 ],
 "metadata": {
  "kernelspec": {
   "display_name": "Python 3",
   "language": "python",
   "name": "python3"
  },
  "language_info": {
   "codemirror_mode": {
    "name": "ipython",
    "version": 3
   },
   "file_extension": ".py",
   "mimetype": "text/x-python",
   "name": "python",
   "nbconvert_exporter": "python",
   "pygments_lexer": "ipython3",
   "version": "3.6.1"
  }
 },
 "nbformat": 4,
 "nbformat_minor": 2
}
