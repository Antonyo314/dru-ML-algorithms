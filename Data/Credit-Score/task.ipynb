{
 "cells": [
  {
   "cell_type": "markdown",
   "metadata": {},
   "source": [
    "# Задание"
   ]
  },
  {
   "cell_type": "markdown",
   "metadata": {},
   "source": [
    "Данные содержат информацию о выданных кредитах, требуется предсказать вероятность успешного возврата кредита.\n",
    "\n",
    "Тренировочная выборка содержится в файле **train.csv**, тестовая -- **test.csv**.\n",
    "\n",
    "Информация о значениях признаков содержится в файле **feature_descr.xlsx**.\n",
    "\n",
    "Целевой признак -- **loan_status** (бинарный). 1 означает что кредит успешно вернули."
   ]
  },
  {
   "cell_type": "markdown",
   "metadata": {},
   "source": [
    "В рамках тестового задания вам предлагается:\n",
    "\n",
    "* Обучить модель на предоставленных данных, найти качество полученной модели.\n",
    "* Записать предсказания (вероятности) для тестового набора в файл **results.csv**\n",
    "* Продемонстрировать результаты анализа в графическом виде (ROC-curve)\n"
   ]
  },
  {
   "cell_type": "markdown",
   "metadata": {},
   "source": [
    "Тщательный выбор фич и подбор гиперпараметров можно не проводить."
   ]
  },
  {
   "cell_type": "markdown",
   "metadata": {},
   "source": [
    "# Решение"
   ]
  },
  {
   "cell_type": "code",
   "execution_count": 1,
   "metadata": {
    "collapsed": true
   },
   "outputs": [],
   "source": [
    "import pandas as pd"
   ]
  },
  {
   "cell_type": "code",
   "execution_count": 2,
   "metadata": {
    "collapsed": false
   },
   "outputs": [
    {
     "name": "stdout",
     "output_type": "stream",
     "text": [
      "Python version: 2.7.13 |Anaconda 4.3.1 (64-bit)| (default, Dec 19 2016, 13:29:36) [MSC v.1500 64 bit (AMD64)]\n",
      "Pandas version: 0.19.2\n"
     ]
    }
   ],
   "source": [
    "import sys\n",
    "print \"Python version: {}\".format(sys.version)\n",
    "print \"Pandas version: {}\".format(pd.__version__)"
   ]
  },
  {
   "cell_type": "markdown",
   "metadata": {},
   "source": [
    "Тут стоит заметить что использовался Python 2.7"
   ]
  },
  {
   "cell_type": "code",
   "execution_count": 3,
   "metadata": {
    "collapsed": true
   },
   "outputs": [],
   "source": [
    "pd.set_option('display.max_columns', 500)\n",
    "pd.set_option('display.width', 1000)"
   ]
  },
  {
   "cell_type": "markdown",
   "metadata": {},
   "source": [
    "Читаем данные из train.csv, используя record_id как индекс:"
   ]
  },
  {
   "cell_type": "code",
   "execution_count": 4,
   "metadata": {
    "collapsed": false
   },
   "outputs": [
    {
     "data": {
      "text/html": [
       "<div>\n",
       "<table border=\"1\" class=\"dataframe\">\n",
       "  <thead>\n",
       "    <tr style=\"text-align: right;\">\n",
       "      <th></th>\n",
       "      <th>loan_amnt</th>\n",
       "      <th>term</th>\n",
       "      <th>int_rate</th>\n",
       "      <th>installment</th>\n",
       "      <th>grade</th>\n",
       "      <th>sub_grade</th>\n",
       "      <th>emp_title</th>\n",
       "      <th>emp_length</th>\n",
       "      <th>home_ownership</th>\n",
       "      <th>annual_inc</th>\n",
       "      <th>verification_status</th>\n",
       "      <th>issue_d</th>\n",
       "      <th>loan_status</th>\n",
       "      <th>pymnt_plan</th>\n",
       "      <th>purpose</th>\n",
       "      <th>zip_code</th>\n",
       "      <th>addr_state</th>\n",
       "      <th>dti</th>\n",
       "      <th>delinq_2yrs</th>\n",
       "      <th>earliest_cr_line</th>\n",
       "      <th>inq_last_6mths</th>\n",
       "      <th>mths_since_last_delinq</th>\n",
       "      <th>open_acc</th>\n",
       "      <th>pub_rec</th>\n",
       "      <th>revol_bal</th>\n",
       "      <th>revol_util</th>\n",
       "      <th>total_acc</th>\n",
       "      <th>initial_list_status</th>\n",
       "      <th>collections_12_mths_ex_med</th>\n",
       "      <th>policy_code</th>\n",
       "      <th>application_type</th>\n",
       "      <th>acc_now_delinq</th>\n",
       "      <th>tot_coll_amt</th>\n",
       "      <th>tot_cur_bal</th>\n",
       "      <th>total_rev_hi_lim</th>\n",
       "    </tr>\n",
       "    <tr>\n",
       "      <th>record_id</th>\n",
       "      <th></th>\n",
       "      <th></th>\n",
       "      <th></th>\n",
       "      <th></th>\n",
       "      <th></th>\n",
       "      <th></th>\n",
       "      <th></th>\n",
       "      <th></th>\n",
       "      <th></th>\n",
       "      <th></th>\n",
       "      <th></th>\n",
       "      <th></th>\n",
       "      <th></th>\n",
       "      <th></th>\n",
       "      <th></th>\n",
       "      <th></th>\n",
       "      <th></th>\n",
       "      <th></th>\n",
       "      <th></th>\n",
       "      <th></th>\n",
       "      <th></th>\n",
       "      <th></th>\n",
       "      <th></th>\n",
       "      <th></th>\n",
       "      <th></th>\n",
       "      <th></th>\n",
       "      <th></th>\n",
       "      <th></th>\n",
       "      <th></th>\n",
       "      <th></th>\n",
       "      <th></th>\n",
       "      <th></th>\n",
       "      <th></th>\n",
       "      <th></th>\n",
       "      <th></th>\n",
       "    </tr>\n",
       "  </thead>\n",
       "  <tbody>\n",
       "    <tr>\n",
       "      <th>453246940</th>\n",
       "      <td>15000.0</td>\n",
       "      <td>36 months</td>\n",
       "      <td>11.99</td>\n",
       "      <td>498.15</td>\n",
       "      <td>B</td>\n",
       "      <td>B3</td>\n",
       "      <td>Quality Assurance Specialist</td>\n",
       "      <td>4 years</td>\n",
       "      <td>MORTGAGE</td>\n",
       "      <td>70000.0</td>\n",
       "      <td>Verified</td>\n",
       "      <td>Oct-2013</td>\n",
       "      <td>1</td>\n",
       "      <td>n</td>\n",
       "      <td>debt_consolidation</td>\n",
       "      <td>156xx</td>\n",
       "      <td>PA</td>\n",
       "      <td>13.85</td>\n",
       "      <td>0.0</td>\n",
       "      <td>Dec-1991</td>\n",
       "      <td>1.0</td>\n",
       "      <td>NaN</td>\n",
       "      <td>17.0</td>\n",
       "      <td>3.0</td>\n",
       "      <td>12540.0</td>\n",
       "      <td>61.2</td>\n",
       "      <td>32.0</td>\n",
       "      <td>f</td>\n",
       "      <td>0.0</td>\n",
       "      <td>1.0</td>\n",
       "      <td>INDIVIDUAL</td>\n",
       "      <td>0.0</td>\n",
       "      <td>0.0</td>\n",
       "      <td>295215.0</td>\n",
       "      <td>20500.0</td>\n",
       "    </tr>\n",
       "    <tr>\n",
       "      <th>453313687</th>\n",
       "      <td>3725.0</td>\n",
       "      <td>36 months</td>\n",
       "      <td>6.03</td>\n",
       "      <td>113.38</td>\n",
       "      <td>A</td>\n",
       "      <td>A1</td>\n",
       "      <td>NaN</td>\n",
       "      <td>n/a</td>\n",
       "      <td>MORTGAGE</td>\n",
       "      <td>52260.0</td>\n",
       "      <td>Source Verified</td>\n",
       "      <td>Oct-2012</td>\n",
       "      <td>1</td>\n",
       "      <td>n</td>\n",
       "      <td>credit_card</td>\n",
       "      <td>339xx</td>\n",
       "      <td>FL</td>\n",
       "      <td>19.43</td>\n",
       "      <td>0.0</td>\n",
       "      <td>Oct-2000</td>\n",
       "      <td>0.0</td>\n",
       "      <td>NaN</td>\n",
       "      <td>7.0</td>\n",
       "      <td>0.0</td>\n",
       "      <td>3730.0</td>\n",
       "      <td>26.3</td>\n",
       "      <td>9.0</td>\n",
       "      <td>f</td>\n",
       "      <td>0.0</td>\n",
       "      <td>1.0</td>\n",
       "      <td>INDIVIDUAL</td>\n",
       "      <td>0.0</td>\n",
       "      <td>0.0</td>\n",
       "      <td>25130.0</td>\n",
       "      <td>14200.0</td>\n",
       "    </tr>\n",
       "    <tr>\n",
       "      <th>453283543</th>\n",
       "      <td>16000.0</td>\n",
       "      <td>36 months</td>\n",
       "      <td>11.14</td>\n",
       "      <td>524.89</td>\n",
       "      <td>B</td>\n",
       "      <td>B2</td>\n",
       "      <td>KIPP NYC</td>\n",
       "      <td>3 years</td>\n",
       "      <td>RENT</td>\n",
       "      <td>67500.0</td>\n",
       "      <td>Source Verified</td>\n",
       "      <td>Apr-2013</td>\n",
       "      <td>1</td>\n",
       "      <td>n</td>\n",
       "      <td>debt_consolidation</td>\n",
       "      <td>104xx</td>\n",
       "      <td>NY</td>\n",
       "      <td>14.77</td>\n",
       "      <td>0.0</td>\n",
       "      <td>Jul-2001</td>\n",
       "      <td>0.0</td>\n",
       "      <td>NaN</td>\n",
       "      <td>9.0</td>\n",
       "      <td>0.0</td>\n",
       "      <td>11769.0</td>\n",
       "      <td>60.5</td>\n",
       "      <td>22.0</td>\n",
       "      <td>f</td>\n",
       "      <td>0.0</td>\n",
       "      <td>1.0</td>\n",
       "      <td>INDIVIDUAL</td>\n",
       "      <td>0.0</td>\n",
       "      <td>193.0</td>\n",
       "      <td>41737.0</td>\n",
       "      <td>19448.0</td>\n",
       "    </tr>\n",
       "    <tr>\n",
       "      <th>453447199</th>\n",
       "      <td>4200.0</td>\n",
       "      <td>36 months</td>\n",
       "      <td>13.33</td>\n",
       "      <td>142.19</td>\n",
       "      <td>C</td>\n",
       "      <td>C3</td>\n",
       "      <td>Receptionist</td>\n",
       "      <td>&lt; 1 year</td>\n",
       "      <td>MORTGAGE</td>\n",
       "      <td>21600.0</td>\n",
       "      <td>Not Verified</td>\n",
       "      <td>Mar-2015</td>\n",
       "      <td>0</td>\n",
       "      <td>n</td>\n",
       "      <td>major_purchase</td>\n",
       "      <td>982xx</td>\n",
       "      <td>WA</td>\n",
       "      <td>39.00</td>\n",
       "      <td>0.0</td>\n",
       "      <td>May-2003</td>\n",
       "      <td>0.0</td>\n",
       "      <td>47.0</td>\n",
       "      <td>9.0</td>\n",
       "      <td>0.0</td>\n",
       "      <td>6797.0</td>\n",
       "      <td>46.9</td>\n",
       "      <td>19.0</td>\n",
       "      <td>w</td>\n",
       "      <td>0.0</td>\n",
       "      <td>1.0</td>\n",
       "      <td>INDIVIDUAL</td>\n",
       "      <td>0.0</td>\n",
       "      <td>165.0</td>\n",
       "      <td>28187.0</td>\n",
       "      <td>14500.0</td>\n",
       "    </tr>\n",
       "    <tr>\n",
       "      <th>453350283</th>\n",
       "      <td>6500.0</td>\n",
       "      <td>36 months</td>\n",
       "      <td>12.69</td>\n",
       "      <td>218.05</td>\n",
       "      <td>B</td>\n",
       "      <td>B5</td>\n",
       "      <td>Medtox Laboratories</td>\n",
       "      <td>10+ years</td>\n",
       "      <td>RENT</td>\n",
       "      <td>41000.0</td>\n",
       "      <td>Not Verified</td>\n",
       "      <td>Jan-2012</td>\n",
       "      <td>1</td>\n",
       "      <td>n</td>\n",
       "      <td>credit_card</td>\n",
       "      <td>551xx</td>\n",
       "      <td>MN</td>\n",
       "      <td>18.35</td>\n",
       "      <td>0.0</td>\n",
       "      <td>Sep-1990</td>\n",
       "      <td>0.0</td>\n",
       "      <td>NaN</td>\n",
       "      <td>8.0</td>\n",
       "      <td>0.0</td>\n",
       "      <td>14674.0</td>\n",
       "      <td>82.4</td>\n",
       "      <td>12.0</td>\n",
       "      <td>f</td>\n",
       "      <td>0.0</td>\n",
       "      <td>1.0</td>\n",
       "      <td>INDIVIDUAL</td>\n",
       "      <td>0.0</td>\n",
       "      <td>NaN</td>\n",
       "      <td>NaN</td>\n",
       "      <td>NaN</td>\n",
       "    </tr>\n",
       "  </tbody>\n",
       "</table>\n",
       "</div>"
      ],
      "text/plain": [
       "           loan_amnt        term  int_rate  installment grade sub_grade                     emp_title emp_length home_ownership  annual_inc verification_status   issue_d  loan_status pymnt_plan             purpose zip_code addr_state    dti  delinq_2yrs earliest_cr_line  inq_last_6mths  mths_since_last_delinq  open_acc  pub_rec  revol_bal  revol_util  total_acc initial_list_status  collections_12_mths_ex_med  policy_code application_type  acc_now_delinq  tot_coll_amt  tot_cur_bal  total_rev_hi_lim\n",
       "record_id                                                                                                                                                                                                                                                                                                                                                                                                                                                                                                             \n",
       "453246940    15000.0   36 months     11.99       498.15     B        B3  Quality Assurance Specialist    4 years       MORTGAGE     70000.0            Verified  Oct-2013            1          n  debt_consolidation    156xx         PA  13.85          0.0         Dec-1991             1.0                     NaN      17.0      3.0    12540.0        61.2       32.0                   f                         0.0          1.0       INDIVIDUAL             0.0           0.0     295215.0           20500.0\n",
       "453313687     3725.0   36 months      6.03       113.38     A        A1                           NaN        n/a       MORTGAGE     52260.0     Source Verified  Oct-2012            1          n         credit_card    339xx         FL  19.43          0.0         Oct-2000             0.0                     NaN       7.0      0.0     3730.0        26.3        9.0                   f                         0.0          1.0       INDIVIDUAL             0.0           0.0      25130.0           14200.0\n",
       "453283543    16000.0   36 months     11.14       524.89     B        B2                     KIPP NYC     3 years           RENT     67500.0     Source Verified  Apr-2013            1          n  debt_consolidation    104xx         NY  14.77          0.0         Jul-2001             0.0                     NaN       9.0      0.0    11769.0        60.5       22.0                   f                         0.0          1.0       INDIVIDUAL             0.0         193.0      41737.0           19448.0\n",
       "453447199     4200.0   36 months     13.33       142.19     C        C3                  Receptionist   < 1 year       MORTGAGE     21600.0        Not Verified  Mar-2015            0          n      major_purchase    982xx         WA  39.00          0.0         May-2003             0.0                    47.0       9.0      0.0     6797.0        46.9       19.0                   w                         0.0          1.0       INDIVIDUAL             0.0         165.0      28187.0           14500.0\n",
       "453350283     6500.0   36 months     12.69       218.05     B        B5           Medtox Laboratories  10+ years           RENT     41000.0        Not Verified  Jan-2012            1          n         credit_card    551xx         MN  18.35          0.0         Sep-1990             0.0                     NaN       8.0      0.0    14674.0        82.4       12.0                   f                         0.0          1.0       INDIVIDUAL             0.0           NaN          NaN               NaN"
      ]
     },
     "execution_count": 4,
     "metadata": {},
     "output_type": "execute_result"
    }
   ],
   "source": [
    "train = pd.read_csv('train.csv', index_col='record_id')\n",
    "train.head()"
   ]
  },
  {
   "cell_type": "code",
   "execution_count": 5,
   "metadata": {
    "collapsed": false
   },
   "outputs": [
    {
     "data": {
      "text/plain": [
       "(200189, 35)"
      ]
     },
     "execution_count": 5,
     "metadata": {},
     "output_type": "execute_result"
    }
   ],
   "source": [
    "train.shape"
   ]
  },
  {
   "cell_type": "markdown",
   "metadata": {},
   "source": [
    "Смотрим, какие типы данных в столбцах:"
   ]
  },
  {
   "cell_type": "code",
   "execution_count": 6,
   "metadata": {
    "collapsed": false
   },
   "outputs": [
    {
     "data": {
      "text/plain": [
       "loan_amnt                     float64\n",
       "term                           object\n",
       "int_rate                      float64\n",
       "installment                   float64\n",
       "grade                          object\n",
       "sub_grade                      object\n",
       "emp_title                      object\n",
       "emp_length                     object\n",
       "home_ownership                 object\n",
       "annual_inc                    float64\n",
       "verification_status            object\n",
       "issue_d                        object\n",
       "loan_status                     int64\n",
       "pymnt_plan                     object\n",
       "purpose                        object\n",
       "zip_code                       object\n",
       "addr_state                     object\n",
       "dti                           float64\n",
       "delinq_2yrs                   float64\n",
       "earliest_cr_line               object\n",
       "inq_last_6mths                float64\n",
       "mths_since_last_delinq        float64\n",
       "open_acc                      float64\n",
       "pub_rec                       float64\n",
       "revol_bal                     float64\n",
       "revol_util                    float64\n",
       "total_acc                     float64\n",
       "initial_list_status            object\n",
       "collections_12_mths_ex_med    float64\n",
       "policy_code                   float64\n",
       "application_type               object\n",
       "acc_now_delinq                float64\n",
       "tot_coll_amt                  float64\n",
       "tot_cur_bal                   float64\n",
       "total_rev_hi_lim              float64\n",
       "dtype: object"
      ]
     },
     "execution_count": 6,
     "metadata": {},
     "output_type": "execute_result"
    }
   ],
   "source": [
    "train.dtypes"
   ]
  },
  {
   "cell_type": "markdown",
   "metadata": {},
   "source": [
    "Исследуем поля на наличие пропусков:"
   ]
  },
  {
   "cell_type": "code",
   "execution_count": 7,
   "metadata": {
    "collapsed": false
   },
   "outputs": [
    {
     "data": {
      "text/plain": [
       "loan_amnt                          0\n",
       "term                               0\n",
       "int_rate                           0\n",
       "installment                        0\n",
       "grade                              0\n",
       "sub_grade                          0\n",
       "emp_title                      11124\n",
       "emp_length                         0\n",
       "home_ownership                     0\n",
       "annual_inc                         0\n",
       "verification_status                0\n",
       "issue_d                            0\n",
       "loan_status                        0\n",
       "pymnt_plan                         0\n",
       "purpose                            0\n",
       "zip_code                           0\n",
       "addr_state                         0\n",
       "dti                                0\n",
       "delinq_2yrs                        0\n",
       "earliest_cr_line                   0\n",
       "inq_last_6mths                     0\n",
       "mths_since_last_delinq        110568\n",
       "open_acc                           0\n",
       "pub_rec                            0\n",
       "revol_bal                          0\n",
       "revol_util                       154\n",
       "total_acc                          0\n",
       "initial_list_status                0\n",
       "collections_12_mths_ex_med        44\n",
       "policy_code                        0\n",
       "application_type                   0\n",
       "acc_now_delinq                     0\n",
       "tot_coll_amt                   47957\n",
       "tot_cur_bal                    47957\n",
       "total_rev_hi_lim               47957\n",
       "dtype: int64"
      ]
     },
     "execution_count": 7,
     "metadata": {},
     "output_type": "execute_result"
    }
   ],
   "source": [
    "train.isnull().sum()"
   ]
  },
  {
   "cell_type": "markdown",
   "metadata": {},
   "source": [
    "Следующие столбцы имеют пропуски:"
   ]
  },
  {
   "cell_type": "markdown",
   "metadata": {},
   "source": [
    "### emp_title - The job title supplied by the Borrower when applying for the loan\n",
    "\\- Должность заемщика, вещь вроде полезная, но нестандартизирована, слишком много различных значений; отбрасываем этот столбец, но добавим флаг, указана ли была должность вообще:"
   ]
  },
  {
   "cell_type": "code",
   "execution_count": 8,
   "metadata": {
    "collapsed": true
   },
   "outputs": [],
   "source": [
    "train['is_title_known'] = train['emp_title'].map(lambda x: 0 if x == 'n/a' else 1)\n",
    "train.drop('emp_title', axis=1, inplace=True)"
   ]
  },
  {
   "cell_type": "markdown",
   "metadata": {},
   "source": [
    "### mths_since_last_delinq - The number of months since the borrower's last delinquency\n",
    "\\- кол-во месяцев с момента последнего неосуществления платежа в установленный срок. Заменить пропуски на 0 будет неправильно, заменим их на max в этом столбце и добавим столбец is_delinq_occurs с флагом, был ли факт неплатежа ранее"
   ]
  },
  {
   "cell_type": "code",
   "execution_count": 9,
   "metadata": {
    "collapsed": false
   },
   "outputs": [],
   "source": [
    "import numpy as np\n",
    "import math\n",
    "train['is_delinq_occurs'] = train['mths_since_last_delinq'].map(lambda x: 0 if math.isnan(x) else 1)\n",
    "\n",
    "max_mths_since_last_delinq = np.nanmax(train.mths_since_last_delinq.values)\n",
    "train['mths_since_last_delinq'].fillna(max_mths_since_last_delinq, inplace=True)"
   ]
  },
  {
   "cell_type": "markdown",
   "metadata": {},
   "source": [
    "### revol_util - Revolving line utilization rate, or the amount of credit the borrower is using relative to all available revolving credit\n",
    "\n",
    "### collections_12_mths_ex_med - Number of collections in 12 months excluding medical collections\n",
    "\n",
    "### tot_coll_amt - Total collection amounts ever owed\n",
    "\n",
    "### tot_cur_bal - Total current balance of all accounts\n",
    "\n",
    "### total_rev_hi_lim - Total revolving high credit/credit limit\n",
    "Мне неизвестны тонкости этого бизнес-домена, поэтому заменяем пропуски на нули с помощью функции fillna():"
   ]
  },
  {
   "cell_type": "code",
   "execution_count": 10,
   "metadata": {
    "collapsed": false
   },
   "outputs": [
    {
     "data": {
      "text/plain": [
       "loan_amnt                     0\n",
       "term                          0\n",
       "int_rate                      0\n",
       "installment                   0\n",
       "grade                         0\n",
       "sub_grade                     0\n",
       "emp_length                    0\n",
       "home_ownership                0\n",
       "annual_inc                    0\n",
       "verification_status           0\n",
       "issue_d                       0\n",
       "loan_status                   0\n",
       "pymnt_plan                    0\n",
       "purpose                       0\n",
       "zip_code                      0\n",
       "addr_state                    0\n",
       "dti                           0\n",
       "delinq_2yrs                   0\n",
       "earliest_cr_line              0\n",
       "inq_last_6mths                0\n",
       "mths_since_last_delinq        0\n",
       "open_acc                      0\n",
       "pub_rec                       0\n",
       "revol_bal                     0\n",
       "revol_util                    0\n",
       "total_acc                     0\n",
       "initial_list_status           0\n",
       "collections_12_mths_ex_med    0\n",
       "policy_code                   0\n",
       "application_type              0\n",
       "acc_now_delinq                0\n",
       "tot_coll_amt                  0\n",
       "tot_cur_bal                   0\n",
       "total_rev_hi_lim              0\n",
       "is_title_known                0\n",
       "is_delinq_occurs              0\n",
       "dtype: int64"
      ]
     },
     "execution_count": 10,
     "metadata": {},
     "output_type": "execute_result"
    }
   ],
   "source": [
    "train.fillna(0, inplace=True)\n",
    "train.isnull().sum()"
   ]
  },
  {
   "cell_type": "markdown",
   "metadata": {},
   "source": [
    "\\- Пропусков теперь нет"
   ]
  },
  {
   "cell_type": "markdown",
   "metadata": {},
   "source": [
    "Разбиваем данные на X и Y:"
   ]
  },
  {
   "cell_type": "code",
   "execution_count": 11,
   "metadata": {
    "collapsed": false,
    "scrolled": true
   },
   "outputs": [
    {
     "name": "stdout",
     "output_type": "stream",
     "text": [
      "(200189, 35) (200189L,)\n"
     ]
    }
   ],
   "source": [
    "def extract_XY(data):\n",
    "    X = data.drop(['loan_status'], axis=1)\n",
    "    Y = data['loan_status']\n",
    "    return X, Y\n",
    "\n",
    "X, Y = extract_XY(train)\n",
    "\n",
    "print X.shape, Y.shape"
   ]
  },
  {
   "cell_type": "markdown",
   "metadata": {},
   "source": [
    "## Предварительно надо разобраться с нечисловыми столбцами\n",
    "Добавим методы для LabelEncoder и OneHotEncoder:"
   ]
  },
  {
   "cell_type": "code",
   "execution_count": 12,
   "metadata": {
    "collapsed": true
   },
   "outputs": [],
   "source": [
    "from sklearn.preprocessing import LabelEncoder\n",
    "from sklearn.preprocessing import OneHotEncoder\n",
    "\n",
    "# Добавляет в DataFrame df новый столбец с именем column_name+'_le', содержащий номера категорий, \n",
    "# соответствующие столбцу column_name. Исходный столбец column_name удаляется\n",
    "#\n",
    "def encode_with_LabelEncoder(df, column_name):\n",
    "    label_encoder = LabelEncoder()\n",
    "    label_encoder.fit(df[column_name])\n",
    "    df[column_name+'_le'] = label_encoder.transform(df[column_name])\n",
    "    df.drop([column_name], axis=1, inplace=True)\n",
    "    return label_encoder\n",
    "\n",
    "# Кодирование с использованием ранее созданного LabelEncoder\n",
    "#\n",
    "def encode_with_existing_LabelEncoder(df, column_name, label_encoder):\n",
    "    df[column_name+'_le'] = label_encoder.transform(df[column_name])\n",
    "    df.drop([column_name], axis=1, inplace=True)\n",
    "\n",
    "# Вначале кодирует столбец column_name при помощи LabelEncoder, потом добавляет в DataFrame df новые столбцы \n",
    "# с именами column_name=<категория_i>. Столбцы column_name и column_name+'_le' удаляются\n",
    "# Usage: df, label_encoder = encode_with_OneHotEncoder_and_delete_column(df, column_name)\n",
    "#\n",
    "def encode_with_OneHotEncoder_and_delete_column(df, column_name):\n",
    "    le_encoder = encode_with_LabelEncoder(df, column_name)\n",
    "    return perform_dummy_coding_and_delete_column(df, column_name, le_encoder), le_encoder\n",
    "\n",
    "# То же, что предыдущий метод, но при помощи уже существующего LabelEncoder\n",
    "#\n",
    "def encode_with_OneHotEncoder_using_existing_LabelEncoder_and_delete_column(df, column_name, le_encoder):\n",
    "    encode_with_existing_LabelEncoder(df, column_name, le_encoder)\n",
    "    return perform_dummy_coding_and_delete_column(df, column_name, le_encoder)\n",
    "\n",
    "# Реализует Dummy-кодирование\n",
    "#\n",
    "def perform_dummy_coding_and_delete_column(df, column_name, le_encoder):\n",
    "    oh_encoder = OneHotEncoder(sparse=False)\n",
    "    oh_features = oh_encoder.fit_transform(df[column_name+'_le'].values.reshape(-1,1))\n",
    "    ohe_columns=[column_name + '=' + le_encoder.classes_[i] for i in range(oh_features.shape[1])]\n",
    "\n",
    "    df.drop([column_name+'_le'], axis=1, inplace=True)\n",
    "    \n",
    "    df_with_features = pd.DataFrame(oh_features, columns=ohe_columns)\n",
    "    df_with_features.index = df.index\n",
    "    return pd.concat([df, df_with_features], axis=1)"
   ]
  },
  {
   "cell_type": "markdown",
   "metadata": {},
   "source": [
    "### term - The number of payments on the loan. Values are in months and can be either 36 or 60.\n",
    "\n",
    "\\- Кол-во платежей, стоит оставить"
   ]
  },
  {
   "cell_type": "code",
   "execution_count": 13,
   "metadata": {
    "collapsed": false
   },
   "outputs": [
    {
     "name": "stdout",
     "output_type": "stream",
     "text": [
      "[' 36 months' ' 60 months']\n"
     ]
    }
   ],
   "source": [
    "import numpy as np\n",
    "print np.unique(X['term'])"
   ]
  },
  {
   "cell_type": "code",
   "execution_count": 14,
   "metadata": {
    "collapsed": false
   },
   "outputs": [],
   "source": [
    "term_le_encoder = encode_with_LabelEncoder(X,'term')"
   ]
  },
  {
   "cell_type": "markdown",
   "metadata": {},
   "source": [
    "### grade, sub_grade - loan grade & subgrade\n",
    "\n",
    "\\- Некие \"класс и подкласс заема\", grade соответствует риску займа (с нарастанием риска от A к G), sub_grade - то же, только c больше детализацией, - стоит оставить"
   ]
  },
  {
   "cell_type": "code",
   "execution_count": 15,
   "metadata": {
    "collapsed": false,
    "scrolled": false
   },
   "outputs": [
    {
     "name": "stdout",
     "output_type": "stream",
     "text": [
      "['A' 'B' 'C' 'D' 'E' 'F' 'G']\n",
      "['A1' 'A2' 'A3' 'A4' 'A5' 'B1' 'B2' 'B3' 'B4' 'B5' 'C1' 'C2' 'C3' 'C4' 'C5'\n",
      " 'D1' 'D2' 'D3' 'D4' 'D5' 'E1' 'E2' 'E3' 'E4' 'E5' 'F1' 'F2' 'F3' 'F4' 'F5'\n",
      " 'G1' 'G2' 'G3' 'G4' 'G5']\n"
     ]
    }
   ],
   "source": [
    "print np.unique(X['grade'])\n",
    "print np.unique(X['sub_grade'])"
   ]
  },
  {
   "cell_type": "code",
   "execution_count": 16,
   "metadata": {
    "collapsed": false
   },
   "outputs": [],
   "source": [
    "grade_le_encoder = encode_with_LabelEncoder(X,'grade')\n",
    "sub_grade_le_encoder = encode_with_LabelEncoder(X,'sub_grade')"
   ]
  },
  {
   "cell_type": "markdown",
   "metadata": {},
   "source": [
    "### emp_length - Employment length in years. Possible values are between 0 and 10 where 0 means less than one year and 10 means ten or more years\n",
    "\\- Срок занятости - стоит оставить"
   ]
  },
  {
   "cell_type": "code",
   "execution_count": 17,
   "metadata": {
    "collapsed": false
   },
   "outputs": [
    {
     "name": "stdout",
     "output_type": "stream",
     "text": [
      "['1 year' '10+ years' '2 years' '3 years' '4 years' '5 years' '6 years'\n",
      " '7 years' '8 years' '9 years' '< 1 year' 'n/a']\n"
     ]
    }
   ],
   "source": [
    "print np.unique(X['emp_length'])"
   ]
  },
  {
   "cell_type": "code",
   "execution_count": 18,
   "metadata": {
    "collapsed": false
   },
   "outputs": [],
   "source": [
    "X, emp_length_le_encoder = encode_with_OneHotEncoder_and_delete_column(X,'emp_length')"
   ]
  },
  {
   "cell_type": "markdown",
   "metadata": {},
   "source": [
    "### home_ownership - The home ownership status provided by the borrower during registration. Our values are: RENT, OWN, MORTGAGE, OTHER\n",
    "\\- Флажок, принадлежит ли владельцу его текущий дом - стоит оставить"
   ]
  },
  {
   "cell_type": "code",
   "execution_count": 19,
   "metadata": {
    "collapsed": false
   },
   "outputs": [
    {
     "name": "stdout",
     "output_type": "stream",
     "text": [
      "['ANY' 'MORTGAGE' 'NONE' 'OTHER' 'OWN' 'RENT']\n"
     ]
    }
   ],
   "source": [
    "print np.unique(X['home_ownership'])"
   ]
  },
  {
   "cell_type": "code",
   "execution_count": 20,
   "metadata": {
    "collapsed": false
   },
   "outputs": [],
   "source": [
    "X, home_ownership_le_encoder = encode_with_OneHotEncoder_and_delete_column(X,'home_ownership')"
   ]
  },
  {
   "cell_type": "markdown",
   "metadata": {},
   "source": [
    "### verification_status\n",
    "\\- В описании столбцов данного столбца нету, но судя из названия - это информация о том, являются ли данные о заемщике проверенными. Стоит оставить"
   ]
  },
  {
   "cell_type": "code",
   "execution_count": 21,
   "metadata": {
    "collapsed": false
   },
   "outputs": [
    {
     "name": "stdout",
     "output_type": "stream",
     "text": [
      "['Not Verified' 'Source Verified' 'Verified']\n"
     ]
    }
   ],
   "source": [
    "print np.unique(X['verification_status'])"
   ]
  },
  {
   "cell_type": "code",
   "execution_count": 22,
   "metadata": {
    "collapsed": true
   },
   "outputs": [],
   "source": [
    "X, verification_status_le_encoder = encode_with_OneHotEncoder_and_delete_column(X,'verification_status')"
   ]
  },
  {
   "cell_type": "markdown",
   "metadata": {},
   "source": [
    "### issue_d - The month which the loan was funded\n",
    "\\- Месяц (и год), в который предоставлялся заем (вроде как). В период спада экономики возвратность займов может падать - стоит оставить"
   ]
  },
  {
   "cell_type": "code",
   "execution_count": 23,
   "metadata": {
    "collapsed": false
   },
   "outputs": [
    {
     "name": "stdout",
     "output_type": "stream",
     "text": [
      "['Apr-2008' 'Apr-2009' 'Apr-2010' 'Apr-2011' 'Apr-2012' 'Apr-2013'\n",
      " 'Apr-2014' 'Apr-2015' 'Aug-2007' 'Aug-2008' 'Aug-2009' 'Aug-2010'\n",
      " 'Aug-2011' 'Aug-2012' 'Aug-2013' 'Aug-2014' 'Aug-2015' 'Dec-2007'\n",
      " 'Dec-2008' 'Dec-2009' 'Dec-2010' 'Dec-2011' 'Dec-2012' 'Dec-2013'\n",
      " 'Dec-2014' 'Dec-2015' 'Feb-2008' 'Feb-2009' 'Feb-2010' 'Feb-2011'\n",
      " 'Feb-2012' 'Feb-2013' 'Feb-2014' 'Feb-2015' 'Jan-2008' 'Jan-2009'\n",
      " 'Jan-2010' 'Jan-2011' 'Jan-2012' 'Jan-2013' 'Jan-2014' 'Jan-2015'\n",
      " 'Jul-2007' 'Jul-2008' 'Jul-2009' 'Jul-2010' 'Jul-2011' 'Jul-2012'\n",
      " 'Jul-2013' 'Jul-2014' 'Jul-2015' 'Jun-2007' 'Jun-2008' 'Jun-2009'\n",
      " 'Jun-2010' 'Jun-2011' 'Jun-2012' 'Jun-2013' 'Jun-2014' 'Jun-2015'\n",
      " 'Mar-2008' 'Mar-2009' 'Mar-2010' 'Mar-2011' 'Mar-2012' 'Mar-2013'\n",
      " 'Mar-2014' 'Mar-2015' 'May-2008' 'May-2009' 'May-2010' 'May-2011'\n",
      " 'May-2012' 'May-2013' 'May-2014' 'May-2015' 'Nov-2007' 'Nov-2008'\n",
      " 'Nov-2009' 'Nov-2010' 'Nov-2011' 'Nov-2012' 'Nov-2013' 'Nov-2014'\n",
      " 'Nov-2015' 'Oct-2007' 'Oct-2008' 'Oct-2009' 'Oct-2010' 'Oct-2011'\n",
      " 'Oct-2012' 'Oct-2013' 'Oct-2014' 'Oct-2015' 'Sep-2007' 'Sep-2008'\n",
      " 'Sep-2009' 'Sep-2010' 'Sep-2011' 'Sep-2012' 'Sep-2013' 'Sep-2014'\n",
      " 'Sep-2015']\n"
     ]
    }
   ],
   "source": [
    "print np.unique(X['issue_d'])"
   ]
  },
  {
   "cell_type": "markdown",
   "metadata": {},
   "source": [
    "Датам можно поставить в соответствие числа так, что более поздней дате соответствует большее число:"
   ]
  },
  {
   "cell_type": "code",
   "execution_count": 24,
   "metadata": {
    "collapsed": false
   },
   "outputs": [
    {
     "data": {
      "text/plain": [
       "2011.1666666666667"
      ]
     },
     "execution_count": 24,
     "metadata": {},
     "output_type": "execute_result"
    }
   ],
   "source": [
    "def month_to_decimal(month):\n",
    "    month_dict = {'Jan':0, 'Feb':1/12., 'Mar':2/12., 'Apr':3/12., 'May':4/12., 'Jun':5/12., \n",
    "     'Jul':6/12., 'Aug':7/12., 'Sep':8/12., 'Oct':9/12., 'Nov':10/12., 'Dec':11/12.}\n",
    "    return month_dict[month]\n",
    "\n",
    "def convert_date(month_year):\n",
    "    month_and_year = month_year.split('-')\n",
    "    return float(month_and_year[1]) + month_to_decimal(month_and_year[0])\n",
    "\n",
    "# Some check\n",
    "convert_date('Mar-2011')"
   ]
  },
  {
   "cell_type": "code",
   "execution_count": 25,
   "metadata": {
    "collapsed": true
   },
   "outputs": [],
   "source": [
    "def encode_with_func(df, column_name, func_name):\n",
    "    df[column_name+'_le'] = df[column_name].map(func_name)\n",
    "    df.drop(column_name, axis=1, inplace=True)\n",
    "\n",
    "encode_with_func(X, 'issue_d', convert_date)"
   ]
  },
  {
   "cell_type": "markdown",
   "metadata": {},
   "source": [
    "### pymnt_plan - Indicates if a payment plan has been put in place for the loan\n",
    "\\- Флажок был ли план платежей, стоит оставить"
   ]
  },
  {
   "cell_type": "code",
   "execution_count": 26,
   "metadata": {
    "collapsed": false
   },
   "outputs": [
    {
     "name": "stdout",
     "output_type": "stream",
     "text": [
      "['n' 'y']\n"
     ]
    }
   ],
   "source": [
    "print np.unique(X['pymnt_plan'])"
   ]
  },
  {
   "cell_type": "code",
   "execution_count": 27,
   "metadata": {
    "collapsed": true
   },
   "outputs": [],
   "source": [
    "pymnt_plan_le_encoder = encode_with_LabelEncoder(X,'pymnt_plan')"
   ]
  },
  {
   "cell_type": "markdown",
   "metadata": {},
   "source": [
    "### purpose - A category provided by the borrower for the loan request\n",
    "\\- Категория, для чего брался заем, стоит оставить"
   ]
  },
  {
   "cell_type": "code",
   "execution_count": 28,
   "metadata": {
    "collapsed": false
   },
   "outputs": [
    {
     "name": "stdout",
     "output_type": "stream",
     "text": [
      "['car' 'credit_card' 'debt_consolidation' 'educational' 'home_improvement'\n",
      " 'house' 'major_purchase' 'medical' 'moving' 'other' 'renewable_energy'\n",
      " 'small_business' 'vacation' 'wedding']\n"
     ]
    }
   ],
   "source": [
    "print np.unique(X['purpose'])"
   ]
  },
  {
   "cell_type": "code",
   "execution_count": 29,
   "metadata": {
    "collapsed": false
   },
   "outputs": [],
   "source": [
    "X,purpose_le_encoder = encode_with_OneHotEncoder_and_delete_column(X,'purpose')"
   ]
  },
  {
   "cell_type": "markdown",
   "metadata": {},
   "source": [
    "### zip_code - The first 3 numbers of the zip code provided by the borrower in the loan application\n",
    "\n",
    "### addr_state - The state provided by the borrower in the loan application\n",
    "\\- Почтовый индекс и адрес"
   ]
  },
  {
   "cell_type": "code",
   "execution_count": 30,
   "metadata": {
    "collapsed": false
   },
   "outputs": [
    {
     "name": "stdout",
     "output_type": "stream",
     "text": [
      "877\n",
      "51\n"
     ]
    }
   ],
   "source": [
    "print len(np.unique(X['zip_code']))\n",
    "print len(np.unique(X['addr_state']))"
   ]
  },
  {
   "cell_type": "code",
   "execution_count": 31,
   "metadata": {
    "collapsed": false
   },
   "outputs": [],
   "source": [
    "X.drop(['zip_code'], axis=1, inplace=True)\n",
    "addr_state_le_encoder = encode_with_LabelEncoder(X,'addr_state')"
   ]
  },
  {
   "cell_type": "markdown",
   "metadata": {},
   "source": [
    "### earliest_cr_line - The month the borrower's earliest reported credit line was opened"
   ]
  },
  {
   "cell_type": "code",
   "execution_count": 32,
   "metadata": {
    "collapsed": false
   },
   "outputs": [
    {
     "name": "stdout",
     "output_type": "stream",
     "text": [
      "['Apr-1964' 'Apr-1965' 'Apr-1966' 'Apr-1967' 'Apr-1968' 'Apr-1969'\n",
      " 'Apr-1970' 'Apr-1971' 'Apr-1972' 'Apr-1973' 'Apr-1974' 'Apr-1975'\n",
      " 'Apr-1976' 'Apr-1977' 'Apr-1978' 'Apr-1979' 'Apr-1980' 'Apr-1981'\n",
      " 'Apr-1982' 'Apr-1983' 'Apr-1984' 'Apr-1985' 'Apr-1986' 'Apr-1987'\n",
      " 'Apr-1988' 'Apr-1989' 'Apr-1990' 'Apr-1991' 'Apr-1992' 'Apr-1993'\n",
      " 'Apr-1994' 'Apr-1995' 'Apr-1996' 'Apr-1997' 'Apr-1998' 'Apr-1999'\n",
      " 'Apr-2000' 'Apr-2001' 'Apr-2002' 'Apr-2003' 'Apr-2004' 'Apr-2005'\n",
      " 'Apr-2006' 'Apr-2007' 'Apr-2008' 'Apr-2009' 'Apr-2010' 'Apr-2011'\n",
      " 'Apr-2012' 'Aug-1959' 'Aug-1960' 'Aug-1965' 'Aug-1966' 'Aug-1967'\n",
      " 'Aug-1968' 'Aug-1969' 'Aug-1970' 'Aug-1971' 'Aug-1972' 'Aug-1973'\n",
      " 'Aug-1974' 'Aug-1975' 'Aug-1976' 'Aug-1977' 'Aug-1978' 'Aug-1979'\n",
      " 'Aug-1980' 'Aug-1981' 'Aug-1982' 'Aug-1983' 'Aug-1984' 'Aug-1985'\n",
      " 'Aug-1986' 'Aug-1987' 'Aug-1988' 'Aug-1989' 'Aug-1990' 'Aug-1991'\n",
      " 'Aug-1992' 'Aug-1993' 'Aug-1994' 'Aug-1995' 'Aug-1996' 'Aug-1997'\n",
      " 'Aug-1998' 'Aug-1999' 'Aug-2000' 'Aug-2001' 'Aug-2002' 'Aug-2003'\n",
      " 'Aug-2004' 'Aug-2005' 'Aug-2006' 'Aug-2007' 'Aug-2008' 'Aug-2009'\n",
      " 'Aug-2010' 'Aug-2011' 'Dec-1950' 'Dec-1956' 'Dec-1958' 'Dec-1960'\n",
      " 'Dec-1961' 'Dec-1962' 'Dec-1963' 'Dec-1964' 'Dec-1965' 'Dec-1966'\n",
      " 'Dec-1967' 'Dec-1968' 'Dec-1969' 'Dec-1970' 'Dec-1971' 'Dec-1972'\n",
      " 'Dec-1973' 'Dec-1974' 'Dec-1975' 'Dec-1976' 'Dec-1977' 'Dec-1978'\n",
      " 'Dec-1979' 'Dec-1980' 'Dec-1981' 'Dec-1982' 'Dec-1983' 'Dec-1984'\n",
      " 'Dec-1985' 'Dec-1986' 'Dec-1987' 'Dec-1988' 'Dec-1989' 'Dec-1990'\n",
      " 'Dec-1991' 'Dec-1992' 'Dec-1993' 'Dec-1994' 'Dec-1995' 'Dec-1996'\n",
      " 'Dec-1997' 'Dec-1998' 'Dec-1999' 'Dec-2000' 'Dec-2001' 'Dec-2002'\n",
      " 'Dec-2003' 'Dec-2004' 'Dec-2005' 'Dec-2006' 'Dec-2007' 'Dec-2008'\n",
      " 'Dec-2009' 'Dec-2010' 'Dec-2011' 'Feb-1957' 'Feb-1964' 'Feb-1965'\n",
      " 'Feb-1966' 'Feb-1967' 'Feb-1968' 'Feb-1969' 'Feb-1970' 'Feb-1971'\n",
      " 'Feb-1972' 'Feb-1973' 'Feb-1974' 'Feb-1975' 'Feb-1976' 'Feb-1977'\n",
      " 'Feb-1978' 'Feb-1979' 'Feb-1980' 'Feb-1981' 'Feb-1982' 'Feb-1983'\n",
      " 'Feb-1984' 'Feb-1985' 'Feb-1986' 'Feb-1987' 'Feb-1988' 'Feb-1989'\n",
      " 'Feb-1990' 'Feb-1991' 'Feb-1992' 'Feb-1993' 'Feb-1994' 'Feb-1995'\n",
      " 'Feb-1996' 'Feb-1997' 'Feb-1998' 'Feb-1999' 'Feb-2000' 'Feb-2001'\n",
      " 'Feb-2002' 'Feb-2003' 'Feb-2004' 'Feb-2005' 'Feb-2006' 'Feb-2007'\n",
      " 'Feb-2008' 'Feb-2009' 'Feb-2010' 'Feb-2011' 'Feb-2012' 'Jan-1946'\n",
      " 'Jan-1954' 'Jan-1955' 'Jan-1956' 'Jan-1959' 'Jan-1960' 'Jan-1961'\n",
      " 'Jan-1962' 'Jan-1963' 'Jan-1964' 'Jan-1965' 'Jan-1966' 'Jan-1967'\n",
      " 'Jan-1968' 'Jan-1969' 'Jan-1970' 'Jan-1971' 'Jan-1972' 'Jan-1973'\n",
      " 'Jan-1974' 'Jan-1975' 'Jan-1976' 'Jan-1977' 'Jan-1978' 'Jan-1979'\n",
      " 'Jan-1980' 'Jan-1981' 'Jan-1982' 'Jan-1983' 'Jan-1984' 'Jan-1985'\n",
      " 'Jan-1986' 'Jan-1987' 'Jan-1988' 'Jan-1989' 'Jan-1990' 'Jan-1991'\n",
      " 'Jan-1992' 'Jan-1993' 'Jan-1994' 'Jan-1995' 'Jan-1996' 'Jan-1997'\n",
      " 'Jan-1998' 'Jan-1999' 'Jan-2000' 'Jan-2001' 'Jan-2002' 'Jan-2003'\n",
      " 'Jan-2004' 'Jan-2005' 'Jan-2006' 'Jan-2007' 'Jan-2008' 'Jan-2009'\n",
      " 'Jan-2010' 'Jan-2011' 'Jan-2012' 'Jul-1958' 'Jul-1961' 'Jul-1963'\n",
      " 'Jul-1964' 'Jul-1965' 'Jul-1966' 'Jul-1967' 'Jul-1968' 'Jul-1969'\n",
      " 'Jul-1970' 'Jul-1971' 'Jul-1972' 'Jul-1973' 'Jul-1974' 'Jul-1975'\n",
      " 'Jul-1976' 'Jul-1977' 'Jul-1978' 'Jul-1979' 'Jul-1980' 'Jul-1981'\n",
      " 'Jul-1982' 'Jul-1983' 'Jul-1984' 'Jul-1985' 'Jul-1986' 'Jul-1987'\n",
      " 'Jul-1988' 'Jul-1989' 'Jul-1990' 'Jul-1991' 'Jul-1992' 'Jul-1993'\n",
      " 'Jul-1994' 'Jul-1995' 'Jul-1996' 'Jul-1997' 'Jul-1998' 'Jul-1999'\n",
      " 'Jul-2000' 'Jul-2001' 'Jul-2002' 'Jul-2003' 'Jul-2004' 'Jul-2005'\n",
      " 'Jul-2006' 'Jul-2007' 'Jul-2008' 'Jul-2009' 'Jul-2010' 'Jul-2011'\n",
      " 'Jul-2012' 'Jun-1957' 'Jun-1959' 'Jun-1963' 'Jun-1964' 'Jun-1965'\n",
      " 'Jun-1966' 'Jun-1967' 'Jun-1968' 'Jun-1969' 'Jun-1970' 'Jun-1971'\n",
      " 'Jun-1972' 'Jun-1973' 'Jun-1974' 'Jun-1975' 'Jun-1976' 'Jun-1977'\n",
      " 'Jun-1978' 'Jun-1979' 'Jun-1980' 'Jun-1981' 'Jun-1982' 'Jun-1983'\n",
      " 'Jun-1984' 'Jun-1985' 'Jun-1986' 'Jun-1987' 'Jun-1988' 'Jun-1989'\n",
      " 'Jun-1990' 'Jun-1991' 'Jun-1992' 'Jun-1993' 'Jun-1994' 'Jun-1995'\n",
      " 'Jun-1996' 'Jun-1997' 'Jun-1998' 'Jun-1999' 'Jun-2000' 'Jun-2001'\n",
      " 'Jun-2002' 'Jun-2003' 'Jun-2004' 'Jun-2005' 'Jun-2006' 'Jun-2007'\n",
      " 'Jun-2008' 'Jun-2009' 'Jun-2010' 'Jun-2011' 'Jun-2012' 'Mar-1960'\n",
      " 'Mar-1961' 'Mar-1963' 'Mar-1964' 'Mar-1965' 'Mar-1966' 'Mar-1967'\n",
      " 'Mar-1968' 'Mar-1969' 'Mar-1970' 'Mar-1971' 'Mar-1972' 'Mar-1973'\n",
      " 'Mar-1974' 'Mar-1975' 'Mar-1976' 'Mar-1977' 'Mar-1978' 'Mar-1979'\n",
      " 'Mar-1980' 'Mar-1981' 'Mar-1982' 'Mar-1983' 'Mar-1984' 'Mar-1985'\n",
      " 'Mar-1986' 'Mar-1987' 'Mar-1988' 'Mar-1989' 'Mar-1990' 'Mar-1991'\n",
      " 'Mar-1992' 'Mar-1993' 'Mar-1994' 'Mar-1995' 'Mar-1996' 'Mar-1997'\n",
      " 'Mar-1998' 'Mar-1999' 'Mar-2000' 'Mar-2001' 'Mar-2002' 'Mar-2003'\n",
      " 'Mar-2004' 'Mar-2005' 'Mar-2006' 'Mar-2007' 'Mar-2008' 'Mar-2009'\n",
      " 'Mar-2010' 'Mar-2011' 'Mar-2012' 'May-1959' 'May-1960' 'May-1962'\n",
      " 'May-1963' 'May-1964' 'May-1965' 'May-1966' 'May-1967' 'May-1968'\n",
      " 'May-1969' 'May-1970' 'May-1971' 'May-1972' 'May-1973' 'May-1974'\n",
      " 'May-1975' 'May-1976' 'May-1977' 'May-1978' 'May-1979' 'May-1980'\n",
      " 'May-1981' 'May-1982' 'May-1983' 'May-1984' 'May-1985' 'May-1986'\n",
      " 'May-1987' 'May-1988' 'May-1989' 'May-1990' 'May-1991' 'May-1992'\n",
      " 'May-1993' 'May-1994' 'May-1995' 'May-1996' 'May-1997' 'May-1998'\n",
      " 'May-1999' 'May-2000' 'May-2001' 'May-2002' 'May-2003' 'May-2004'\n",
      " 'May-2005' 'May-2006' 'May-2007' 'May-2008' 'May-2009' 'May-2010'\n",
      " 'May-2011' 'May-2012' 'Nov-1954' 'Nov-1955' 'Nov-1956' 'Nov-1958'\n",
      " 'Nov-1959' 'Nov-1960' 'Nov-1961' 'Nov-1962' 'Nov-1964' 'Nov-1965'\n",
      " 'Nov-1966' 'Nov-1967' 'Nov-1968' 'Nov-1969' 'Nov-1970' 'Nov-1971'\n",
      " 'Nov-1972' 'Nov-1973' 'Nov-1974' 'Nov-1975' 'Nov-1976' 'Nov-1977'\n",
      " 'Nov-1978' 'Nov-1979' 'Nov-1980' 'Nov-1981' 'Nov-1982' 'Nov-1983'\n",
      " 'Nov-1984' 'Nov-1985' 'Nov-1986' 'Nov-1987' 'Nov-1988' 'Nov-1989'\n",
      " 'Nov-1990' 'Nov-1991' 'Nov-1992' 'Nov-1993' 'Nov-1994' 'Nov-1995'\n",
      " 'Nov-1996' 'Nov-1997' 'Nov-1998' 'Nov-1999' 'Nov-2000' 'Nov-2001'\n",
      " 'Nov-2002' 'Nov-2003' 'Nov-2004' 'Nov-2005' 'Nov-2006' 'Nov-2007'\n",
      " 'Nov-2008' 'Nov-2009' 'Nov-2010' 'Nov-2011' 'Oct-1954' 'Oct-1958'\n",
      " 'Oct-1959' 'Oct-1960' 'Oct-1961' 'Oct-1962' 'Oct-1963' 'Oct-1964'\n",
      " 'Oct-1965' 'Oct-1966' 'Oct-1967' 'Oct-1968' 'Oct-1969' 'Oct-1970'\n",
      " 'Oct-1971' 'Oct-1972' 'Oct-1973' 'Oct-1974' 'Oct-1975' 'Oct-1976'\n",
      " 'Oct-1977' 'Oct-1978' 'Oct-1979' 'Oct-1980' 'Oct-1981' 'Oct-1982'\n",
      " 'Oct-1983' 'Oct-1984' 'Oct-1985' 'Oct-1986' 'Oct-1987' 'Oct-1988'\n",
      " 'Oct-1989' 'Oct-1990' 'Oct-1991' 'Oct-1992' 'Oct-1993' 'Oct-1994'\n",
      " 'Oct-1995' 'Oct-1996' 'Oct-1997' 'Oct-1998' 'Oct-1999' 'Oct-2000'\n",
      " 'Oct-2001' 'Oct-2002' 'Oct-2003' 'Oct-2004' 'Oct-2005' 'Oct-2006'\n",
      " 'Oct-2007' 'Oct-2008' 'Oct-2009' 'Oct-2010' 'Oct-2011' 'Oct-2012'\n",
      " 'Sep-1956' 'Sep-1959' 'Sep-1960' 'Sep-1962' 'Sep-1963' 'Sep-1964'\n",
      " 'Sep-1965' 'Sep-1966' 'Sep-1967' 'Sep-1968' 'Sep-1969' 'Sep-1970'\n",
      " 'Sep-1971' 'Sep-1972' 'Sep-1973' 'Sep-1974' 'Sep-1975' 'Sep-1976'\n",
      " 'Sep-1977' 'Sep-1978' 'Sep-1979' 'Sep-1980' 'Sep-1981' 'Sep-1982'\n",
      " 'Sep-1983' 'Sep-1984' 'Sep-1985' 'Sep-1986' 'Sep-1987' 'Sep-1988'\n",
      " 'Sep-1989' 'Sep-1990' 'Sep-1991' 'Sep-1992' 'Sep-1993' 'Sep-1994'\n",
      " 'Sep-1995' 'Sep-1996' 'Sep-1997' 'Sep-1998' 'Sep-1999' 'Sep-2000'\n",
      " 'Sep-2001' 'Sep-2002' 'Sep-2003' 'Sep-2004' 'Sep-2005' 'Sep-2006'\n",
      " 'Sep-2007' 'Sep-2008' 'Sep-2009' 'Sep-2010' 'Sep-2011']\n"
     ]
    }
   ],
   "source": [
    "print np.unique(X['earliest_cr_line'])"
   ]
  },
  {
   "cell_type": "markdown",
   "metadata": {},
   "source": [
    "Формат аналогичен столбцу issue_d, кодируем той же функцией convert_date:"
   ]
  },
  {
   "cell_type": "code",
   "execution_count": 33,
   "metadata": {
    "collapsed": false
   },
   "outputs": [],
   "source": [
    "encode_with_func(X, 'earliest_cr_line', convert_date)"
   ]
  },
  {
   "cell_type": "markdown",
   "metadata": {},
   "source": [
    "### initial_list_status - The initial listing status of the loan. Possible values are – W, F\n",
    "\\- Некий параметр заема, оставляем"
   ]
  },
  {
   "cell_type": "code",
   "execution_count": 34,
   "metadata": {
    "collapsed": false
   },
   "outputs": [
    {
     "name": "stdout",
     "output_type": "stream",
     "text": [
      "['f' 'w']\n"
     ]
    }
   ],
   "source": [
    "print np.unique(X['initial_list_status'])"
   ]
  },
  {
   "cell_type": "code",
   "execution_count": 35,
   "metadata": {
    "collapsed": true
   },
   "outputs": [],
   "source": [
    "initial_list_status_le_encoder = encode_with_LabelEncoder(X,'initial_list_status')"
   ]
  },
  {
   "cell_type": "markdown",
   "metadata": {},
   "source": [
    "### application_type - Indicates whether the loan is an individual application or a joint application with two co-borrowers\n",
    "\\- Индикатор, заем брался одним человеком или в группе с кем-то. Стоит оставить"
   ]
  },
  {
   "cell_type": "code",
   "execution_count": 36,
   "metadata": {
    "collapsed": false
   },
   "outputs": [
    {
     "name": "stdout",
     "output_type": "stream",
     "text": [
      "['INDIVIDUAL' 'JOINT']\n"
     ]
    }
   ],
   "source": [
    "print np.unique(X['application_type'])"
   ]
  },
  {
   "cell_type": "code",
   "execution_count": 37,
   "metadata": {
    "collapsed": false
   },
   "outputs": [],
   "source": [
    "application_type_le_encoder = encode_with_LabelEncoder(X,'application_type')"
   ]
  },
  {
   "cell_type": "markdown",
   "metadata": {},
   "source": [
    "Теперь все признаки должны быть числовыми: "
   ]
  },
  {
   "cell_type": "code",
   "execution_count": 38,
   "metadata": {
    "collapsed": false
   },
   "outputs": [
    {
     "data": {
      "text/plain": [
       "loan_amnt                              float64\n",
       "int_rate                               float64\n",
       "installment                            float64\n",
       "annual_inc                             float64\n",
       "dti                                    float64\n",
       "delinq_2yrs                            float64\n",
       "inq_last_6mths                         float64\n",
       "mths_since_last_delinq                 float64\n",
       "open_acc                               float64\n",
       "pub_rec                                float64\n",
       "revol_bal                              float64\n",
       "revol_util                             float64\n",
       "total_acc                              float64\n",
       "collections_12_mths_ex_med             float64\n",
       "policy_code                            float64\n",
       "acc_now_delinq                         float64\n",
       "tot_coll_amt                           float64\n",
       "tot_cur_bal                            float64\n",
       "total_rev_hi_lim                       float64\n",
       "is_title_known                           int64\n",
       "is_delinq_occurs                         int64\n",
       "term_le                                  int64\n",
       "grade_le                                 int64\n",
       "sub_grade_le                             int64\n",
       "emp_length=1 year                      float64\n",
       "emp_length=10+ years                   float64\n",
       "emp_length=2 years                     float64\n",
       "emp_length=3 years                     float64\n",
       "emp_length=4 years                     float64\n",
       "emp_length=5 years                     float64\n",
       "                                        ...   \n",
       "emp_length=n/a                         float64\n",
       "home_ownership=ANY                     float64\n",
       "home_ownership=MORTGAGE                float64\n",
       "home_ownership=NONE                    float64\n",
       "home_ownership=OTHER                   float64\n",
       "home_ownership=OWN                     float64\n",
       "home_ownership=RENT                    float64\n",
       "verification_status=Not Verified       float64\n",
       "verification_status=Source Verified    float64\n",
       "verification_status=Verified           float64\n",
       "issue_d_le                             float64\n",
       "pymnt_plan_le                            int64\n",
       "purpose=car                            float64\n",
       "purpose=credit_card                    float64\n",
       "purpose=debt_consolidation             float64\n",
       "purpose=educational                    float64\n",
       "purpose=home_improvement               float64\n",
       "purpose=house                          float64\n",
       "purpose=major_purchase                 float64\n",
       "purpose=medical                        float64\n",
       "purpose=moving                         float64\n",
       "purpose=other                          float64\n",
       "purpose=renewable_energy               float64\n",
       "purpose=small_business                 float64\n",
       "purpose=vacation                       float64\n",
       "purpose=wedding                        float64\n",
       "addr_state_le                            int64\n",
       "earliest_cr_line_le                    float64\n",
       "initial_list_status_le                   int64\n",
       "application_type_le                      int64\n",
       "dtype: object"
      ]
     },
     "execution_count": 38,
     "metadata": {},
     "output_type": "execute_result"
    }
   ],
   "source": [
    "X.dtypes"
   ]
  },
  {
   "cell_type": "code",
   "execution_count": 39,
   "metadata": {
    "collapsed": false
   },
   "outputs": [
    {
     "data": {
      "text/plain": [
       "(200189, 65)"
      ]
     },
     "execution_count": 39,
     "metadata": {},
     "output_type": "execute_result"
    }
   ],
   "source": [
    "X.shape"
   ]
  },
  {
   "cell_type": "markdown",
   "metadata": {},
   "source": [
    "## Признаки подготовлены\n",
    "Для решения выбрал логистическую регрессию - она дает ответ в виде набора вероятностей и работает достаточно быстро\n",
    "\n",
    "При решении применяем кросс-валидацию по 5 блокам с перемешиванием\n",
    "\n",
    "Качеством считаем площадь под ROC-кривой - AUC-ROC величину"
   ]
  },
  {
   "cell_type": "code",
   "execution_count": 55,
   "metadata": {
    "collapsed": false
   },
   "outputs": [],
   "source": [
    "from sklearn.cross_validation import KFold\n",
    "from sklearn.metrics import roc_auc_score\n",
    "from sklearn.cross_validation import cross_val_score\n",
    "from sklearn.preprocessing import StandardScaler\n",
    "from sklearn.linear_model import LogisticRegression\n",
    "\n",
    "records_count = Y.count()\n",
    "kf = KFold(n=records_count, n_folds=5, shuffle=True)\n",
    "\n",
    "def my_scorer(estimator, testX, testY):\n",
    "    predicted_testY = estimator.predict_proba(testX)[:, 1]\n",
    "    return roc_auc_score(testY, predicted_testY)\n",
    "\n",
    "scaler = StandardScaler()\n",
    "scaledX = scaler.fit_transform(X)\n",
    "\n",
    "def LogR_teach(C_value):\n",
    "    clf = LogisticRegression(penalty='l2', C=C_value)\n",
    "    return cross_val_score(clf, scaledX, Y, cv=kf, scoring=my_scorer).mean()\n",
    "\n",
    "def check_quality_for_different_C():\n",
    "    for power in range(-4, 2):\n",
    "        C = math.pow(10, power)\n",
    "        quality = LogR_teach(C)\n",
    "        print 'C=', C, ', quality=', quality"
   ]
  },
  {
   "cell_type": "code",
   "execution_count": 41,
   "metadata": {
    "collapsed": false
   },
   "outputs": [
    {
     "name": "stdout",
     "output_type": "stream",
     "text": [
      "C= 0.0001 , quality= 0.707991113828\n",
      "C= 0.001 , quality= 0.709654648448\n",
      "C= 0.01 , quality= 0.709779198127\n",
      "C= 0.1 , quality= 0.709776206257\n",
      "C= 1.0 , quality= 0.709775629602\n",
      "C= 10.0 , quality= 0.709775731556\n"
     ]
    }
   ],
   "source": [
    "check_quality_for_different_C()"
   ]
  },
  {
   "cell_type": "markdown",
   "metadata": {},
   "source": [
    "Лучшее качество **0.71** достигается при **С=0.1**"
   ]
  },
  {
   "cell_type": "code",
   "execution_count": 42,
   "metadata": {
    "collapsed": true
   },
   "outputs": [],
   "source": [
    "from sklearn.model_selection import train_test_split\n",
    "\n",
    "X_train, X_test, y_train, y_test = train_test_split(scaledX, Y, test_size=.2, random_state=0)\n",
    "clf = LogisticRegression(penalty='l2', C=0.1)\n",
    "clf.fit(X_train, y_train)\n",
    "y_score = clf.predict_proba(X_test)[:, 1]"
   ]
  },
  {
   "cell_type": "markdown",
   "metadata": {},
   "source": [
    "Чертим ROC-кривую:"
   ]
  },
  {
   "cell_type": "code",
   "execution_count": 43,
   "metadata": {
    "collapsed": false
   },
   "outputs": [
    {
     "data": {
      "image/png": "[encoded data removed]",
      "text/plain": [
       "<matplotlib.figure.Figure at 0xa37fa58>"
      ]
     },
     "metadata": {},
     "output_type": "display_data"
    }
   ],
   "source": [
    "import matplotlib.pyplot as plt\n",
    "from sklearn.metrics import roc_curve\n",
    "\n",
    "plt.figure()\n",
    "line_width = 2\n",
    "fpr, tpr, thresholds = roc_curve(y_test, y_score)\n",
    "plt.plot(fpr, tpr, color='darkorange', lw=line_width, label='LogRegression, C=0.1')\n",
    "plt.plot([0, 1], [0, 1], color='navy', lw=line_width, linestyle='--')\n",
    "plt.xlim([0.0, 1.0])\n",
    "plt.ylim([0.0, 1.0])\n",
    "plt.xlabel('False Positive Rate')\n",
    "plt.ylabel('True Positive Rate')\n",
    "plt.title('Receiver operating characteristic')\n",
    "plt.legend(loc=\"lower right\")\n",
    "plt.show()"
   ]
  },
  {
   "cell_type": "markdown",
   "metadata": {},
   "source": [
    "## Вычислим предсказания для тестового набора\n",
    "Загружаем данные:"
   ]
  },
  {
   "cell_type": "code",
   "execution_count": 56,
   "metadata": {
    "collapsed": true
   },
   "outputs": [],
   "source": [
    "test = pd.read_csv('test.csv', index_col='record_id')"
   ]
  },
  {
   "cell_type": "markdown",
   "metadata": {},
   "source": [
    "Делаем действия аналогичные проделанным с train набором:"
   ]
  },
  {
   "cell_type": "code",
   "execution_count": 57,
   "metadata": {
    "collapsed": false
   },
   "outputs": [
    {
     "data": {
      "text/plain": [
       "loan_amnt                     0\n",
       "term                          0\n",
       "int_rate                      0\n",
       "installment                   0\n",
       "grade                         0\n",
       "sub_grade                     0\n",
       "emp_length                    0\n",
       "home_ownership                0\n",
       "annual_inc                    0\n",
       "verification_status           0\n",
       "issue_d                       0\n",
       "loan_status                   0\n",
       "pymnt_plan                    0\n",
       "purpose                       0\n",
       "zip_code                      0\n",
       "addr_state                    0\n",
       "dti                           0\n",
       "delinq_2yrs                   0\n",
       "earliest_cr_line              0\n",
       "inq_last_6mths                0\n",
       "mths_since_last_delinq        0\n",
       "open_acc                      0\n",
       "pub_rec                       0\n",
       "revol_bal                     0\n",
       "revol_util                    0\n",
       "total_acc                     0\n",
       "initial_list_status           0\n",
       "collections_12_mths_ex_med    0\n",
       "policy_code                   0\n",
       "application_type              0\n",
       "acc_now_delinq                0\n",
       "tot_coll_amt                  0\n",
       "tot_cur_bal                   0\n",
       "total_rev_hi_lim              0\n",
       "is_title_known                0\n",
       "is_delinq_occurs              0\n",
       "dtype: int64"
      ]
     },
     "execution_count": 57,
     "metadata": {},
     "output_type": "execute_result"
    }
   ],
   "source": [
    "test['is_title_known'] = test['emp_title'].map(lambda x: 0 if x == 'n/a' else 1)\n",
    "test.drop('emp_title', axis=1, inplace=True)\n",
    "\n",
    "test['is_delinq_occurs'] = test['mths_since_last_delinq'].map(lambda x: 0 if math.isnan(x) else 1)\n",
    "max_mths_since_last_delinq = np.nanmax(test.mths_since_last_delinq.values)\n",
    "test['mths_since_last_delinq'].fillna(max_mths_since_last_delinq, inplace=True)\n",
    "\n",
    "test.fillna(0, inplace=True)\n",
    "test.isnull().sum()"
   ]
  },
  {
   "cell_type": "markdown",
   "metadata": {},
   "source": [
    "\\- Пропусков нету, как и ожидаем"
   ]
  },
  {
   "cell_type": "code",
   "execution_count": 58,
   "metadata": {
    "collapsed": false
   },
   "outputs": [
    {
     "name": "stdout",
     "output_type": "stream",
     "text": [
      "(66730, 36)\n"
     ]
    }
   ],
   "source": [
    "print test.shape"
   ]
  },
  {
   "cell_type": "markdown",
   "metadata": {},
   "source": [
    "### Подготовим нечисловые столбцы:"
   ]
  },
  {
   "cell_type": "code",
   "execution_count": 59,
   "metadata": {
    "collapsed": false
   },
   "outputs": [
    {
     "data": {
      "text/plain": [
       "loan_amnt                              float64\n",
       "int_rate                               float64\n",
       "installment                            float64\n",
       "annual_inc                             float64\n",
       "dti                                    float64\n",
       "delinq_2yrs                            float64\n",
       "inq_last_6mths                         float64\n",
       "mths_since_last_delinq                 float64\n",
       "open_acc                               float64\n",
       "pub_rec                                float64\n",
       "revol_bal                              float64\n",
       "revol_util                             float64\n",
       "total_acc                              float64\n",
       "collections_12_mths_ex_med             float64\n",
       "policy_code                            float64\n",
       "acc_now_delinq                         float64\n",
       "tot_coll_amt                           float64\n",
       "tot_cur_bal                            float64\n",
       "total_rev_hi_lim                       float64\n",
       "is_title_known                           int64\n",
       "is_delinq_occurs                         int64\n",
       "term_le                                  int64\n",
       "grade_le                                 int64\n",
       "sub_grade_le                             int64\n",
       "emp_length=1 year                      float64\n",
       "emp_length=10+ years                   float64\n",
       "emp_length=2 years                     float64\n",
       "emp_length=3 years                     float64\n",
       "emp_length=4 years                     float64\n",
       "emp_length=5 years                     float64\n",
       "                                        ...   \n",
       "emp_length=n/a                         float64\n",
       "home_ownership=ANY                     float64\n",
       "home_ownership=MORTGAGE                float64\n",
       "home_ownership=NONE                    float64\n",
       "home_ownership=OTHER                   float64\n",
       "home_ownership=OWN                     float64\n",
       "home_ownership=RENT                    float64\n",
       "verification_status=Not Verified       float64\n",
       "verification_status=Source Verified    float64\n",
       "verification_status=Verified           float64\n",
       "issue_d_le                             float64\n",
       "pymnt_plan_le                            int64\n",
       "purpose=car                            float64\n",
       "purpose=credit_card                    float64\n",
       "purpose=debt_consolidation             float64\n",
       "purpose=educational                    float64\n",
       "purpose=home_improvement               float64\n",
       "purpose=house                          float64\n",
       "purpose=major_purchase                 float64\n",
       "purpose=medical                        float64\n",
       "purpose=moving                         float64\n",
       "purpose=other                          float64\n",
       "purpose=renewable_energy               float64\n",
       "purpose=small_business                 float64\n",
       "purpose=vacation                       float64\n",
       "purpose=wedding                        float64\n",
       "addr_state_le                            int64\n",
       "earliest_cr_line_le                    float64\n",
       "initial_list_status_le                   int64\n",
       "application_type_le                      int64\n",
       "dtype: object"
      ]
     },
     "execution_count": 59,
     "metadata": {},
     "output_type": "execute_result"
    }
   ],
   "source": [
    "encode_with_existing_LabelEncoder(test, 'term', term_le_encoder)\n",
    "encode_with_existing_LabelEncoder(test, 'grade', grade_le_encoder)\n",
    "encode_with_existing_LabelEncoder(test, 'sub_grade', sub_grade_le_encoder)\n",
    "\n",
    "test = encode_with_OneHotEncoder_using_existing_LabelEncoder_and_delete_column(test, 'emp_length', emp_length_le_encoder)\n",
    "test = encode_with_OneHotEncoder_using_existing_LabelEncoder_and_delete_column(test, 'home_ownership', home_ownership_le_encoder)\n",
    "test = encode_with_OneHotEncoder_using_existing_LabelEncoder_and_delete_column(test, 'verification_status', verification_status_le_encoder)\n",
    "\n",
    "encode_with_func(test, 'issue_d', convert_date)\n",
    "encode_with_existing_LabelEncoder(test, 'pymnt_plan', pymnt_plan_le_encoder)\n",
    "\n",
    "test = encode_with_OneHotEncoder_using_existing_LabelEncoder_and_delete_column(test, 'purpose', purpose_le_encoder)\n",
    "\n",
    "test.drop(['zip_code'], axis=1, inplace=True)\n",
    "encode_with_existing_LabelEncoder(test, 'addr_state', addr_state_le_encoder)\n",
    "encode_with_func(test, 'earliest_cr_line', convert_date)\n",
    "encode_with_existing_LabelEncoder(test, 'initial_list_status', initial_list_status_le_encoder)\n",
    "encode_with_existing_LabelEncoder(test, 'application_type', application_type_le_encoder)\n",
    "\n",
    "X.dtypes"
   ]
  },
  {
   "cell_type": "code",
   "execution_count": 60,
   "metadata": {
    "collapsed": false
   },
   "outputs": [
    {
     "name": "stdout",
     "output_type": "stream",
     "text": [
      "(66730, 65)\n"
     ]
    }
   ],
   "source": [
    "print test.shape"
   ]
  },
  {
   "cell_type": "code",
   "execution_count": 61,
   "metadata": {
    "collapsed": false
   },
   "outputs": [],
   "source": [
    "scaled_test = scaler.transform(test)"
   ]
  },
  {
   "cell_type": "code",
   "execution_count": 62,
   "metadata": {
    "collapsed": false
   },
   "outputs": [
    {
     "data": {
      "text/plain": [
       "LogisticRegression(C=0.1, class_weight=None, dual=False, fit_intercept=True,\n",
       "          intercept_scaling=1, max_iter=100, multi_class='ovr', n_jobs=1,\n",
       "          penalty='l2', random_state=None, solver='liblinear', tol=0.0001,\n",
       "          verbose=0, warm_start=False)"
      ]
     },
     "execution_count": 62,
     "metadata": {},
     "output_type": "execute_result"
    }
   ],
   "source": [
    "clf = LogisticRegression(penalty='l2', C=0.1)\n",
    "clf.fit(scaledX, Y)"
   ]
  },
  {
   "cell_type": "code",
   "execution_count": 63,
   "metadata": {
    "collapsed": false
   },
   "outputs": [],
   "source": [
    "prediction = clf.predict_proba(scaled_test)[:, 1]"
   ]
  },
  {
   "cell_type": "markdown",
   "metadata": {},
   "source": [
    "Убедимся, что предсказанные вероятности находятся на отрезке [0,1] и не совпадают между собой (т.е. что модель не получилась константной):"
   ]
  },
  {
   "cell_type": "code",
   "execution_count": 64,
   "metadata": {
    "collapsed": false
   },
   "outputs": [
    {
     "name": "stdout",
     "output_type": "stream",
     "text": [
      "0.0 0.999999996487\n"
     ]
    }
   ],
   "source": [
    "print min(prediction), max(prediction)"
   ]
  },
  {
   "cell_type": "markdown",
   "metadata": {},
   "source": [
    "Преобразуем prediction в DataFrame:"
   ]
  },
  {
   "cell_type": "code",
   "execution_count": 65,
   "metadata": {
    "collapsed": false
   },
   "outputs": [
    {
     "name": "stdout",
     "output_type": "stream",
     "text": [
      "prob1    711\n",
      "dtype: int64\n",
      "prob1    66730\n",
      "dtype: int64\n"
     ]
    }
   ],
   "source": [
    "result = pd.DataFrame(np.array(prediction), columns=['prob1'], index=test.index)\n",
    "print result[result['prob1']>0.5].count()\n",
    "print result.count()"
   ]
  },
  {
   "cell_type": "markdown",
   "metadata": {},
   "source": [
    "Немного странно конечно, что из 67К записей только у 0.7К вероятность больше 0.5\n",
    "\n",
    "Сохраняем результаты:"
   ]
  },
  {
   "cell_type": "code",
   "execution_count": 66,
   "metadata": {
    "collapsed": false
   },
   "outputs": [],
   "source": [
    "result.to_csv('result.csv', encoding='utf8')"
   ]
  }
 ],
 "metadata": {
  "kernelspec": {
   "display_name": "Python 2",
   "language": "python",
   "name": "python2"
  },
  "language_info": {
   "codemirror_mode": {
    "name": "ipython",
    "version": 2
   },
   "file_extension": ".py",
   "mimetype": "text/x-python",
   "name": "python",
   "nbconvert_exporter": "python",
   "pygments_lexer": "ipython2",
   "version": "2.7.13"
  }
 },
 "nbformat": 4,
 "nbformat_minor": 1
}
