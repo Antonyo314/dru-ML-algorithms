{
 "cells": [
  {
   "cell_type": "code",
   "execution_count": 33,
   "metadata": {},
   "outputs": [
    {
     "name": "stdout",
     "output_type": "stream",
     "text": [
      "Populating the interactive namespace from numpy and matplotlib\n"
     ]
    }
   ],
   "source": [
    "import numpy as np\n",
    "import pandas as pd\n",
    "import scipy\n",
    "\n",
    "from matplotlib.colors import ListedColormap\n",
    "import matplotlib.pyplot as plt\n",
    "%pylab inline"
   ]
  },
  {
   "cell_type": "markdown",
   "metadata": {},
   "source": [
    "# Methods implementation"
   ]
  },
  {
   "cell_type": "markdown",
   "metadata": {},
   "source": [
    "### Kernels"
   ]
  },
  {
   "cell_type": "code",
   "execution_count": 71,
   "metadata": {
    "collapsed": true,
    "scrolled": false
   },
   "outputs": [],
   "source": [
    "def kernel(w, x, type='linear', sigma=1, r=0, d=1):\n",
    "    if type == 'linear':\n",
    "        return np.dot(w,x)\n",
    "    \n",
    "    elif type == 'polynomial':\n",
    "        return (sigma * np.dot(w,x) + r) ** d\n",
    "    \n",
    "    elif type == 'radial':\n",
    "        return exp(- sigma * np.linalg.norm(w - x) ** 2)\n",
    "    \n",
    "    else:\n",
    "        print('error: incorrect kernel type')\n",
    "        return\n",
    "    return "
   ]
  },
  {
   "cell_type": "markdown",
   "metadata": {},
   "source": [
    "### SVM (Support Vector Machines)"
   ]
  },
  {
   "cell_type": "code",
   "execution_count": 105,
   "metadata": {},
   "outputs": [],
   "source": [
    "def M(y, x, w, w0, kernel_type, sigma, r, d):\n",
    "    return y * (kernel(w, x, kernel_type) - w0) \n",
    "\n",
    "def ksi(y, x, w, w0, kernel_type, sigma, r, d):\n",
    "    return max(0,1 - M(y, x, w, w0, kernel_type, sigma, r, d))\n",
    "\n",
    "def support_vector_machines_classifier(X, y, w_init=None, C=1,\n",
    "                   kernel_type='linear', sigma=1, r=0, d=1):\n",
    "    if(w_init == None):\n",
    "        w_init = np.zeros(X.shape[1] + 1)\n",
    "        \n",
    "    hinge_loss = lambda w: np.array([ksi(y[i], X[i], w[1:], w[0],\n",
    "                                         kernel_type, sigma, r, d)\n",
    "                                     for i in range(len(y))]).sum()\n",
    "    \n",
    "    regularization = lambda w: kernel(w[1:], w[1:], kernel_type, sigma, r, d) / (2 * C)\n",
    "    \n",
    "    w = scipy.optimize.minimize(lambda w: hinge_loss(w) + regularization(w), w_init).x\n",
    "    return w\n",
    "\n",
    "def support_vector_machines_prediction(w, X, kernel_type='linear', sigma=1, r=0, d=1):\n",
    "    return np.array([sign(kernel(x, w[1:], kernel_type, sigma, r, d)) for x in X - w[0]])"
   ]
  },
  {
   "cell_type": "markdown",
   "metadata": {},
   "source": [
    "# Quality check"
   ]
  },
  {
   "cell_type": "code",
   "execution_count": 13,
   "metadata": {
    "code_folding": [],
    "collapsed": true
   },
   "outputs": [],
   "source": [
    "def accuracy(y, y_pred):\n",
    "    return np.where(y - y_pred == 0)[0].size / len(y)"
   ]
  },
  {
   "cell_type": "markdown",
   "metadata": {},
   "source": [
    "#  Visualizing algorithms results"
   ]
  },
  {
   "cell_type": "code",
   "execution_count": 14,
   "metadata": {
    "code_folding": [
     0
    ],
    "collapsed": true
   },
   "outputs": [],
   "source": [
    "def plot_2f_dataset(data, labels, colors=None): \n",
    "    from numpy.random import rand\n",
    "    data = np.array(data)\n",
    "    labels = np.array(labels)\n",
    "    n = len(set(labels))\n",
    "    if(colors == None):\n",
    "        colors = ListedColormap([tuple(rand(3)) for i in range(n)])\n",
    "    pyplot.figure(figsize(5, 5))\n",
    "    pyplot.scatter(data[:,0], data[:,1], c = labels, cmap = colors)\n",
    "    plt.show()"
   ]
  },
  {
   "cell_type": "code",
   "execution_count": 15,
   "metadata": {
    "code_folding": [],
    "collapsed": true
   },
   "outputs": [],
   "source": [
    "def print_result(true, predict, cut = 5):\n",
    "    #print('w:\\n',coef,'\\n')\n",
    "    if len(true) > cut:\n",
    "        nl = '\\n...\\n'\n",
    "    else:\n",
    "        nl = '\\n'\n",
    "    print('true vs. prediction:\\n',np.vstack((true,predict)).T[:cut],nl)\n",
    "    print('accuracy: ',round(accuracy(true, predict),3))"
   ]
  },
  {
   "cell_type": "markdown",
   "metadata": {},
   "source": [
    "# Data"
   ]
  },
  {
   "cell_type": "markdown",
   "metadata": {},
   "source": [
    "### Generate dataset"
   ]
  },
  {
   "cell_type": "code",
   "execution_count": 93,
   "metadata": {
    "code_folding": []
   },
   "outputs": [
    {
     "data": {
      "image/png": "[encoded data removed]",
      "text/plain": [
       "<matplotlib.figure.Figure at 0x1a1bed62b0>"
      ]
     },
     "metadata": {},
     "output_type": "display_data"
    }
   ],
   "source": [
    "from sklearn import datasets\n",
    "\n",
    "sample_size = 200\n",
    "data, target = datasets.make_classification(n_samples=sample_size, n_features=2, \n",
    "                                            n_informative=1, n_redundant=0, \n",
    "                                            n_repeated=0, n_classes=2, \n",
    "                                            n_clusters_per_class=1, \n",
    "                                            weights=None, flip_y=0.01, \n",
    "                                            class_sep=1.0, hypercube=True, \n",
    "                                            shift=0.0, scale=1.0, \n",
    "                                            shuffle=True, random_state=1)\n",
    "target[target == 0] = -1\n",
    "\n",
    "plot_2f_dataset(data, target)"
   ]
  },
  {
   "cell_type": "markdown",
   "metadata": {},
   "source": [
    "### Split dataset into train & test samples"
   ]
  },
  {
   "cell_type": "code",
   "execution_count": 95,
   "metadata": {},
   "outputs": [],
   "source": [
    "from sklearn import cross_validation as cross_val\n",
    "\n",
    "train_data, test_data, \\\n",
    "train_labels, test_labels = cross_val.train_test_split(data, target,\n",
    "                                                       test_size = 0.3)"
   ]
  },
  {
   "cell_type": "code",
   "execution_count": 32,
   "metadata": {},
   "outputs": [
    {
     "name": "stdout",
     "output_type": "stream",
     "text": [
      "train_data: \n",
      " [[ 0.585662   -0.57237583]\n",
      " [-0.44317193 -1.46434362]\n",
      " [-1.1191154   0.27189599]\n",
      " [-1.75592564  0.5278147 ]\n",
      " [ 0.50274088 -0.57515169]] \n",
      "...\n",
      "\n",
      "train_labels: \n",
      " [0 0 0 1 0] ...\n"
     ]
    }
   ],
   "source": [
    "print('train_data: \\n',train_data[:5],'\\n...\\n')\n",
    "print('train_labels: \\n',train_labels[:5],'...')"
   ]
  },
  {
   "cell_type": "markdown",
   "metadata": {},
   "source": [
    "### Run model and output"
   ]
  },
  {
   "cell_type": "code",
   "execution_count": 117,
   "metadata": {},
   "outputs": [
    {
     "name": "stdout",
     "output_type": "stream",
     "text": [
      "true vs. prediction:\n",
      " [[-1. -1.]\n",
      " [ 1.  1.]\n",
      " [-1. -1.]\n",
      " [-1. -1.]\n",
      " [-1. -1.]\n",
      " [ 1.  1.]\n",
      " [-1.  1.]\n",
      " [-1. -1.]\n",
      " [ 1.  1.]\n",
      " [ 1.  1.]] \n",
      "...\n",
      "\n",
      "accuracy:  0.967\n"
     ]
    },
    {
     "data": {
      "image/png": "[encoded data removed]",
      "text/plain": [
       "<matplotlib.figure.Figure at 0x1a1c388fd0>"
      ]
     },
     "metadata": {},
     "output_type": "display_data"
    }
   ],
   "source": [
    "w_init = None\n",
    "C = 2\n",
    "kernel_type = 'polynomial'\n",
    "sigma = 2\n",
    "r = 2\n",
    "d = 1\n",
    "\n",
    "w = support_vector_machines_classifier(train_data, train_labels, w_init, C, kernel_type, sigma, r, d)\n",
    "test_labels_predict = support_vector_machines_prediction(w, test_data, kernel_type, sigma, r, d)\n",
    "\n",
    "print_result(test_labels, test_labels_predict, cut = 10)\n",
    "if train_data.shape[1] == 2 and (train_data.dtype.type == np.float64\n",
    "                                 or train_data.dtype.type == np.int64):\n",
    "    #plot_2f_dataset(train_data, train_labels_predict)\n",
    "    plot_2f_dataset(test_data, test_labels_predict)"
   ]
  },
  {
   "cell_type": "markdown",
   "metadata": {},
   "source": [
    "### sklearn.cluster.SVM for check"
   ]
  },
  {
   "cell_type": "code",
   "execution_count": 118,
   "metadata": {},
   "outputs": [
    {
     "name": "stdout",
     "output_type": "stream",
     "text": [
      "true vs. prediction:\n",
      " [[-1 -1]\n",
      " [ 1  1]\n",
      " [-1 -1]\n",
      " [-1 -1]\n",
      " [-1 -1]] \n",
      "...\n",
      "\n",
      "accuracy:  0.967\n"
     ]
    },
    {
     "data": {
      "image/png": "[encoded data removed]",
      "text/plain": [
       "<matplotlib.figure.Figure at 0x1a1c158be0>"
      ]
     },
     "metadata": {},
     "output_type": "display_data"
    }
   ],
   "source": [
    "from sklearn import svm\n",
    "\n",
    "SVM_classifier = svm.LinearSVC()\n",
    "SVM_classifier.fit(train_data,train_labels)\n",
    "print_result(test_labels, SVM_classifier.predict(test_data))\n",
    "if train_data.shape[1] == 2 and (train_data.dtype.type == np.float64\n",
    "                                 or train_data.dtype.type == np.int64):\n",
    "    #plot_2f_dataset(train_data, SVM_classifier.predict(train_data))\n",
    "    plot_2f_dataset(test_data, SVM_classifier.predict(test_data))"
   ]
  },
  {
   "cell_type": "code",
   "execution_count": null,
   "metadata": {
    "collapsed": true
   },
   "outputs": [],
   "source": []
  }
 ],
 "metadata": {
  "kernelspec": {
   "display_name": "Python 3",
   "language": "python",
   "name": "python3"
  },
  "language_info": {
   "codemirror_mode": {
    "name": "ipython",
    "version": 3
   },
   "file_extension": ".py",
   "mimetype": "text/x-python",
   "name": "python",
   "nbconvert_exporter": "python",
   "pygments_lexer": "ipython3",
   "version": "3.6.1"
  }
 },
 "nbformat": 4,
 "nbformat_minor": 2
}
