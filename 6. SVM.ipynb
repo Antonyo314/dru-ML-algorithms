{
 "cells": [
  {
   "cell_type": "code",
   "execution_count": 17,
   "metadata": {},
   "outputs": [
    {
     "name": "stdout",
     "output_type": "stream",
     "text": [
      "Populating the interactive namespace from numpy and matplotlib\n"
     ]
    }
   ],
   "source": [
    "import numpy as np\n",
    "import pandas as pd\n",
    "import scipy\n",
    "\n",
    "import cvxopt.solvers\n",
    "import logging\n",
    "\n",
    "from matplotlib.colors import ListedColormap\n",
    "import matplotlib.pyplot as plt\n",
    "%pylab inline"
   ]
  },
  {
   "cell_type": "markdown",
   "metadata": {},
   "source": [
    "# Methods implementation"
   ]
  },
  {
   "cell_type": "markdown",
   "metadata": {},
   "source": [
    "### Kernels"
   ]
  },
  {
   "cell_type": "code",
   "execution_count": 18,
   "metadata": {
    "collapsed": true,
    "scrolled": false
   },
   "outputs": [],
   "source": [
    "def kernel(w, x, type='linear', sigma=1, r=0, d=1):\n",
    "    if type == 'linear':\n",
    "        return np.dot(w,x)\n",
    "    \n",
    "    elif type == 'polynomial':\n",
    "        return (sigma * np.dot(w,x) + r) ** d\n",
    "    \n",
    "    elif type == 'radial':\n",
    "        return exp(- sigma * np.linalg.norm(w - x) ** 2)\n",
    "    \n",
    "    elif type == 'gaussian':\n",
    "        return exp( np.linalg.norm(w - x) ** 2 / (2 * sigma ** 2) )\n",
    "    \n",
    "    else:\n",
    "        print('error: incorrect kernel type')\n",
    "        return\n",
    "    return "
   ]
  },
  {
   "cell_type": "markdown",
   "metadata": {},
   "source": [
    "### SVM (Support Vector Machines)"
   ]
  },
  {
   "cell_type": "code",
   "execution_count": 19,
   "metadata": {
    "collapsed": true
   },
   "outputs": [],
   "source": [
    "def M(y, x, w, w0, kernel_type, sigma, r, d):\n",
    "    return y * (kernel(w, x, kernel_type) - w0) \n",
    "\n",
    "def ksi(y, x, w, w0, kernel_type, sigma, r, d):\n",
    "    return max(0,1 - M(y, x, w, w0, kernel_type, sigma, r, d))\n",
    "\n",
    "def support_vector_machines_classifier(X, y, w_init=None, C=1,\n",
    "                   kernel_type='linear', sigma=1, r=0, d=1):\n",
    "    if(w_init == None):\n",
    "        w_init = np.zeros(X.shape[1] + 1)\n",
    "        \n",
    "    hinge_loss = lambda w: np.array([ksi(y[i], X[i], w[1:], w[0],\n",
    "                                         kernel_type, sigma, r, d)\n",
    "                                     for i in range(len(y))]).sum()\n",
    "    \n",
    "    regularization = lambda w: kernel(w[1:], w[1:], kernel_type, sigma, r, d) / (2 * C)\n",
    "    \n",
    "    w = scipy.optimize.minimize(lambda w: hinge_loss(w) + regularization(w), w_init).x\n",
    "    return w\n",
    "\n",
    "def support_vector_machines_prediction(w, X, kernel_type='linear', sigma=1, r=0, d=1):\n",
    "    return np.array([sign(kernel(x, w[1:], kernel_type, sigma, r, d)) for x in X - w[0]])"
   ]
  },
  {
   "cell_type": "markdown",
   "metadata": {},
   "source": [
    "### SVM (Support Vector Machines) from workshop"
   ]
  },
  {
   "cell_type": "code",
   "execution_count": 20,
   "metadata": {
    "code_folding": [
     0,
     12,
     16,
     74,
     115,
     127,
     143
    ],
    "collapsed": true
   },
   "outputs": [],
   "source": [
    "class Kernel(object):\n",
    "    @staticmethod\n",
    "    def linear():\n",
    "        return lambda x, y: np.inner(x, y)\n",
    "\n",
    "    @staticmethod\n",
    "    def gaussian(sigma):\n",
    "        return lambda x, y: exp( - np.linalg.norm(x - y) ** 2 / (2 * sigma ** 2))\n",
    "\n",
    "MIN_SUPPORT_VECTOR_MULTIPLIER = 1e-5\n",
    "\n",
    "class SVMTrainer(object):\n",
    "    def __init__(self, kernel, c=0.1):\n",
    "        self._kernel = kernel\n",
    "        self._c = c\n",
    "    \n",
    "    def _kernel_matrix(self, X):\n",
    "        '''\n",
    "        X: martix of features\n",
    "\n",
    "        next step: Get number of samples\n",
    "        next step: Create zero matrix of quadratic shape of number of samples \n",
    "        next step: Calculate kernels\n",
    "        return:    Return Kernels matrix\n",
    "        '''\n",
    "        n_samples = X.shape[0]\n",
    "        K = np.zeros((n_samples, n_samples))\n",
    "        print(X)\n",
    "        for i, x_i in enumerate(X):\n",
    "            for j, x_j in enumerate(X):\n",
    "                K[i, j] = self._kernel(x_i, x_j)\n",
    "\n",
    "        return K\n",
    "\n",
    "    def _compute_lagrange_multipliers(self, X, y):\n",
    "        '''\n",
    "        X: martix of features\n",
    "        y: vector of labels\n",
    "\n",
    "        Need to Solve\n",
    "            min 1/2 x^T P x + q^T x (aplha is x)\n",
    "            s.t.\n",
    "                Gx <= h (alpha >= 0)\n",
    "                Ax = b (y^T * alpha = 0)\n",
    "\n",
    "        next step: Get number of samples\n",
    "        next step: Create Kernel matrix by calling _kernel_matrix method\n",
    "        next step: Create create quadratic term P based on Kernel matrix\n",
    "        next step: Create linear term q\n",
    "        next step: Create G, h, A, b\n",
    "        next step: Solve with - cvxopt.solvers.qp(P, q, G, h, A, b)\n",
    "        retrun:    Return flatten solution['x']\n",
    "        '''\n",
    "        n_samples = X.shape[0]\n",
    "        K = self._kernel_matrix(X)\n",
    "        P = cvxopt.matrix(np.outer(y, y) * K)\n",
    "        q = cvxopt.matrix(-1 * np.ones(n_samples))\n",
    "        G = cvxopt.matrix(np.diag(np.ones(n_samples) * -1))\n",
    "        h = cvxopt.matrix(np.zeros(n_samples))\n",
    "        A = cvxopt.matrix(y, (1, n_samples))\n",
    "        b = cvxopt.matrix(0.0)\n",
    "\n",
    "        # If we want to use regularization\n",
    "        G_std = cvxopt.matrix(np.diag(np.ones(n_samples) * -1))\n",
    "        h_std = cvxopt.matrix(np.zeros(n_samples))\n",
    "        G_slack = cvxopt.matrix(np.diag(np.ones(n_samples)))\n",
    "        h_slack = cvxopt.matrix(np.ones(n_samples) * self._c)\n",
    "        G = cvxopt.matrix(np.vstack((G_std, G_slack)))\n",
    "        h = cvxopt.matrix(np.vstack((h_std, h_slack)))\n",
    "\n",
    "        solution = cvxopt.solvers.qp(P, q, G, h, A, b)\n",
    "        \n",
    "        return np.ravel(solution['x'])\n",
    "\n",
    "    def _create_predictor(self, X, y, lagrange_multipliers):\n",
    "        '''\n",
    "        X: martix of features\n",
    "        y: vector of labels\n",
    "        lagrange_multipliers: vector of langrange multipliers\n",
    "\n",
    "        next step: Get non-zero lagrange multipliers indicies\n",
    "        next step: Get non-zero lagrange multipliers\n",
    "        next step: Get support vecorts\n",
    "        next step: Get support vecort labels\n",
    "        next step: Compute bias (use avg trick)\n",
    "        retrun   : Return SVMPredictor object\n",
    "        '''\n",
    "\n",
    "        support_vector_indices = lagrange_multipliers > MIN_SUPPORT_VECTOR_MULTIPLIER\n",
    "\n",
    "        support_multipliers = lagrange_multipliers[support_vector_indices]\n",
    "\n",
    "        support_vectors = X[support_vector_indices]\n",
    "\n",
    "        support_vector_labels = y[support_vector_indices]\n",
    "\n",
    "        bias = np.mean(\n",
    "            [y_k - SVMPredictor(\n",
    "                    kernel=self._kernel,\n",
    "                    bias=0.0,\n",
    "                    weights=support_multipliers,\n",
    "                    support_vectors=support_vectors,\n",
    "                    support_vector_labels=support_vector_labels\n",
    "                ).predict(x_k) for (y_k, x_k) in zip(support_vector_labels, support_vectors)\n",
    "            ]\n",
    "        )\n",
    "\n",
    "        return SVMPredictor(\n",
    "            kernel=self._kernel,\n",
    "            bias=0.0,\n",
    "            weights=support_multipliers,\n",
    "            support_vectors=support_vectors,\n",
    "            support_vector_labels=support_vector_labels\n",
    "        )\n",
    "\n",
    "    def train(self, X, y):\n",
    "        '''\n",
    "        X: martix of features\n",
    "        y: vector of labels\n",
    "\n",
    "        next step: Compute lagrange multipliers by calling _compute_lagrange_multipliers method\n",
    "        return:    Return Predictor object by calling _create_predictor method\n",
    "        '''\n",
    "        lagrange_multipliers = self._compute_lagrange_multipliers(X, y)\n",
    "        return self._create_predictor(X, y, lagrange_multipliers)\n",
    "\n",
    "class SVMPredictor(object):\n",
    "    def __init__(self, kernel, bias, weights, \n",
    "                 support_vectors, support_vector_labels):\n",
    "        self._kernel = kernel\n",
    "        self._bias = bias\n",
    "        self._weights = weights\n",
    "        self._support_vectors = support_vectors\n",
    "        self._support_vector_labels = support_vector_labels\n",
    "\n",
    "        assert len(support_vectors) == len(support_vector_labels)\n",
    "        assert len(weights) == len(support_vector_labels)\n",
    "\n",
    "        logging.info(\"Bias: %s\", self._bias)\n",
    "        logging.info(\"Weights: %s\", self._weights)\n",
    "        logging.info(\"Support vectors: %s\", self._support_vectors)\n",
    "        logging.info(\"Support vector labels: %s\", self._support_vector_labels)\n",
    "\n",
    "    def predict(self, x):\n",
    "        '''\n",
    "        Computes the SVM prediction on the given features x.\n",
    "        '''\n",
    "        result = self._bias\n",
    "        for alpha_i, x_i, y_i in zip(self._weights,\n",
    "                                 self._support_vectors,\n",
    "                                 self._support_vector_labels):\n",
    "            result += alpha_i * y_i * self._kernel(x_i, x)\n",
    "\n",
    "        return np.sign(result).item()"
   ]
  },
  {
   "cell_type": "markdown",
   "metadata": {},
   "source": [
    "# Quality check"
   ]
  },
  {
   "cell_type": "code",
   "execution_count": 21,
   "metadata": {
    "code_folding": [],
    "collapsed": true
   },
   "outputs": [],
   "source": [
    "def accuracy(y, y_pred):\n",
    "    return np.where(y - y_pred == 0)[0].size / len(y)"
   ]
  },
  {
   "cell_type": "markdown",
   "metadata": {},
   "source": [
    "#  Visualizing algorithms results"
   ]
  },
  {
   "cell_type": "code",
   "execution_count": 22,
   "metadata": {
    "code_folding": [
     0
    ],
    "collapsed": true
   },
   "outputs": [],
   "source": [
    "def plot_2f_dataset(data, labels, colors=None): \n",
    "    from numpy.random import rand\n",
    "    data = np.array(data)\n",
    "    labels = np.array(labels)\n",
    "    n = len(set(labels))\n",
    "    if(colors == None):\n",
    "        colors = ListedColormap([tuple(rand(3)) for i in range(n)])\n",
    "    pyplot.figure(figsize(5, 5))\n",
    "    pyplot.scatter(data[:,0], data[:,1], c = labels, cmap = colors)\n",
    "    plt.show()"
   ]
  },
  {
   "cell_type": "code",
   "execution_count": 23,
   "metadata": {
    "code_folding": [],
    "collapsed": true
   },
   "outputs": [],
   "source": [
    "def print_result(true, predict, cut = 5):\n",
    "    #print('w:\\n',coef,'\\n')\n",
    "    if len(true) > cut:\n",
    "        nl = '\\n...\\n'\n",
    "    else:\n",
    "        nl = '\\n'\n",
    "    print('true vs. prediction:\\n',np.vstack((true,predict)).T[:cut],nl)\n",
    "    print('accuracy: ',round(accuracy(true, predict),3))"
   ]
  },
  {
   "cell_type": "markdown",
   "metadata": {},
   "source": [
    "# Data"
   ]
  },
  {
   "cell_type": "markdown",
   "metadata": {},
   "source": [
    "### Generate dataset"
   ]
  },
  {
   "cell_type": "code",
   "execution_count": 43,
   "metadata": {
    "code_folding": []
   },
   "outputs": [
    {
     "data": {
      "image/png": "[encoded data removed]",
      "text/plain": [
       "<matplotlib.figure.Figure at 0x1a1a7500b8>"
      ]
     },
     "metadata": {},
     "output_type": "display_data"
    }
   ],
   "source": [
    "from sklearn import datasets\n",
    "\n",
    "sample_size = 200\n",
    "data, target = datasets.make_classification(n_samples=sample_size, n_features=2, \n",
    "                                            n_informative=1, n_redundant=0, \n",
    "                                            n_repeated=0, n_classes=2, \n",
    "                                            n_clusters_per_class=1, \n",
    "                                            weights=None, flip_y=0.01, \n",
    "                                            class_sep=1.0, hypercube=True, \n",
    "                                            shift=0.0, scale=1.0, \n",
    "                                            shuffle=True, random_state=1)\n",
    "target[target == 0] = -1\n",
    "\n",
    "plot_2f_dataset(data, target)"
   ]
  },
  {
   "cell_type": "markdown",
   "metadata": {},
   "source": [
    "### Split dataset into train & test samples"
   ]
  },
  {
   "cell_type": "code",
   "execution_count": 44,
   "metadata": {},
   "outputs": [],
   "source": [
    "from sklearn import cross_validation as cross_val\n",
    "\n",
    "train_data, test_data, \\\n",
    "train_labels, test_labels = cross_val.train_test_split(data, target,\n",
    "                                                       test_size = 0.3)"
   ]
  },
  {
   "cell_type": "code",
   "execution_count": 45,
   "metadata": {},
   "outputs": [
    {
     "name": "stdout",
     "output_type": "stream",
     "text": [
      "train_data: \n",
      " [[-0.86778722 -0.3613089 ]\n",
      " [ 0.10622272 -0.79181859]\n",
      " [ 0.20183018 -0.61339268]\n",
      " [ 0.49233656 -0.12603819]\n",
      " [-0.8301719   1.15856878]] \n",
      "...\n",
      "\n",
      "train_labels: \n",
      " [-1 -1 -1 -1  1] ...\n"
     ]
    }
   ],
   "source": [
    "print('train_data: \\n',train_data[:5],'\\n...\\n')\n",
    "print('train_labels: \\n',train_labels[:5],'...')"
   ]
  },
  {
   "cell_type": "markdown",
   "metadata": {},
   "source": [
    "### Run model and output"
   ]
  },
  {
   "cell_type": "markdown",
   "metadata": {},
   "source": [
    "### Own"
   ]
  },
  {
   "cell_type": "code",
   "execution_count": 46,
   "metadata": {},
   "outputs": [
    {
     "name": "stdout",
     "output_type": "stream",
     "text": [
      "true vs. prediction:\n",
      " [[ 1.  1.]\n",
      " [ 1.  1.]\n",
      " [ 1.  1.]\n",
      " [-1. -1.]\n",
      " [ 1.  1.]\n",
      " [ 1.  1.]\n",
      " [-1. -1.]\n",
      " [-1. -1.]\n",
      " [-1. -1.]\n",
      " [-1. -1.]] \n",
      "...\n",
      "\n",
      "accuracy:  1.0\n"
     ]
    },
    {
     "data": {
      "image/png": "[encoded data removed]",
      "text/plain": [
       "<matplotlib.figure.Figure at 0x1a19ba9f60>"
      ]
     },
     "metadata": {},
     "output_type": "display_data"
    }
   ],
   "source": [
    "w_init = None\n",
    "C = 2\n",
    "kernel_type = 'linear'\n",
    "sigma = 2\n",
    "r = 2\n",
    "d = 1\n",
    "\n",
    "w = support_vector_machines_classifier(train_data, train_labels, w_init, C, kernel_type, sigma, r, d)\n",
    "test_labels_predict = support_vector_machines_prediction(w, test_data, kernel_type, sigma, r, d)\n",
    "\n",
    "print_result(test_labels, test_labels_predict, cut = 10)\n",
    "if train_data.shape[1] == 2 and (train_data.dtype.type == np.float64\n",
    "                                 or train_data.dtype.type == np.int64):\n",
    "    #plot_2f_dataset(train_data, train_labels_predict)\n",
    "    plot_2f_dataset(test_data, test_labels_predict)"
   ]
  },
  {
   "cell_type": "code",
   "execution_count": 57,
   "metadata": {},
   "outputs": [
    {
     "data": {
      "text/plain": [
       "((140, 1), (140, 2))"
      ]
     },
     "execution_count": 57,
     "metadata": {},
     "output_type": "execute_result"
    }
   ],
   "source": [
    "train_labels = train_labels.reshape((len(train_labels),1))\n",
    "train_labels.shape, train_data.shape"
   ]
  },
  {
   "cell_type": "code",
   "execution_count": 65,
   "metadata": {},
   "outputs": [
    {
     "data": {
      "text/plain": [
       "((140, 1), (140, 2))"
      ]
     },
     "execution_count": 65,
     "metadata": {},
     "output_type": "execute_result"
    }
   ],
   "source": [
    "num_samples=140\n",
    "num_features=2\n",
    "grid_size=20\n",
    "train_data2 = np.matrix(np.random.normal(size=num_samples * num_features)\n",
    "                        .reshape(num_samples, num_features))\n",
    "train_labels2 = 2 * (train_data2.sum(axis=1) > 0) - 1.0\n",
    "train_labels2.shape, train_data.shape"
   ]
  },
  {
   "cell_type": "code",
   "execution_count": 66,
   "metadata": {},
   "outputs": [
    {
     "name": "stdout",
     "output_type": "stream",
     "text": [
      "[[  8.61791154e-01   4.08576719e-01]\n",
      " [  5.02639393e-01   1.39023638e+00]\n",
      " [  7.96557383e-01  -1.52837569e+00]\n",
      " [ -1.17789726e+00  -1.34234380e+00]\n",
      " [ -5.16647276e-01   3.93065591e-01]\n",
      " [ -7.45622825e-01  -1.15428382e+00]\n",
      " [  2.11419318e-03   1.91517476e-01]\n",
      " [ -1.26131411e+00   1.57941138e+00]\n",
      " [ -1.26713645e+00  -6.51965054e-01]\n",
      " [  1.82013592e-01  -5.11635510e-01]\n",
      " [ -4.21121534e-01   1.99002611e+00]\n",
      " [  5.23707646e-01   1.34036559e+00]\n",
      " [ -2.58421123e-01   4.10356482e-01]\n",
      " [ -3.10295864e-01  -1.30594946e-01]\n",
      " [  3.26762444e-01   1.42302296e+00]\n",
      " [ -4.07292429e-01  -5.82593672e-01]\n",
      " [ -2.25944818e-01   2.74552948e+00]\n",
      " [  1.53017360e+00  -1.00097275e+00]\n",
      " [  1.97671739e+00   5.79607708e-01]\n",
      " [  1.75917140e+00   5.51902741e-01]\n",
      " [ -4.15883941e-01   8.81804803e-01]\n",
      " [  7.70457453e-01   9.66909690e-02]\n",
      " [  9.55141065e-01  -1.41546471e+00]\n",
      " [ -1.36987038e+00  -1.02161433e+00]\n",
      " [ -1.66720371e+00  -1.10960595e+00]\n",
      " [ -1.33086381e+00  -2.03304911e-01]\n",
      " [ -1.14788941e+00   8.94652584e-01]\n",
      " [ -2.21414237e+00  -1.53465988e+00]\n",
      " [  1.20641250e-01  -3.78671078e-01]\n",
      " [ -6.00849553e-01   2.97285263e-01]\n",
      " [ -6.80510980e-01  -1.79103875e+00]\n",
      " [  1.76805786e+00  -4.99293638e-01]\n",
      " [  6.20690356e-01   2.18048617e+00]\n",
      " [  1.29233637e+00   6.78823132e-01]\n",
      " [  6.64764386e-01  -1.66293043e-01]\n",
      " [  4.89839271e-01  -3.61636383e-01]\n",
      " [ -1.33114296e+00  -1.12415374e+00]\n",
      " [  7.00066565e-01   4.47056237e-01]\n",
      " [  1.92625880e-01  -1.08862149e+00]\n",
      " [ -5.16250838e-01  -1.28632295e+00]\n",
      " [  2.61642160e+00   1.07149555e+00]\n",
      " [  1.39466281e+00   1.74103452e-01]\n",
      " [ -4.73763872e-01  -4.98997369e-01]\n",
      " [  9.66951870e-01   8.10817180e-01]\n",
      " [  2.20287796e+00  -3.35335631e-01]\n",
      " [ -9.17877851e-02   1.66933747e+00]\n",
      " [  1.44609407e+00  -6.72859407e-01]\n",
      " [  1.44818457e-01  -8.72463799e-01]\n",
      " [  6.87614142e-01   5.71296762e-01]\n",
      " [  1.20084533e-01  -6.96954571e-01]\n",
      " [  7.48310386e-01  -6.10042158e-01]\n",
      " [  3.32422700e-01  -6.79509440e-01]\n",
      " [ -5.18292321e-01  -1.02898948e+00]\n",
      " [  1.10348159e+00   5.77571527e-01]\n",
      " [  7.64559797e-01   8.92622202e-01]\n",
      " [ -9.58264450e-01  -1.28628813e+00]\n",
      " [  2.48970956e-01   3.58349224e-01]\n",
      " [ -1.94558067e-02  -3.12399603e+00]\n",
      " [ -3.76276244e-01  -3.44043159e-02]\n",
      " [ -1.28241680e+00   1.48850499e+00]\n",
      " [ -1.91638404e+00   1.93110670e+00]\n",
      " [ -2.33646377e-02   5.25428348e-02]\n",
      " [ -8.09815241e-01   1.23918987e+00]\n",
      " [  5.27754916e-01  -7.23792267e-01]\n",
      " [  8.85959286e-01   9.90893104e-01]\n",
      " [ -5.25074925e-01   1.74368985e+00]\n",
      " [  7.55519592e-01   6.61695657e-01]\n",
      " [ -5.16463755e-01  -9.94297520e-01]\n",
      " [ -1.80963900e+00   9.30350011e-01]\n",
      " [ -1.79233226e-01   1.89113944e-01]\n",
      " [ -6.40598623e-01   1.20947997e+00]\n",
      " [  6.30289940e-02   2.61292444e-01]\n",
      " [ -5.52019991e-02   6.98481710e-01]\n",
      " [  1.48756897e+00   6.49659442e-02]\n",
      " [ -5.31863682e-02   4.26172271e-01]\n",
      " [ -1.16964311e-01   3.85268279e-01]\n",
      " [  1.33747173e+00  -1.80975885e+00]\n",
      " [  1.06850417e+00  -1.69013630e-01]\n",
      " [ -2.21281708e-01  -8.09753399e-01]\n",
      " [  1.32576516e+00   6.83295163e-01]\n",
      " [ -1.02092661e-01  -1.95853993e+00]\n",
      " [ -1.04462069e+00  -2.50391583e-01]\n",
      " [ -1.28053676e+00  -3.02723253e-01]\n",
      " [ -1.49785194e+00  -1.26081423e+00]\n",
      " [  3.90508345e-01  -4.60608455e-01]\n",
      " [  4.06207050e-01   1.73402883e+00]\n",
      " [  5.66398884e-01  -6.10481781e-01]\n",
      " [ -2.51500626e-01  -7.36540529e-01]\n",
      " [ -1.47458277e+00   7.50772588e-01]\n",
      " [  6.90600666e-01   3.13841008e-01]\n",
      " [ -4.31634225e-01   5.32615226e-01]\n",
      " [ -1.26558778e+00  -8.99549650e-01]\n",
      " [ -5.14828448e-02   2.22321886e+00]\n",
      " [  2.33135854e-01   1.41955548e-01]\n",
      " [ -9.21068556e-01  -1.32164785e+00]\n",
      " [ -2.35542862e-01   7.74654783e-01]\n",
      " [  3.07613294e-01  -1.63562470e+00]\n",
      " [  7.96038220e-01   9.59888205e-01]\n",
      " [  1.73488973e-01   1.45940109e+00]\n",
      " [ -1.27231016e+00  -2.43970365e-01]\n",
      " [  4.28623199e-01  -5.31250334e-02]\n",
      " [ -1.07341954e-01  -1.63322857e+00]\n",
      " [  7.76595228e-01   7.67280699e-01]\n",
      " [ -1.62014369e+00   1.14787257e+00]\n",
      " [  5.33898420e-01   3.70678913e-01]\n",
      " [  2.68525364e+00  -2.20236682e-01]\n",
      " [  9.67155604e-01  -1.12070371e+00]\n",
      " [  8.92092208e-01   1.37363691e+00]\n",
      " [  1.48950529e+00   1.58204329e+00]\n",
      " [  3.08258152e-01   8.18724600e-02]\n",
      " [  5.63239967e-01  -6.14597026e-01]\n",
      " [  5.15361993e-01   1.74932146e+00]\n",
      " [  6.28642398e-01  -1.08376844e+00]\n",
      " [ -3.89528893e-01  -1.67247637e+00]\n",
      " [ -1.95565309e+00  -5.98923258e-01]\n",
      " [  3.85576374e-01   1.28787402e-01]\n",
      " [ -9.75954571e-01   3.01655237e-01]\n",
      " [  1.76165482e-01  -3.68001293e-01]\n",
      " [  4.54844831e-02   1.67068452e+00]\n",
      " [ -5.95264892e-02   8.52986195e-01]\n",
      " [  5.39052243e-01   2.66666461e+00]\n",
      " [ -4.06504493e-01  -4.00379458e-01]\n",
      " [  1.29667503e+00  -6.58480682e-01]\n",
      " [ -2.03042653e+00  -6.30961385e-01]\n",
      " [  2.14478148e+00  -5.42498852e-01]\n",
      " [  1.92877988e+00   1.69940511e+00]\n",
      " [ -6.17208429e-01  -7.97313672e-01]\n",
      " [  2.56364517e-01  -5.26702743e-01]\n",
      " [  1.26550259e-01  -1.01442770e+00]\n",
      " [  8.91271495e-01   1.49359821e+00]\n",
      " [  2.17021521e+00  -2.45290923e-01]\n",
      " [ -3.27816023e-01   1.08549973e+00]\n",
      " [ -1.08017722e+00   1.17003624e-01]\n",
      " [  6.29285459e-02   1.59657763e+00]\n",
      " [  1.21715286e+00   1.71909705e+00]\n",
      " [ -7.30077701e-01  -8.23145662e-01]\n",
      " [ -2.52024966e-02   6.95405197e-02]\n",
      " [ -2.78045243e-01  -8.56094877e-01]\n",
      " [  5.36304847e-02  -1.91743223e-01]\n",
      " [ -1.15276314e+00   7.27950330e-01]]\n",
      "     pcost       dcost       gap    pres   dres\n",
      " 0: -2.6339e+01 -2.3540e+01  6e+02  2e+01  1e-15\n",
      " 1: -5.1111e+00 -2.1739e+01  5e+01  1e+00  1e-15\n",
      " 2: -3.3488e+00 -9.9920e+00  7e+00  4e-02  9e-16\n",
      " 3: -3.9620e+00 -4.8218e+00  9e-01  5e-03  8e-16\n",
      " 4: -4.2455e+00 -4.4779e+00  2e-01  1e-03  5e-16\n",
      " 5: -4.3096e+00 -4.3955e+00  9e-02  4e-04  5e-16\n",
      " 6: -4.3396e+00 -4.3609e+00  2e-02  7e-05  4e-16\n",
      " 7: -4.3487e+00 -4.3505e+00  2e-03  4e-06  5e-16\n",
      " 8: -4.3495e+00 -4.3495e+00  2e-05  4e-08  5e-16\n",
      " 9: -4.3495e+00 -4.3495e+00  2e-07  4e-10  6e-16\n",
      "Optimal solution found.\n"
     ]
    }
   ],
   "source": [
    "trainer = SVMTrainer(Kernel.linear())\n",
    "predictor = trainer.train(train_data2, train_labels2)\n",
    "#plot(predictor, train_data, train_labels, grid_size)"
   ]
  },
  {
   "cell_type": "markdown",
   "metadata": {},
   "source": [
    "### sklearn.cluster.SVM for check"
   ]
  },
  {
   "cell_type": "code",
   "execution_count": 41,
   "metadata": {},
   "outputs": [
    {
     "name": "stdout",
     "output_type": "stream",
     "text": [
      "true vs. prediction:\n",
      " [[ 1  1]\n",
      " [ 1  1]\n",
      " [ 1  1]\n",
      " [ 1  1]\n",
      " [-1 -1]] \n",
      "...\n",
      "\n",
      "accuracy:  0.983\n"
     ]
    },
    {
     "name": "stderr",
     "output_type": "stream",
     "text": [
      "/Users/Yaroslava/anaconda/lib/python3.6/site-packages/sklearn/utils/validation.py:578: DataConversionWarning: A column-vector y was passed when a 1d array was expected. Please change the shape of y to (n_samples, ), for example using ravel().\n",
      "  y = column_or_1d(y, warn=True)\n"
     ]
    },
    {
     "data": {
      "image/png": "[encoded data removed]",
      "text/plain": [
       "<matplotlib.figure.Figure at 0x1a1a255a90>"
      ]
     },
     "metadata": {},
     "output_type": "display_data"
    }
   ],
   "source": [
    "from sklearn import svm\n",
    "\n",
    "SVM_classifier = svm.LinearSVC()\n",
    "SVM_classifier.fit(train_data,train_labels)\n",
    "print_result(test_labels, SVM_classifier.predict(test_data))\n",
    "if train_data.shape[1] == 2 and (train_data.dtype.type == np.float64\n",
    "                                 or train_data.dtype.type == np.int64):\n",
    "    #plot_2f_dataset(train_data, SVM_classifier.predict(train_data))\n",
    "    plot_2f_dataset(test_data, SVM_classifier.predict(test_data))"
   ]
  },
  {
   "cell_type": "code",
   "execution_count": null,
   "metadata": {
    "collapsed": true
   },
   "outputs": [],
   "source": []
  }
 ],
 "metadata": {
  "kernelspec": {
   "display_name": "Python 3",
   "language": "python",
   "name": "python3"
  },
  "language_info": {
   "codemirror_mode": {
    "name": "ipython",
    "version": 3
   },
   "file_extension": ".py",
   "mimetype": "text/x-python",
   "name": "python",
   "nbconvert_exporter": "python",
   "pygments_lexer": "ipython3",
   "version": "3.6.1"
  }
 },
 "nbformat": 4,
 "nbformat_minor": 2
}
