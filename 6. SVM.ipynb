{
 "cells": [
  {
   "cell_type": "code",
   "execution_count": 1,
   "metadata": {},
   "outputs": [
    {
     "name": "stdout",
     "output_type": "stream",
     "text": [
      "Populating the interactive namespace from numpy and matplotlib\n"
     ]
    }
   ],
   "source": [
    "import numpy as np\n",
    "import pandas as pd\n",
    "import scipy\n",
    "\n",
    "import cvxopt.solvers\n",
    "import logging\n",
    "import itertools\n",
    "\n",
    "from matplotlib.colors import ListedColormap\n",
    "import matplotlib.pyplot as plt\n",
    "%pylab inline"
   ]
  },
  {
   "cell_type": "markdown",
   "metadata": {},
   "source": [
    "# Methods implementation"
   ]
  },
  {
   "cell_type": "markdown",
   "metadata": {},
   "source": [
    "### SVM (Support Vector Machines): own implementation\n",
    "using materials from: https://d3c33hcgiwev3.cloudfront.net/_a90c16bd5a6f5e0386c4d248f11a4933_5-3.Metricheskie_algoritmy_i_SVM.pdf?Expires=1512950400&Signature=fLjyplrInmTvMJQ3v~3NKWGSrCK-ron2n~ZmObK09LX76NaLKFbTn3PWbUENImZgBzFwZYc7w-0IzFk7GBH115GU60PHhu6XCu4nSyt1SmaCUREkl18dqNk~mE85ag9OqgIJKQk7D3L8PTfoDLurbfI7klgCYBeZJebzgTtrw1A_&Key-Pair-Id=APKAJLTNE6QMUY6HBC5A"
   ]
  },
  {
   "cell_type": "code",
   "execution_count": 2,
   "metadata": {
    "collapsed": true
   },
   "outputs": [],
   "source": [
    "def kernel(w, x, type='linear', sigma=1, r=0, d=1):\n",
    "    '''\n",
    "    Returns K(w,x) - kernel\n",
    "    '''\n",
    "    if type == 'linear':\n",
    "        return np.dot(w,x)\n",
    "    \n",
    "    elif type == 'polynomial':\n",
    "        return (sigma * np.dot(w,x) + r) ** d\n",
    "    \n",
    "    elif type == 'radial':\n",
    "        return exp(- sigma * np.linalg.norm(w - x) ** 2)\n",
    "    \n",
    "    elif type == 'gaussian':\n",
    "        return exp( np.linalg.norm(w - x) ** 2 / (2 * sigma ** 2) )\n",
    "    \n",
    "    else:\n",
    "        print('error: incorrect kernel type')\n",
    "        return\n",
    "    return \n",
    "\n",
    "def M(y, x, w, w0, kernel_type, sigma, r, d):\n",
    "    return y * (kernel(w, x, kernel_type) - w0) \n",
    "\n",
    "def support_vector_machines_classifier(X, y, w_init=None, C=1,\n",
    "                   kernel_type='linear', sigma=1, r=0, d=1):\n",
    "    '''\n",
    "    Returns optimal weights vector\n",
    "    \n",
    "    '''\n",
    "    if(w_init == None):\n",
    "        w_init = np.zeros(X.shape[1] + 1)\n",
    "    \n",
    "    hinge_loss = lambda w: np.array([max(0,1 - M(y[i], X[i],\n",
    "                                                 w[1:], w[0], \n",
    "                                                 kernel_type, sigma, r, d))\n",
    "                                     for i in range(len(y))]).sum()\n",
    "    \n",
    "    regularization = lambda w: kernel(w[1:], w[1:], kernel_type, sigma, r, d)\\\n",
    "                                / (2 * C)\n",
    "    \n",
    "    w = scipy.optimize.minimize(lambda w: hinge_loss(w) + regularization(w),\n",
    "                                w_init).x\n",
    "    return w\n",
    "\n",
    "def support_vector_machines_prediction(w, X, kernel_type='linear', sigma=1, r=0, d=1):\n",
    "    return np.array([sign(kernel(x, w[1:], kernel_type, sigma, r, d) - w[0]) for x in X])"
   ]
  },
  {
   "cell_type": "markdown",
   "metadata": {},
   "source": [
    "### SVM (Support Vector Machines) from workshop"
   ]
  },
  {
   "cell_type": "code",
   "execution_count": 4,
   "metadata": {
    "code_folding": [
     0,
     12,
     16,
     34,
     73,
     111,
     131
    ],
    "collapsed": true
   },
   "outputs": [],
   "source": [
    "class Kernel(object):\n",
    "    @staticmethod\n",
    "    def linear():\n",
    "        return lambda x, y: np.inner(x, y)\n",
    "\n",
    "    @staticmethod\n",
    "    def gaussian(sigma):\n",
    "        return lambda x, y: exp( - np.linalg.norm(x - y) ** 2 / (2 * sigma ** 2))\n",
    "\n",
    "MIN_SUPPORT_VECTOR_MULTIPLIER = 1e-5\n",
    "\n",
    "class SVMTrainer(object):\n",
    "    def __init__(self, kernel, c=0.1):\n",
    "        self._kernel = kernel\n",
    "        self._c = c\n",
    "    \n",
    "    def _kernel_matrix(self, X):\n",
    "        '''\n",
    "        X: martix of features\n",
    "\n",
    "        next step: Get number of samples\n",
    "        next step: Create zero matrix of quadratic shape of number of samples \n",
    "        next step: Calculate kernels\n",
    "        return:    Return Kernels matrix\n",
    "        '''\n",
    "        n_samples = X.shape[0]\n",
    "        K = np.zeros((n_samples, n_samples))\n",
    "        #print(X)\n",
    "        for i, x_i in enumerate(X):\n",
    "            for j, x_j in enumerate(X):\n",
    "                K[i, j] = self._kernel(x_i, x_j)\n",
    "\n",
    "        return K\n",
    "\n",
    "    def _compute_lagrange_multipliers(self, X, y):\n",
    "        '''\n",
    "        X: martix of features\n",
    "        y: vector of labels\n",
    "\n",
    "        Need to Solve\n",
    "            min 1/2 x^T P x + q^T x (aplha is x)\n",
    "            s.t.\n",
    "                Gx <= h (alpha >= 0)\n",
    "                Ax = b (y^T * alpha = 0)\n",
    "\n",
    "        next step: Get number of samples\n",
    "        next step: Create Kernel matrix by calling _kernel_matrix method\n",
    "        next step: Create create quadratic term P based on Kernel matrix\n",
    "        next step: Create linear term q\n",
    "        next step: Create G, h, A, b\n",
    "        next step: Solve with - cvxopt.solvers.qp(P, q, G, h, A, b)\n",
    "        retrun:    Return flatten solution['x']\n",
    "        '''\n",
    "        n_samples = X.shape[0]\n",
    "        K = self._kernel_matrix(X)\n",
    "        P = cvxopt.matrix(np.outer(y, y) * K)\n",
    "        q = cvxopt.matrix(-1 * np.ones(n_samples))\n",
    "        #G = cvxopt.matrix(np.diag(np.ones(n_samples) * -1))\n",
    "        #h = cvxopt.matrix(np.zeros(n_samples))\n",
    "        A = cvxopt.matrix(y, (1, n_samples))\n",
    "        b = cvxopt.matrix(0.0)\n",
    "\n",
    "        # for regularization\n",
    "        G_std = cvxopt.matrix(np.diag(np.ones(n_samples) * -1))\n",
    "        h_std = cvxopt.matrix(np.zeros(n_samples))\n",
    "        G_slack = cvxopt.matrix(np.diag(np.ones(n_samples)))\n",
    "        h_slack = cvxopt.matrix(np.ones(n_samples) * self._c)\n",
    "        G = cvxopt.matrix(np.vstack((G_std, G_slack)))\n",
    "        h = cvxopt.matrix(np.vstack((h_std, h_slack)))\n",
    "        \n",
    "        solution = cvxopt.solvers.qp(P, q, G, h, A, b)\n",
    "        return np.ravel(solution['x'])\n",
    "\n",
    "    def _create_predictor(self, X, y, lagrange_multipliers):\n",
    "        '''\n",
    "        X: martix of features\n",
    "        y: vector of labels\n",
    "        lagrange_multipliers: vector of langrange multipliers\n",
    "\n",
    "        next step: Get non-zero lagrange multipliers indicies\n",
    "        next step: Get non-zero lagrange multipliers\n",
    "        next step: Get support vecorts\n",
    "        next step: Get support vecort labels\n",
    "        next step: Compute bias (use avg trick)\n",
    "        retrun   : Return SVMPredictor object\n",
    "        '''\n",
    "\n",
    "        support_vector_indices = lagrange_multipliers > MIN_SUPPORT_VECTOR_MULTIPLIER\n",
    "        support_multipliers = lagrange_multipliers[support_vector_indices]\n",
    "        support_vectors = X[support_vector_indices]\n",
    "        support_vector_labels = y[support_vector_indices]\n",
    "\n",
    "        bias = np.mean(\n",
    "            [y_k - SVMPredictor(\n",
    "                    kernel=self._kernel,\n",
    "                    bias=0.0,\n",
    "                    weights=support_multipliers,\n",
    "                    support_vectors=support_vectors,\n",
    "                    support_vector_labels=support_vector_labels\n",
    "                ).predict(x_k) for (y_k, x_k) in zip(support_vector_labels, support_vectors)\n",
    "            ]\n",
    "        )\n",
    "\n",
    "        return SVMPredictor(\n",
    "            kernel=self._kernel,\n",
    "            bias=0.0,\n",
    "            weights=support_multipliers,\n",
    "            support_vectors=support_vectors,\n",
    "            support_vector_labels=support_vector_labels\n",
    "        )\n",
    "\n",
    "    def train(self, X, y):\n",
    "        '''\n",
    "        X: martix of features\n",
    "        y: vector of labels\n",
    "\n",
    "        next step: Compute lagrange multipliers by calling _compute_lagrange_multipliers method\n",
    "        return:    Return Predictor object by calling _create_predictor method\n",
    "        '''\n",
    "        lagrange_multipliers = self._compute_lagrange_multipliers(X, y)\n",
    "        return self._create_predictor(X, y, lagrange_multipliers)\n",
    "\n",
    "class SVMPredictor(object):\n",
    "    def __init__(self, kernel, bias, weights, \n",
    "                 support_vectors, support_vector_labels):\n",
    "        self._kernel = kernel\n",
    "        self._bias = bias\n",
    "        self._weights = weights\n",
    "        self._support_vectors = support_vectors\n",
    "        self._support_vector_labels = support_vector_labels\n",
    "\n",
    "    def predict(self, x):\n",
    "        '''\n",
    "        Computes the SVM prediction on the given features x.\n",
    "        '''\n",
    "        result = self._bias\n",
    "        for alpha_i, x_i, y_i in zip(self._weights,\n",
    "                                 self._support_vectors,\n",
    "                                 self._support_vector_labels):\n",
    "            result += alpha_i * y_i * self._kernel(x_i, x)\n",
    "\n",
    "        return np.sign(result).item()"
   ]
  },
  {
   "cell_type": "markdown",
   "metadata": {},
   "source": [
    "# Quality check"
   ]
  },
  {
   "cell_type": "code",
   "execution_count": 5,
   "metadata": {
    "code_folding": [],
    "collapsed": true
   },
   "outputs": [],
   "source": [
    "def accuracy(y, y_pred):\n",
    "    return np.where(y - y_pred == 0)[0].size / len(y)"
   ]
  },
  {
   "cell_type": "markdown",
   "metadata": {},
   "source": [
    "#  Visualizing algorithms results"
   ]
  },
  {
   "cell_type": "code",
   "execution_count": 6,
   "metadata": {
    "code_folding": [
     0
    ],
    "collapsed": true
   },
   "outputs": [],
   "source": [
    "def print_result(true, predict, cut = 5):\n",
    "    #print('w:\\n',coef,'\\n')\n",
    "    if len(true) > cut:\n",
    "        nl = '\\n...\\n'\n",
    "    else:\n",
    "        nl = '\\n'\n",
    "    print('true vs. prediction:\\n',np.vstack((true,predict)).T[:cut],nl)\n",
    "    print('accuracy: ',round(accuracy(true, predict),3))"
   ]
  },
  {
   "cell_type": "code",
   "execution_count": 7,
   "metadata": {
    "code_folding": [
     0
    ],
    "collapsed": true
   },
   "outputs": [],
   "source": [
    "def plot_2f_dataset(data, labels, colors=None): \n",
    "    from numpy.random import rand\n",
    "    data = np.array(data)\n",
    "    labels = np.array(labels)\n",
    "    n = len(set(labels))\n",
    "    if(colors == None):\n",
    "        colors = ListedColormap([tuple(rand(3)) for i in range(n)])\n",
    "    pyplot.figure(figsize(5, 5))\n",
    "    pyplot.scatter(data[:,0], data[:,1], c = labels, cmap = colors)\n",
    "    plt.show()"
   ]
  },
  {
   "cell_type": "code",
   "execution_count": 8,
   "metadata": {
    "code_folding": [
     0
    ],
    "collapsed": true
   },
   "outputs": [],
   "source": [
    "def plot(predictor, X, y, grid_size):\n",
    "    x_min, x_max = X[:, 0].min() - 1, X[:, 0].max() + 1\n",
    "    y_min, y_max = X[:, 1].min() - 1, X[:, 1].max() + 1\n",
    "    \n",
    "    xx, yy = np.meshgrid(\n",
    "        np.linspace(x_min, x_max, grid_size),\n",
    "        np.linspace(y_min, y_max, grid_size),\n",
    "        indexing='ij'\n",
    "    )\n",
    "    \n",
    "    flatten = lambda m: np.array(m).reshape(-1,)\n",
    "    result = []\n",
    "    for (i, j) in itertools.product(range(grid_size), range(grid_size)):\n",
    "        point = np.array([xx[i, j], yy[i, j]]).reshape(1, 2)\n",
    "        result.append(predictor.predict(point))\n",
    "\n",
    "    Z = np.array(result).reshape(xx.shape)\n",
    "    \n",
    "    plt.contourf(\n",
    "        xx, yy, Z,\n",
    "        cmap=cm.Paired,\n",
    "        levels=[-0.01, 0.01],\n",
    "        extend='both',\n",
    "        alpha=0.8\n",
    "    )\n",
    "    \n",
    "    plt.scatter(\n",
    "        flatten(X[:, 0]),\n",
    "        flatten(X[:, 1]),\n",
    "        c=flatten(y),\n",
    "        cmap=cm.Paired\n",
    "    )\n",
    "    \n",
    "    plt.xlim(x_min, x_max)\n",
    "    plt.ylim(y_min, y_max)"
   ]
  },
  {
   "cell_type": "markdown",
   "metadata": {},
   "source": [
    "# Data"
   ]
  },
  {
   "cell_type": "markdown",
   "metadata": {},
   "source": [
    "### Generate dataset"
   ]
  },
  {
   "cell_type": "code",
   "execution_count": 9,
   "metadata": {
    "code_folding": []
   },
   "outputs": [
    {
     "data": {
      "image/png": "[encoded data removed]",
      "text/plain": [
       "<matplotlib.figure.Figure at 0x11952b908>"
      ]
     },
     "metadata": {},
     "output_type": "display_data"
    }
   ],
   "source": [
    "from sklearn import datasets\n",
    "\n",
    "sample_size = 200\n",
    "data, target = datasets.make_classification(n_samples=sample_size, n_features=2, \n",
    "                                            n_informative=2, n_redundant=0, \n",
    "                                            n_repeated=0, n_classes=2, \n",
    "                                            n_clusters_per_class=1, \n",
    "                                            weights=None, flip_y=0.01, \n",
    "                                            class_sep=1.0, hypercube=True, \n",
    "                                            shift=0.0, scale=1.0, \n",
    "                                            shuffle=True, random_state=True)\n",
    "target[target == 0] = -1\n",
    "\n",
    "plot_2f_dataset(data, target)"
   ]
  },
  {
   "cell_type": "markdown",
   "metadata": {},
   "source": [
    "### Split dataset into train & test samples"
   ]
  },
  {
   "cell_type": "code",
   "execution_count": 10,
   "metadata": {},
   "outputs": [
    {
     "name": "stderr",
     "output_type": "stream",
     "text": [
      "/Users/Yaroslava/anaconda/lib/python3.6/site-packages/sklearn/cross_validation.py:41: DeprecationWarning: This module was deprecated in version 0.18 in favor of the model_selection module into which all the refactored classes and functions are moved. Also note that the interface of the new CV iterators are different from that of this module. This module will be removed in 0.20.\n",
      "  \"This module will be removed in 0.20.\", DeprecationWarning)\n"
     ]
    }
   ],
   "source": [
    "from sklearn import cross_validation as cross_val\n",
    "\n",
    "train_data, test_data, \\\n",
    "train_labels, test_labels = cross_val.train_test_split(data, target,\n",
    "                                                       test_size = 0.3)"
   ]
  },
  {
   "cell_type": "code",
   "execution_count": 11,
   "metadata": {},
   "outputs": [
    {
     "name": "stdout",
     "output_type": "stream",
     "text": [
      "train_data: \n",
      " [[ 0.64886118 -2.3259992 ]\n",
      " [ 1.0256987  -2.5131986 ]\n",
      " [ 1.11238649 -0.69661588]\n",
      " [ 0.38965021  0.70128569]\n",
      " [-0.78259888 -2.89036611]] \n",
      "...\n",
      "\n",
      "train_labels: \n",
      " [ 1  1  1 -1  1] ...\n"
     ]
    }
   ],
   "source": [
    "print('train_data: \\n',train_data[:5],'\\n...\\n')\n",
    "print('train_labels: \\n',train_labels[:5],'...')"
   ]
  },
  {
   "cell_type": "markdown",
   "metadata": {},
   "source": [
    "### Run model and output"
   ]
  },
  {
   "cell_type": "markdown",
   "metadata": {},
   "source": [
    "### Own"
   ]
  },
  {
   "cell_type": "code",
   "execution_count": 61,
   "metadata": {},
   "outputs": [
    {
     "name": "stdout",
     "output_type": "stream",
     "text": [
      "true vs. prediction:\n",
      " [[-1. -1.]\n",
      " [-1. -1.]\n",
      " [-1. -1.]\n",
      " [ 1.  1.]\n",
      " [-1. -1.]\n",
      " [-1. -1.]\n",
      " [-1.  1.]\n",
      " [-1. -1.]\n",
      " [-1. -1.]\n",
      " [-1. -1.]] \n",
      "...\n",
      "\n",
      "accuracy:  0.9\n"
     ]
    },
    {
     "data": {
      "image/png": "[encoded data removed]",
      "text/plain": [
       "<matplotlib.figure.Figure at 0x1a1fb65860>"
      ]
     },
     "metadata": {},
     "output_type": "display_data"
    }
   ],
   "source": [
    "w_init = None\n",
    "C = 0.1\n",
    "kernel_type = 'linear' # 'linear', 'polynomial', 'radial', 'gaussian'\n",
    "sigma = 1\n",
    "r = 2\n",
    "d = 1\n",
    "\n",
    "w = support_vector_machines_classifier(train_data, train_labels, w_init, C, kernel_type, sigma, r, d)\n",
    "test_labels_predict = support_vector_machines_prediction(w, test_data, kernel_type, sigma, r, d)\n",
    "\n",
    "print_result(test_labels, test_labels_predict, cut = 10)\n",
    "if train_data.shape[1] == 2 and (train_data.dtype.type == np.float64\n",
    "                                 or train_data.dtype.type == np.int64):\n",
    "    #plot_2f_dataset(train_data, train_labels_predict)\n",
    "    plot_2f_dataset(test_data, test_labels_predict)"
   ]
  },
  {
   "cell_type": "markdown",
   "metadata": {},
   "source": [
    "### From workshop"
   ]
  },
  {
   "cell_type": "code",
   "execution_count": 47,
   "metadata": {
    "collapsed": true
   },
   "outputs": [],
   "source": [
    "num_samples = 140\n",
    "num_features = 2\n",
    "grid_size = 100\n",
    "train_data2 = np.matrix(train_data)\n",
    "train_labels2 = 2 * (train_data2.sum(axis=1) > 0) - 1.0\n",
    "train_labels2[:] = train_labels.reshape((len(train_labels),1))[:]"
   ]
  },
  {
   "cell_type": "code",
   "execution_count": 43,
   "metadata": {},
   "outputs": [
    {
     "name": "stdout",
     "output_type": "stream",
     "text": [
      "     pcost       dcost       gap    pres   dres\n",
      " 0: -2.4627e+01 -3.2537e+01  1e+03  3e+01  5e-16\n",
      " 1: -5.9276e+00 -3.0766e+01  4e+01  5e-01  6e-16\n",
      " 2: -5.7922e+00 -9.9237e+00  4e+00  2e-16  4e-16\n",
      " 3: -6.4695e+00 -7.1391e+00  7e-01  2e-16  4e-16\n",
      " 4: -6.6908e+00 -6.8769e+00  2e-01  2e-16  4e-16\n",
      " 5: -6.7571e+00 -6.8159e+00  6e-02  2e-16  4e-16\n",
      " 6: -6.7797e+00 -6.7902e+00  1e-02  2e-16  4e-16\n",
      " 7: -6.7836e+00 -6.7858e+00  2e-03  2e-16  3e-16\n",
      " 8: -6.7846e+00 -6.7847e+00  1e-04  3e-16  4e-16\n",
      " 9: -6.7847e+00 -6.7847e+00  4e-06  2e-16  5e-16\n",
      "Optimal solution found.\n",
      "true vs. prediction:\n",
      " [[-1. -1.]\n",
      " [-1. -1.]\n",
      " [-1. -1.]\n",
      " [ 1.  1.]\n",
      " [-1. -1.]\n",
      " [-1. -1.]\n",
      " [-1.  1.]\n",
      " [-1. -1.]\n",
      " [-1. -1.]\n",
      " [-1. -1.]] \n",
      "...\n",
      "\n",
      "accuracy:  0.9\n"
     ]
    },
    {
     "data": {
      "image/png": "[encoded data removed]",
      "text/plain": [
       "<matplotlib.figure.Figure at 0x1a1fadc908>"
      ]
     },
     "metadata": {},
     "output_type": "display_data"
    },
    {
     "data": {
      "image/png": "[encoded data removed]",
      "text/plain": [
       "<matplotlib.figure.Figure at 0x1a1efd74e0>"
      ]
     },
     "metadata": {},
     "output_type": "display_data"
    }
   ],
   "source": [
    "trainer = SVMTrainer(Kernel.gaussian(1))\n",
    "predictor = trainer.train(train_data2, train_labels2)\n",
    "np.array([predictor.predict(x) for x in test_data])\n",
    "print_result(test_labels, test_labels_predict, cut = 10)\n",
    "if train_data.shape[1] == 2 and (train_data.dtype.type == np.float64\n",
    "                                 or train_data.dtype.type == np.int64):\n",
    "    #plot_2f_dataset(train_data, train_labels_predict)\n",
    "    plot_2f_dataset(test_data, test_labels_predict)\n",
    "    plot(predictor, train_data, train_labels, grid_size)"
   ]
  },
  {
   "cell_type": "markdown",
   "metadata": {},
   "source": [
    "### sklearn.cluster.SVM for check"
   ]
  },
  {
   "cell_type": "code",
   "execution_count": 54,
   "metadata": {},
   "outputs": [
    {
     "name": "stdout",
     "output_type": "stream",
     "text": [
      "true vs. prediction:\n",
      " [[-1 -1]\n",
      " [-1 -1]\n",
      " [-1 -1]\n",
      " [ 1  1]\n",
      " [-1 -1]] \n",
      "...\n",
      "\n",
      "accuracy:  0.883\n"
     ]
    },
    {
     "data": {
      "image/png": "[encoded data removed]",
      "text/plain": [
       "<matplotlib.figure.Figure at 0x1a1ff07128>"
      ]
     },
     "metadata": {},
     "output_type": "display_data"
    }
   ],
   "source": [
    "from sklearn import svm\n",
    "\n",
    "SVM_classifier = svm.LinearSVC()\n",
    "SVM_classifier.fit(train_data,train_labels)\n",
    "print_result(test_labels, SVM_classifier.predict(test_data))\n",
    "if train_data.shape[1] == 2 and (train_data.dtype.type == np.float64\n",
    "                                 or train_data.dtype.type == np.int64):\n",
    "    #plot_2f_dataset(train_data, SVM_classifier.predict(train_data))\n",
    "    plot_2f_dataset(test_data, SVM_classifier.predict(test_data))"
   ]
  },
  {
   "cell_type": "code",
   "execution_count": null,
   "metadata": {
    "collapsed": true
   },
   "outputs": [],
   "source": []
  }
 ],
 "metadata": {
  "kernelspec": {
   "display_name": "Python 3",
   "language": "python",
   "name": "python3"
  },
  "language_info": {
   "codemirror_mode": {
    "name": "ipython",
    "version": 3
   },
   "file_extension": ".py",
   "mimetype": "text/x-python",
   "name": "python",
   "nbconvert_exporter": "python",
   "pygments_lexer": "ipython3",
   "version": "3.6.1"
  }
 },
 "nbformat": 4,
 "nbformat_minor": 2
}
