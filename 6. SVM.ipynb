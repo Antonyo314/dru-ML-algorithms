{
 "cells": [
  {
   "cell_type": "code",
   "execution_count": 70,
   "metadata": {},
   "outputs": [
    {
     "name": "stdout",
     "output_type": "stream",
     "text": [
      "Populating the interactive namespace from numpy and matplotlib\n"
     ]
    }
   ],
   "source": [
    "import numpy as np\n",
    "import pandas as pd\n",
    "import scipy\n",
    "\n",
    "import cvxopt.solvers\n",
    "import logging\n",
    "\n",
    "from matplotlib.colors import ListedColormap\n",
    "import matplotlib.pyplot as plt\n",
    "%pylab inline"
   ]
  },
  {
   "cell_type": "markdown",
   "metadata": {},
   "source": [
    "# Methods implementation"
   ]
  },
  {
   "cell_type": "markdown",
   "metadata": {},
   "source": [
    "### SVM (Support Vector Machines): own implementation\n",
    "using materials from: https://d3c33hcgiwev3.cloudfront.net/_a90c16bd5a6f5e0386c4d248f11a4933_5-3.Metricheskie_algoritmy_i_SVM.pdf?Expires=1512950400&Signature=fLjyplrInmTvMJQ3v~3NKWGSrCK-ron2n~ZmObK09LX76NaLKFbTn3PWbUENImZgBzFwZYc7w-0IzFk7GBH115GU60PHhu6XCu4nSyt1SmaCUREkl18dqNk~mE85ag9OqgIJKQk7D3L8PTfoDLurbfI7klgCYBeZJebzgTtrw1A_&Key-Pair-Id=APKAJLTNE6QMUY6HBC5A"
   ]
  },
  {
   "cell_type": "code",
   "execution_count": 73,
   "metadata": {
    "collapsed": true
   },
   "outputs": [],
   "source": [
    "def kernel(w, x, type='linear', sigma=1, r=0, d=1):\n",
    "    '''\n",
    "    Returns K(w,x) - kernel\n",
    "    '''\n",
    "    if type == 'linear':\n",
    "        return np.dot(w,x)\n",
    "    \n",
    "    elif type == 'polynomial':\n",
    "        return (sigma * np.dot(w,x) + r) ** d\n",
    "    \n",
    "    elif type == 'radial':\n",
    "        return exp(- sigma * np.linalg.norm(w - x) ** 2)\n",
    "    \n",
    "    elif type == 'gaussian':\n",
    "        return exp( np.linalg.norm(w - x) ** 2 / (2 * sigma ** 2) )\n",
    "    \n",
    "    else:\n",
    "        print('error: incorrect kernel type')\n",
    "        return\n",
    "    return \n",
    "\n",
    "def M(y, x, w, w0, kernel_type, sigma, r, d):\n",
    "    return y * (kernel(w, x, kernel_type) - w0) \n",
    "\n",
    "def support_vector_machines_classifier(X, y, w_init=None, C=1,\n",
    "                   kernel_type='linear', sigma=1, r=0, d=1):\n",
    "    '''\n",
    "    Returns optimal weights vector\n",
    "    \n",
    "    '''\n",
    "    if(w_init == None):\n",
    "        w_init = np.zeros(X.shape[1] + 1)\n",
    "    \n",
    "    hinge_loss = lambda w: np.array([max(0,1 - M(y[i], X[i],\n",
    "                                                 w[1:], w[0], \n",
    "                                                 kernel_type, sigma, r, d))\n",
    "                                     for i in range(len(y))]).sum()\n",
    "    \n",
    "    regularization = lambda w: kernel(w[1:], w[1:],\\\n",
    "                                      kernel_type, sigma, r, d) / (2 * C)\n",
    "    \n",
    "    w = scipy.optimize.minimize(lambda w: hinge_loss(w) + regularization(w),\n",
    "                                w_init).x\n",
    "    return w\n",
    "\n",
    "def support_vector_machines_prediction(w, X, kernel_type='linear', sigma=1, r=0, d=1):\n",
    "    return np.array([sign(kernel(x, w[1:], kernel_type, sigma, r, d)) for x in X - w[0]])"
   ]
  },
  {
   "cell_type": "markdown",
   "metadata": {},
   "source": [
    "### SVM (Support Vector Machines) from workshop"
   ]
  },
  {
   "cell_type": "code",
   "execution_count": 20,
   "metadata": {
    "code_folding": [
     0,
     12,
     16,
     34,
     73,
     114,
     126,
     142
    ],
    "collapsed": true
   },
   "outputs": [],
   "source": [
    "class Kernel(object):\n",
    "    @staticmethod\n",
    "    def linear():\n",
    "        return lambda x, y: np.inner(x, y)\n",
    "\n",
    "    @staticmethod\n",
    "    def gaussian(sigma):\n",
    "        return lambda x, y: exp( - np.linalg.norm(x - y) ** 2 / (2 * sigma ** 2))\n",
    "\n",
    "MIN_SUPPORT_VECTOR_MULTIPLIER = 1e-5\n",
    "\n",
    "class SVMTrainer(object):\n",
    "    def __init__(self, kernel, c=0.1):\n",
    "        self._kernel = kernel\n",
    "        self._c = c\n",
    "    \n",
    "    def _kernel_matrix(self, X):\n",
    "        '''\n",
    "        X: martix of features\n",
    "\n",
    "        next step: Get number of samples\n",
    "        next step: Create zero matrix of quadratic shape of number of samples \n",
    "        next step: Calculate kernels\n",
    "        return:    Return Kernels matrix\n",
    "        '''\n",
    "        n_samples = X.shape[0]\n",
    "        K = np.zeros((n_samples, n_samples))\n",
    "        print(X)\n",
    "        for i, x_i in enumerate(X):\n",
    "            for j, x_j in enumerate(X):\n",
    "                K[i, j] = self._kernel(x_i, x_j)\n",
    "\n",
    "        return K\n",
    "\n",
    "    def _compute_lagrange_multipliers(self, X, y):\n",
    "        '''\n",
    "        X: martix of features\n",
    "        y: vector of labels\n",
    "\n",
    "        Need to Solve\n",
    "            min 1/2 x^T P x + q^T x (aplha is x)\n",
    "            s.t.\n",
    "                Gx <= h (alpha >= 0)\n",
    "                Ax = b (y^T * alpha = 0)\n",
    "\n",
    "        next step: Get number of samples\n",
    "        next step: Create Kernel matrix by calling _kernel_matrix method\n",
    "        next step: Create create quadratic term P based on Kernel matrix\n",
    "        next step: Create linear term q\n",
    "        next step: Create G, h, A, b\n",
    "        next step: Solve with - cvxopt.solvers.qp(P, q, G, h, A, b)\n",
    "        retrun:    Return flatten solution['x']\n",
    "        '''\n",
    "        n_samples = X.shape[0]\n",
    "        K = self._kernel_matrix(X)\n",
    "        P = cvxopt.matrix(np.outer(y, y) * K)\n",
    "        q = cvxopt.matrix(-1 * np.ones(n_samples))\n",
    "        #G = cvxopt.matrix(np.diag(np.ones(n_samples) * -1))\n",
    "        #h = cvxopt.matrix(np.zeros(n_samples))\n",
    "        A = cvxopt.matrix(y, (1, n_samples))\n",
    "        b = cvxopt.matrix(0.0)\n",
    "\n",
    "        # for regularization\n",
    "        G_std = cvxopt.matrix(np.diag(np.ones(n_samples) * -1))\n",
    "        h_std = cvxopt.matrix(np.zeros(n_samples))\n",
    "        G_slack = cvxopt.matrix(np.diag(np.ones(n_samples)))\n",
    "        h_slack = cvxopt.matrix(np.ones(n_samples) * self._c)\n",
    "        G = cvxopt.matrix(np.vstack((G_std, G_slack)))\n",
    "        h = cvxopt.matrix(np.vstack((h_std, h_slack)))\n",
    "        \n",
    "        solution = cvxopt.solvers.qp(P, q, G, h, A, b)\n",
    "        return np.ravel(solution['x'])\n",
    "\n",
    "    def _create_predictor(self, X, y, lagrange_multipliers):\n",
    "        '''\n",
    "        X: martix of features\n",
    "        y: vector of labels\n",
    "        lagrange_multipliers: vector of langrange multipliers\n",
    "\n",
    "        next step: Get non-zero lagrange multipliers indicies\n",
    "        next step: Get non-zero lagrange multipliers\n",
    "        next step: Get support vecorts\n",
    "        next step: Get support vecort labels\n",
    "        next step: Compute bias (use avg trick)\n",
    "        retrun   : Return SVMPredictor object\n",
    "        '''\n",
    "\n",
    "        support_vector_indices = lagrange_multipliers > MIN_SUPPORT_VECTOR_MULTIPLIER\n",
    "\n",
    "        support_multipliers = lagrange_multipliers[support_vector_indices]\n",
    "\n",
    "        support_vectors = X[support_vector_indices]\n",
    "\n",
    "        support_vector_labels = y[support_vector_indices]\n",
    "\n",
    "        bias = np.mean(\n",
    "            [y_k - SVMPredictor(\n",
    "                    kernel=self._kernel,\n",
    "                    bias=0.0,\n",
    "                    weights=support_multipliers,\n",
    "                    support_vectors=support_vectors,\n",
    "                    support_vector_labels=support_vector_labels\n",
    "                ).predict(x_k) for (y_k, x_k) in zip(support_vector_labels, support_vectors)\n",
    "            ]\n",
    "        )\n",
    "\n",
    "        return SVMPredictor(\n",
    "            kernel=self._kernel,\n",
    "            bias=0.0,\n",
    "            weights=support_multipliers,\n",
    "            support_vectors=support_vectors,\n",
    "            support_vector_labels=support_vector_labels\n",
    "        )\n",
    "\n",
    "    def train(self, X, y):\n",
    "        '''\n",
    "        X: martix of features\n",
    "        y: vector of labels\n",
    "\n",
    "        next step: Compute lagrange multipliers by calling _compute_lagrange_multipliers method\n",
    "        return:    Return Predictor object by calling _create_predictor method\n",
    "        '''\n",
    "        lagrange_multipliers = self._compute_lagrange_multipliers(X, y)\n",
    "        return self._create_predictor(X, y, lagrange_multipliers)\n",
    "\n",
    "class SVMPredictor(object):\n",
    "    def __init__(self, kernel, bias, weights, \n",
    "                 support_vectors, support_vector_labels):\n",
    "        self._kernel = kernel\n",
    "        self._bias = bias\n",
    "        self._weights = weights\n",
    "        self._support_vectors = support_vectors\n",
    "        self._support_vector_labels = support_vector_labels\n",
    "\n",
    "        assert len(support_vectors) == len(support_vector_labels)\n",
    "        assert len(weights) == len(support_vector_labels)\n",
    "\n",
    "        logging.info(\"Bias: %s\", self._bias)\n",
    "        logging.info(\"Weights: %s\", self._weights)\n",
    "        logging.info(\"Support vectors: %s\", self._support_vectors)\n",
    "        logging.info(\"Support vector labels: %s\", self._support_vector_labels)\n",
    "\n",
    "    def predict(self, x):\n",
    "        '''\n",
    "        Computes the SVM prediction on the given features x.\n",
    "        '''\n",
    "        result = self._bias\n",
    "        for alpha_i, x_i, y_i in zip(self._weights,\n",
    "                                 self._support_vectors,\n",
    "                                 self._support_vector_labels):\n",
    "            result += alpha_i * y_i * self._kernel(x_i, x)\n",
    "\n",
    "        return np.sign(result).item()"
   ]
  },
  {
   "cell_type": "markdown",
   "metadata": {},
   "source": [
    "# Quality check"
   ]
  },
  {
   "cell_type": "code",
   "execution_count": 21,
   "metadata": {
    "code_folding": [],
    "collapsed": true
   },
   "outputs": [],
   "source": [
    "def accuracy(y, y_pred):\n",
    "    return np.where(y - y_pred == 0)[0].size / len(y)"
   ]
  },
  {
   "cell_type": "markdown",
   "metadata": {},
   "source": [
    "#  Visualizing algorithms results"
   ]
  },
  {
   "cell_type": "code",
   "execution_count": 22,
   "metadata": {
    "code_folding": [
     0
    ],
    "collapsed": true
   },
   "outputs": [],
   "source": [
    "def plot_2f_dataset(data, labels, colors=None): \n",
    "    from numpy.random import rand\n",
    "    data = np.array(data)\n",
    "    labels = np.array(labels)\n",
    "    n = len(set(labels))\n",
    "    if(colors == None):\n",
    "        colors = ListedColormap([tuple(rand(3)) for i in range(n)])\n",
    "    pyplot.figure(figsize(5, 5))\n",
    "    pyplot.scatter(data[:,0], data[:,1], c = labels, cmap = colors)\n",
    "    plt.show()"
   ]
  },
  {
   "cell_type": "code",
   "execution_count": 23,
   "metadata": {
    "code_folding": [],
    "collapsed": true
   },
   "outputs": [],
   "source": [
    "def print_result(true, predict, cut = 5):\n",
    "    #print('w:\\n',coef,'\\n')\n",
    "    if len(true) > cut:\n",
    "        nl = '\\n...\\n'\n",
    "    else:\n",
    "        nl = '\\n'\n",
    "    print('true vs. prediction:\\n',np.vstack((true,predict)).T[:cut],nl)\n",
    "    print('accuracy: ',round(accuracy(true, predict),3))"
   ]
  },
  {
   "cell_type": "markdown",
   "metadata": {},
   "source": [
    "# Data"
   ]
  },
  {
   "cell_type": "markdown",
   "metadata": {},
   "source": [
    "### Generate dataset"
   ]
  },
  {
   "cell_type": "code",
   "execution_count": 103,
   "metadata": {
    "code_folding": []
   },
   "outputs": [
    {
     "data": {
      "image/png": "[encoded data removed]",
      "text/plain": [
       "<matplotlib.figure.Figure at 0x1a19a307f0>"
      ]
     },
     "metadata": {},
     "output_type": "display_data"
    }
   ],
   "source": [
    "from sklearn import datasets\n",
    "\n",
    "sample_size = 200\n",
    "data, target = datasets.make_classification(n_samples=sample_size, n_features=2, \n",
    "                                            n_informative=2, n_redundant=0, \n",
    "                                            n_repeated=0, n_classes=2, \n",
    "                                            n_clusters_per_class=1, \n",
    "                                            weights=None, flip_y=0.01, \n",
    "                                            class_sep=1.0, hypercube=True, \n",
    "                                            shift=0.0, scale=1.0, \n",
    "                                            shuffle=True, random_state=False)\n",
    "target[target == 0] = -1\n",
    "\n",
    "plot_2f_dataset(data, target)"
   ]
  },
  {
   "cell_type": "markdown",
   "metadata": {},
   "source": [
    "### Split dataset into train & test samples"
   ]
  },
  {
   "cell_type": "code",
   "execution_count": 104,
   "metadata": {
    "collapsed": true
   },
   "outputs": [],
   "source": [
    "from sklearn import cross_validation as cross_val\n",
    "\n",
    "train_data, test_data, \\\n",
    "train_labels, test_labels = cross_val.train_test_split(data, target,\n",
    "                                                       test_size = 0.3)"
   ]
  },
  {
   "cell_type": "code",
   "execution_count": 105,
   "metadata": {},
   "outputs": [
    {
     "name": "stdout",
     "output_type": "stream",
     "text": [
      "train_data: \n",
      " [[ 0.33571813  2.38535976]\n",
      " [ 1.17461046  2.36176817]\n",
      " [-0.23665909  1.44644951]\n",
      " [ 0.7377306   1.01107337]\n",
      " [ 1.03231614  2.66075432]] \n",
      "...\n",
      "\n",
      "train_labels: \n",
      " [ 1  1 -1  1  1] ...\n"
     ]
    }
   ],
   "source": [
    "print('train_data: \\n',train_data[:5],'\\n...\\n')\n",
    "print('train_labels: \\n',train_labels[:5],'...')"
   ]
  },
  {
   "cell_type": "markdown",
   "metadata": {},
   "source": [
    "### Run model and output"
   ]
  },
  {
   "cell_type": "markdown",
   "metadata": {},
   "source": [
    "### Own"
   ]
  },
  {
   "cell_type": "code",
   "execution_count": 106,
   "metadata": {},
   "outputs": [
    {
     "name": "stdout",
     "output_type": "stream",
     "text": [
      "true vs. prediction:\n",
      " [[-1. -1.]\n",
      " [ 1.  1.]\n",
      " [ 1.  1.]\n",
      " [ 1.  1.]\n",
      " [-1. -1.]\n",
      " [ 1.  1.]\n",
      " [-1. -1.]\n",
      " [ 1.  1.]\n",
      " [-1. -1.]\n",
      " [ 1.  1.]] \n",
      "...\n",
      "\n",
      "accuracy:  0.917\n"
     ]
    },
    {
     "data": {
      "image/png": "[encoded data removed]",
      "text/plain": [
       "<matplotlib.figure.Figure at 0x1a1a37ad30>"
      ]
     },
     "metadata": {},
     "output_type": "display_data"
    }
   ],
   "source": [
    "w_init = None\n",
    "C = 2\n",
    "kernel_type = 'linear'\n",
    "sigma = 2\n",
    "r = 2\n",
    "d = 1\n",
    "\n",
    "w = support_vector_machines_classifier(train_data, train_labels, w_init, C, kernel_type, sigma, r, d)\n",
    "test_labels_predict = support_vector_machines_prediction(w, test_data, kernel_type, sigma, r, d)\n",
    "\n",
    "print_result(test_labels, test_labels_predict, cut = 10)\n",
    "if train_data.shape[1] == 2 and (train_data.dtype.type == np.float64\n",
    "                                 or train_data.dtype.type == np.int64):\n",
    "    #plot_2f_dataset(train_data, train_labels_predict)\n",
    "    plot_2f_dataset(test_data, test_labels_predict)"
   ]
  },
  {
   "cell_type": "code",
   "execution_count": 108,
   "metadata": {},
   "outputs": [
    {
     "data": {
      "text/plain": [
       "((140, 1), (140, 2))"
      ]
     },
     "execution_count": 108,
     "metadata": {},
     "output_type": "execute_result"
    }
   ],
   "source": [
    "train_labels = train_labels.reshape((len(train_labels),1))\n",
    "train_labels.shape, train_data.shape"
   ]
  },
  {
   "cell_type": "code",
   "execution_count": 132,
   "metadata": {},
   "outputs": [
    {
     "data": {
      "text/plain": [
       "matrix([[ 1.,  1.],\n",
       "        [ 1.,  1.],\n",
       "        [-1.,  1.],\n",
       "        [ 1.,  1.],\n",
       "        [ 1., -1.],\n",
       "        [ 1., -1.],\n",
       "        [ 1., -1.],\n",
       "        [ 1.,  1.],\n",
       "        [-1., -1.],\n",
       "        [ 1.,  1.],\n",
       "        [ 1.,  1.],\n",
       "        [ 1., -1.],\n",
       "        [-1., -1.],\n",
       "        [-1.,  1.],\n",
       "        [ 1.,  1.],\n",
       "        [-1., -1.],\n",
       "        [ 1.,  1.],\n",
       "        [ 1.,  1.],\n",
       "        [ 1.,  1.],\n",
       "        [-1.,  1.],\n",
       "        [-1.,  1.],\n",
       "        [-1., -1.],\n",
       "        [-1., -1.],\n",
       "        [-1.,  1.],\n",
       "        [-1.,  1.],\n",
       "        [ 1.,  1.],\n",
       "        [-1.,  1.],\n",
       "        [-1., -1.],\n",
       "        [-1.,  1.],\n",
       "        [-1., -1.],\n",
       "        [-1.,  1.],\n",
       "        [-1., -1.],\n",
       "        [ 1.,  1.],\n",
       "        [ 1.,  1.],\n",
       "        [-1.,  1.],\n",
       "        [ 1.,  1.],\n",
       "        [-1.,  1.],\n",
       "        [ 1.,  1.],\n",
       "        [-1., -1.],\n",
       "        [ 1.,  1.],\n",
       "        [-1., -1.],\n",
       "        [ 1.,  1.],\n",
       "        [-1.,  1.],\n",
       "        [ 1.,  1.],\n",
       "        [ 1.,  1.],\n",
       "        [ 1.,  1.],\n",
       "        [-1., -1.],\n",
       "        [-1.,  1.],\n",
       "        [-1.,  1.],\n",
       "        [-1., -1.],\n",
       "        [-1.,  1.],\n",
       "        [ 1.,  1.],\n",
       "        [ 1.,  1.],\n",
       "        [ 1.,  1.],\n",
       "        [ 1., -1.],\n",
       "        [ 1.,  1.],\n",
       "        [ 1.,  1.],\n",
       "        [-1.,  1.],\n",
       "        [-1.,  1.],\n",
       "        [-1., -1.],\n",
       "        [ 1., -1.],\n",
       "        [ 1.,  1.],\n",
       "        [-1., -1.],\n",
       "        [-1.,  1.],\n",
       "        [ 1.,  1.],\n",
       "        [ 1., -1.],\n",
       "        [-1.,  1.],\n",
       "        [ 1., -1.],\n",
       "        [-1., -1.],\n",
       "        [ 1.,  1.],\n",
       "        [-1.,  1.],\n",
       "        [ 1., -1.],\n",
       "        [-1., -1.],\n",
       "        [ 1.,  1.],\n",
       "        [ 1., -1.],\n",
       "        [ 1., -1.],\n",
       "        [ 1.,  1.],\n",
       "        [ 1., -1.],\n",
       "        [ 1.,  1.],\n",
       "        [ 1., -1.],\n",
       "        [ 1., -1.],\n",
       "        [-1., -1.],\n",
       "        [-1., -1.],\n",
       "        [-1., -1.],\n",
       "        [-1., -1.],\n",
       "        [ 1., -1.],\n",
       "        [-1.,  1.],\n",
       "        [-1., -1.],\n",
       "        [ 1.,  1.],\n",
       "        [ 1.,  1.],\n",
       "        [-1.,  1.],\n",
       "        [-1.,  1.],\n",
       "        [-1., -1.],\n",
       "        [ 1.,  1.],\n",
       "        [-1., -1.],\n",
       "        [ 1., -1.],\n",
       "        [ 1.,  1.],\n",
       "        [ 1.,  1.],\n",
       "        [-1., -1.],\n",
       "        [ 1.,  1.],\n",
       "        [ 1., -1.],\n",
       "        [ 1.,  1.],\n",
       "        [-1., -1.],\n",
       "        [ 1.,  1.],\n",
       "        [ 1.,  1.],\n",
       "        [ 1.,  1.],\n",
       "        [ 1.,  1.],\n",
       "        [ 1.,  1.],\n",
       "        [-1., -1.],\n",
       "        [-1.,  1.],\n",
       "        [ 1., -1.],\n",
       "        [ 1., -1.],\n",
       "        [ 1., -1.],\n",
       "        [-1., -1.],\n",
       "        [ 1.,  1.],\n",
       "        [-1.,  1.],\n",
       "        [ 1.,  1.],\n",
       "        [-1.,  1.],\n",
       "        [-1.,  1.],\n",
       "        [-1.,  1.],\n",
       "        [-1., -1.],\n",
       "        [-1.,  1.],\n",
       "        [ 1., -1.],\n",
       "        [-1., -1.],\n",
       "        [-1., -1.],\n",
       "        [-1.,  1.],\n",
       "        [-1., -1.],\n",
       "        [-1.,  1.],\n",
       "        [-1.,  1.],\n",
       "        [-1.,  1.],\n",
       "        [-1.,  1.],\n",
       "        [-1., -1.],\n",
       "        [-1.,  1.],\n",
       "        [ 1.,  1.],\n",
       "        [ 1., -1.],\n",
       "        [-1., -1.],\n",
       "        [-1., -1.],\n",
       "        [-1., -1.],\n",
       "        [ 1.,  1.],\n",
       "        [-1.,  1.]])"
      ]
     },
     "execution_count": 132,
     "metadata": {},
     "output_type": "execute_result"
    }
   ],
   "source": [
    "num_samples=140\n",
    "num_features=2\n",
    "grid_size=20\n",
    "train_data2 = np.matrix(np.random.normal(size=num_samples * num_features)\n",
    "                        .reshape(num_samples, num_features))\n",
    "train_labels2 = 2 * (train_data2.sum(axis=1) > 0) - 1.0\n",
    "train_labels2.shape, train_data.shape\n",
    "np.hstack((train_labels,train_labels2))"
   ]
  },
  {
   "cell_type": "code",
   "execution_count": 135,
   "metadata": {},
   "outputs": [
    {
     "name": "stdout",
     "output_type": "stream",
     "text": [
      "[[ 0.33571813  2.38535976]\n",
      " [ 1.17461046  2.36176817]\n",
      " [-0.23665909  1.44644951]\n",
      " [ 0.7377306   1.01107337]\n",
      " [ 1.03231614  2.66075432]\n",
      " [ 1.74958523  0.3965599 ]\n",
      " [ 0.76253223  1.61199303]\n",
      " [ 1.9611922  -1.08109654]\n",
      " [-1.30968293  0.65657379]\n",
      " [ 0.1465163   2.20588694]\n",
      " [ 1.67057192  1.94144459]\n",
      " [ 0.9524239   0.85634319]\n",
      " [-0.06718391  1.24514885]\n",
      " [-0.02773616  1.39978454]\n",
      " [ 0.84441622  1.19622238]\n",
      " [ 0.02271892  1.73743499]\n",
      " [ 1.04702267  3.04327092]\n",
      " [ 1.15433209  0.11232096]\n",
      " [ 0.68883068  0.32809204]\n",
      " [-0.98887301  0.78891079]\n",
      " [-0.31794308  1.3423047 ]\n",
      " [-0.47214665  1.18504343]\n",
      " [-1.0784459   1.07985083]\n",
      " [ 1.35360805  1.67300665]\n",
      " [-1.77624826  0.8349644 ]\n",
      " [ 2.15579512  1.63323278]\n",
      " [-0.52855644  1.16946154]\n",
      " [-0.6908134   1.02744203]\n",
      " [-0.39721718  1.08199704]\n",
      " [ 0.05989257  1.87926203]\n",
      " [-2.27039869  0.7146886 ]\n",
      " [-2.38492464  0.63685586]\n",
      " [ 0.85826975  2.06354896]\n",
      " [ 1.87388646  3.35395813]\n",
      " [-2.13374202  1.0081594 ]\n",
      " [ 0.90430344  2.47626309]\n",
      " [-0.50306309  1.26826091]\n",
      " [ 0.13738716  2.63339007]\n",
      " [-3.22042807  0.15720705]\n",
      " [ 1.20983945 -1.14524442]\n",
      " [-0.87432656  0.71681344]\n",
      " [ 0.64025224  0.84007442]\n",
      " [-1.81831596  0.77572287]\n",
      " [ 1.1427501   0.83360532]\n",
      " [ 0.34638138  3.20205539]\n",
      " [ 1.4175747   0.45478768]\n",
      " [-1.84733219  0.7181598 ]\n",
      " [-1.20752869  1.02748359]\n",
      " [-2.08066313  0.69498639]\n",
      " [-2.483329    0.86328673]\n",
      " [-3.14196229  0.56897756]\n",
      " [ 1.68103117  1.9900371 ]\n",
      " [ 0.59265381  2.39473735]\n",
      " [ 0.70711216  2.29091905]\n",
      " [ 1.14103034  1.180924  ]\n",
      " [ 1.0711395   2.02367465]\n",
      " [ 0.80667967  1.18840742]\n",
      " [ 0.323858    1.30278361]\n",
      " [-1.40890463  0.64249104]\n",
      " [-0.78632511  0.90733808]\n",
      " [ 0.35901737 -1.0730062 ]\n",
      " [ 1.0069467  -0.06671705]\n",
      " [-0.66716811  1.27256807]\n",
      " [-1.19616825  0.7820868 ]\n",
      " [-0.27303804  2.90161177]\n",
      " [ 1.29678711  2.93990303]\n",
      " [-0.21360694  1.32166991]\n",
      " [ 1.01993066  1.41794047]\n",
      " [-1.35310398  0.84095855]\n",
      " [ 0.65330941  0.00876413]\n",
      " [-0.69516082  1.69020402]\n",
      " [ 0.95868378 -0.92942295]\n",
      " [-1.08100321  1.04986909]\n",
      " [ 1.29574025 -0.67809401]\n",
      " [ 0.83300907  1.98989843]\n",
      " [ 1.62675273  1.43871899]\n",
      " [ 1.39764835  0.82736851]\n",
      " [ 1.36581799  1.07715301]\n",
      " [ 1.2928623   0.34006749]\n",
      " [ 1.0312521   3.20748115]\n",
      " [ 0.88590571  1.6901946 ]\n",
      " [-2.28810495  0.626327  ]\n",
      " [ 0.84121147  1.57291492]\n",
      " [-2.29641624  0.64181267]\n",
      " [-1.5520205   0.97563231]\n",
      " [ 0.17867137  1.8864625 ]\n",
      " [-1.23155081  1.54074613]\n",
      " [-2.21631841  0.99300746]\n",
      " [ 0.68596056  2.23866478]\n",
      " [ 0.89629206  0.64281799]\n",
      " [-0.22459568  1.04410081]\n",
      " [-1.17597882  0.84895772]\n",
      " [-0.21417075  1.320351  ]\n",
      " [ 1.33248617  0.50523692]\n",
      " [-0.47565612  1.27888341]\n",
      " [ 1.30211125 -0.16735617]\n",
      " [ 0.85831388  2.12582016]\n",
      " [ 0.52655498  2.82348832]\n",
      " [-1.2607126   0.8950888 ]\n",
      " [ 0.31764695  0.13805009]\n",
      " [ 1.00671517  0.62443754]\n",
      " [ 1.1777002   1.7492486 ]\n",
      " [-0.52214057  0.8841133 ]\n",
      " [ 1.12349334  1.78047162]\n",
      " [ 0.69371978  0.09976979]\n",
      " [ 1.04466668  3.13305583]\n",
      " [ 1.7234667  -1.22157953]\n",
      " [ 0.78164326  3.57905736]\n",
      " [-0.80835836  1.18560361]\n",
      " [-0.88394333  0.99977754]\n",
      " [ 1.34234607  1.61895074]\n",
      " [ 1.05531307  1.32198482]\n",
      " [ 1.23726908  0.65038823]\n",
      " [-0.18493983  1.80714016]\n",
      " [ 0.66568872  1.10054468]\n",
      " [ 1.01404945  1.54604732]\n",
      " [-1.04682679  1.08765144]\n",
      " [ 0.39707124  1.92252875]\n",
      " [-1.03678414  1.18733728]\n",
      " [-2.13163526  0.41254111]\n",
      " [-2.27523047  0.6679949 ]\n",
      " [-0.93503117  1.29701413]\n",
      " [ 1.02034231  1.56774802]\n",
      " [-1.26647778  1.15872918]\n",
      " [-1.83707291  0.96467423]\n",
      " [-2.1778039   0.77582209]\n",
      " [-1.08727426  0.51249394]\n",
      " [-1.33183013  0.89102424]\n",
      " [-2.09665306  0.5676159 ]\n",
      " [-1.86031209  0.61527842]\n",
      " [-1.20570307  0.66529067]\n",
      " [-2.32203338  0.51273767]\n",
      " [-0.58941713  1.53869419]\n",
      " [ 0.25188115  0.78999866]\n",
      " [ 1.26294257  2.92304484]\n",
      " [-0.6709388   0.75511208]\n",
      " [-0.39135708  1.03574118]\n",
      " [-1.52529436  0.76508847]\n",
      " [ 0.8093097   1.79536619]\n",
      " [-1.35024367  1.22099238]]\n",
      "     pcost       dcost       gap    pres   dres\n",
      " 0: -7.2595e+01 -3.0784e+01  8e+02  2e+01  5e-15\n",
      " 1: -1.0709e+01 -2.9531e+01  3e+01  3e-01  5e-15\n",
      " 2: -1.0777e+01 -1.2869e+01  2e+00  9e-03  9e-16\n",
      " 3: -1.1294e+01 -1.1912e+01  6e-01  2e-03  7e-16\n",
      " 4: -1.1394e+01 -1.1430e+01  4e-02  4e-16  8e-16\n",
      " 5: -1.1400e+01 -1.1400e+01  4e-04  5e-16  8e-16\n",
      " 6: -1.1400e+01 -1.1400e+01  4e-06  4e-16  8e-16\n",
      "Optimal solution found.\n"
     ]
    }
   ],
   "source": [
    "trainer = SVMTrainer(Kernel.linear())\n",
    "predictor = trainer.train(train_data, train_labels2)\n",
    "#plot(predictor, train_data, train_labels, grid_size)"
   ]
  },
  {
   "cell_type": "markdown",
   "metadata": {},
   "source": [
    "### sklearn.cluster.SVM for check"
   ]
  },
  {
   "cell_type": "code",
   "execution_count": 41,
   "metadata": {},
   "outputs": [
    {
     "name": "stdout",
     "output_type": "stream",
     "text": [
      "true vs. prediction:\n",
      " [[ 1  1]\n",
      " [ 1  1]\n",
      " [ 1  1]\n",
      " [ 1  1]\n",
      " [-1 -1]] \n",
      "...\n",
      "\n",
      "accuracy:  0.983\n"
     ]
    },
    {
     "name": "stderr",
     "output_type": "stream",
     "text": [
      "/Users/Yaroslava/anaconda/lib/python3.6/site-packages/sklearn/utils/validation.py:578: DataConversionWarning: A column-vector y was passed when a 1d array was expected. Please change the shape of y to (n_samples, ), for example using ravel().\n",
      "  y = column_or_1d(y, warn=True)\n"
     ]
    },
    {
     "data": {
      "image/png": "[encoded data removed]",
      "text/plain": [
       "<matplotlib.figure.Figure at 0x1a1a255a90>"
      ]
     },
     "metadata": {},
     "output_type": "display_data"
    }
   ],
   "source": [
    "from sklearn import svm\n",
    "\n",
    "SVM_classifier = svm.LinearSVC()\n",
    "SVM_classifier.fit(train_data,train_labels)\n",
    "print_result(test_labels, SVM_classifier.predict(test_data))\n",
    "if train_data.shape[1] == 2 and (train_data.dtype.type == np.float64\n",
    "                                 or train_data.dtype.type == np.int64):\n",
    "    #plot_2f_dataset(train_data, SVM_classifier.predict(train_data))\n",
    "    plot_2f_dataset(test_data, SVM_classifier.predict(test_data))"
   ]
  }
 ],
 "metadata": {
  "kernelspec": {
   "display_name": "Python 3",
   "language": "python",
   "name": "python3"
  },
  "language_info": {
   "codemirror_mode": {
    "name": "ipython",
    "version": 3
   },
   "file_extension": ".py",
   "mimetype": "text/x-python",
   "name": "python",
   "nbconvert_exporter": "python",
   "pygments_lexer": "ipython3",
   "version": "3.6.1"
  }
 },
 "nbformat": 4,
 "nbformat_minor": 2
}
