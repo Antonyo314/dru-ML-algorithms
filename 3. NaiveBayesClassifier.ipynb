{
 "cells": [
  {
   "cell_type": "code",
   "execution_count": 1,
   "metadata": {},
   "outputs": [
    {
     "name": "stdout",
     "output_type": "stream",
     "text": [
      "Populating the interactive namespace from numpy and matplotlib\n"
     ]
    }
   ],
   "source": [
    "import numpy as np\n",
    "import pandas as pd\n",
    "import scipy\n",
    "\n",
    "from matplotlib.colors import ListedColormap\n",
    "import matplotlib.pyplot as plt\n",
    "%pylab inline"
   ]
  },
  {
   "cell_type": "markdown",
   "metadata": {},
   "source": [
    "# Methods implementation"
   ]
  },
  {
   "cell_type": "code",
   "execution_count": 2,
   "metadata": {
    "collapsed": true
   },
   "outputs": [],
   "source": [
    "def a_priori_probab(y):\n",
    "    label_set = set(y)\n",
    "    a_priori = dict()\n",
    "    for label in label_set:\n",
    "        a_priori[label] = len(np.where(y == label)[0]) / len(y)\n",
    "    return a_priori\n",
    "\n",
    "def a_posteriori_probab(x, y, a=0, b=0):\n",
    "    label_set = list(set(y))\n",
    "    feature_set = list(set(x))\n",
    "    a_posteriori = dict()\n",
    "    for label in label_set:\n",
    "        label_x = np.array([x[i] for i in range(len(y)) if y[i] == label])\n",
    "        a_posteriori[label] = dict()\n",
    "        for feature in feature_set:\n",
    "            dividend = len(np.where(label_x == feature)[0]) + a\n",
    "            divider = len(np.where(y == label)[0]) + a + b\n",
    "            #print(dividend,'/',divider)\n",
    "            a_posteriori[label][feature] = dividend / divider\n",
    "    return a_posteriori\n",
    "\n",
    "def a_posteriori_stats(x, y):\n",
    "    label_set = list(set(y))\n",
    "    a_posteriori = dict()\n",
    "    for label in label_set:\n",
    "        label_x = np.array([x[i] for i in range(len(y)) if y[i] == label])\n",
    "        a_posteriori[label] = dict()\n",
    "        a_posteriori[label]['mean'] = label_x.mean()\n",
    "        a_posteriori[label]['std'] = label_x.std(ddof=1)\n",
    "    return a_posteriori\n",
    "\n",
    "#a_posteriori_probab(x,y)"
   ]
  },
  {
   "cell_type": "code",
   "execution_count": 3,
   "metadata": {
    "collapsed": true
   },
   "outputs": [],
   "source": [
    "def p_y(y, prior):\n",
    "    return(prior[y])\n",
    "\n",
    "def p_x(x, y, posterior, i, distrib='Bernulli'):\n",
    "    if distrib == 'Bernulli':\n",
    "        p = posterior[i][y][x]\n",
    "    elif distrib == 'Gauss':\n",
    "        p = scipy.stats.norm(posterior[i][y]['mean'], posterior[i][y]['std']).pdf(x)\n",
    "    else:\n",
    "        raise\n",
    "        return\n",
    "    return p\n",
    "\n",
    "def naive_bayes_classifier(X, y, test_data, distrib='Bernulli'):\n",
    "    prior = a_priori_probab(y)  # p(y)\n",
    "    posterior = [None] * X.shape[1]\n",
    "    i = 0\n",
    "    if distrib == 'Bernulli':\n",
    "        for x in X.T:\n",
    "            posterior[i] = a_posteriori_probab(x,y)  # p(xi/y)\n",
    "            i += 1\n",
    "    elif distrib == 'Gauss':\n",
    "        for x in X.T:\n",
    "            posterior[i] = a_posteriori_stats(x,y)  # mean and std for f(xi/y)\n",
    "            i += 1\n",
    "    else:\n",
    "        raise\n",
    "        return\n",
    "    labels_set = list(set(y))    \n",
    "    y_pred = nb_predict(test_data, labels_set, prior, posterior, distrib)\n",
    "    return y_pred\n",
    "\n",
    "def nb_predict(X, labels_set, prior, posterior, distrib='Bernulli'):\n",
    "    labels = []\n",
    "    for x in X:\n",
    "        probabilities = []\n",
    "        for label in labels_set:\n",
    "            nb_likelihood = np.array([p_x(x[i], label, posterior, i, distrib) \n",
    "                                      for i in range(len(x))]).prod()\n",
    "            probabilities.append(nb_likelihood * p_y(label, prior))\n",
    "        ind = np.array(probabilities).argmax()\n",
    "        #ind = np.array([nb_likelihood(x, label, prior, posterior) \\\n",
    "        #                * p_y(label, prior) for label in labels_set]).argmax()\n",
    "        labels.append(labels_set[ind])\n",
    "    return np.array(labels)\n",
    "    \n",
    "def nb_likelihood(x, y, prior, posterior):\n",
    "    return np.array([p_x(x[i], y, posterior, i) \n",
    "                     for i in range(len(x))]).prod()"
   ]
  },
  {
   "cell_type": "markdown",
   "metadata": {},
   "source": [
    "# Quality check"
   ]
  },
  {
   "cell_type": "code",
   "execution_count": 4,
   "metadata": {
    "code_folding": [],
    "collapsed": true
   },
   "outputs": [],
   "source": [
    "def accuracy(y, y_pred):\n",
    "    return np.array([1 if y_pred[i] == y[i] else 0\n",
    "                     for i in range(len(y))]).sum() / len(y)"
   ]
  },
  {
   "cell_type": "markdown",
   "metadata": {},
   "source": [
    "#  Visualizing algorithms results"
   ]
  },
  {
   "cell_type": "code",
   "execution_count": 5,
   "metadata": {
    "code_folding": [],
    "collapsed": true
   },
   "outputs": [],
   "source": [
    "def plot_2f_dataset(data, labels, colors=None): \n",
    "    from numpy.random import rand\n",
    "    data = np.array(data)\n",
    "    labels = np.array(labels)\n",
    "    n = len(set(labels))\n",
    "    if(colors == None):\n",
    "        colors = ListedColormap([tuple(rand(3)) for i in range(n)])\n",
    "    pyplot.figure(figsize(5, 5))\n",
    "    pyplot.scatter(data[:,0], data[:,1], c = labels, cmap = colors)\n",
    "    plt.show()"
   ]
  },
  {
   "cell_type": "code",
   "execution_count": 6,
   "metadata": {
    "code_folding": [
     0
    ],
    "collapsed": true
   },
   "outputs": [],
   "source": [
    "def print_result(true, predict, cut = 5):\n",
    "    #print('w:\\n',coef,'\\n')\n",
    "    if len(true) > cut:\n",
    "        nl = '\\n...\\n'\n",
    "    else:\n",
    "        nl = '\\n'\n",
    "    print('true vs. prediction:\\n',np.vstack((true,predict)).T[:cut],nl)\n",
    "    print('accuracy: ',round(accuracy(true, predict),3))"
   ]
  },
  {
   "cell_type": "markdown",
   "metadata": {},
   "source": [
    "# 1. Features are categorial"
   ]
  },
  {
   "cell_type": "markdown",
   "metadata": {},
   "source": [
    "### Import custom dataset \"Weather-Play\""
   ]
  },
  {
   "cell_type": "code",
   "execution_count": 7,
   "metadata": {
    "collapsed": true
   },
   "outputs": [],
   "source": [
    "data_frame = pd.read_csv('Data/weather-play.csv')\n",
    "\n",
    "features = ['Weather']\n",
    "labels = ['Play']\n",
    "data = np.array(data_frame[features].values, dtype='str')\n",
    "target = np.array(data_frame[labels].values, dtype='str')\n",
    "target = target.reshape(target.shape[0])\n",
    "train_data = test_data = data\n",
    "train_labels = test_labels = target"
   ]
  },
  {
   "cell_type": "code",
   "execution_count": 8,
   "metadata": {},
   "outputs": [
    {
     "name": "stdout",
     "output_type": "stream",
     "text": [
      "train_data: \n",
      " [['Sunny']\n",
      " ['Overcast']\n",
      " ['Rainy']\n",
      " ['Sunny']\n",
      " ['Sunny']] \n",
      "...\n",
      "\n",
      "train_labels: \n",
      " ['No' 'Yes' 'Yes' 'Yes' 'Yes'] ...\n"
     ]
    }
   ],
   "source": [
    "print('train_data: \\n',train_data[:5],'\\n...\\n')\n",
    "print('train_labels: \\n',train_labels[:5],'...')"
   ]
  },
  {
   "cell_type": "markdown",
   "metadata": {},
   "source": [
    "### Run model and output"
   ]
  },
  {
   "cell_type": "code",
   "execution_count": 9,
   "metadata": {},
   "outputs": [
    {
     "name": "stdout",
     "output_type": "stream",
     "text": [
      "true vs. prediction:\n",
      " [['No' 'Yes']\n",
      " ['Yes' 'Yes']\n",
      " ['Yes' 'No']\n",
      " ['Yes' 'Yes']\n",
      " ['Yes' 'Yes']\n",
      " ['Yes' 'Yes']\n",
      " ['No' 'No']\n",
      " ['No' 'No']\n",
      " ['Yes' 'Yes']\n",
      " ['Yes' 'No']] \n",
      "...\n",
      "\n",
      "accuracy:  0.714\n"
     ]
    }
   ],
   "source": [
    "test_labels_predict = naive_bayes_classifier(train_data, train_labels,\n",
    "                                             test_data, distrib='Bernulli')\n",
    "\n",
    "print_result(test_labels, test_labels_predict, cut = 10)\n",
    "if train_data.shape[1] == 2 and (train_data.dtype.type == np.float64\n",
    "                                 or train_data.dtype.type == np.int64):\n",
    "    #plot_2f_dataset(train_data, train_labels_predict)\n",
    "    plot_2f_dataset(test_data, test_labels_predict)"
   ]
  },
  {
   "cell_type": "markdown",
   "metadata": {},
   "source": [
    "# 2. Features are real"
   ]
  },
  {
   "cell_type": "markdown",
   "metadata": {},
   "source": [
    "### Generate / Import dataset"
   ]
  },
  {
   "cell_type": "code",
   "execution_count": 10,
   "metadata": {
    "code_folding": []
   },
   "outputs": [
    {
     "data": {
      "image/png": "[encoded data removed]",
      "text/plain": [
       "<matplotlib.figure.Figure at 0x117260940>"
      ]
     },
     "metadata": {},
     "output_type": "display_data"
    }
   ],
   "source": [
    "from sklearn import datasets\n",
    "\n",
    "sample_size = 200\n",
    "data, target = datasets.make_classification(n_samples=sample_size, n_features=2, \n",
    "                                            n_informative=1, n_redundant=1, \n",
    "                                            n_repeated=0, n_classes=2, \n",
    "                                            n_clusters_per_class=1, \n",
    "                                            weights=None, flip_y=0.01, \n",
    "                                            class_sep=1.0, hypercube=True, \n",
    "                                            shift=0.0, scale=1.0, \n",
    "                                            shuffle=True, random_state=1)\n",
    "#w = datasets.load_wine()\n",
    "#data, target = w.data, w.target\n",
    "plot_2f_dataset(data, target)"
   ]
  },
  {
   "cell_type": "markdown",
   "metadata": {},
   "source": [
    "### Toy dataset \"Iris\""
   ]
  },
  {
   "cell_type": "code",
   "execution_count": 11,
   "metadata": {},
   "outputs": [
    {
     "data": {
      "image/png": "[encoded data removed]",
      "text/plain": [
       "<matplotlib.figure.Figure at 0x1188b15f8>"
      ]
     },
     "metadata": {},
     "output_type": "display_data"
    },
    {
     "data": {
      "image/png": "[encoded data removed]",
      "text/plain": [
       "<matplotlib.figure.Figure at 0x1188b55c0>"
      ]
     },
     "metadata": {},
     "output_type": "display_data"
    }
   ],
   "source": [
    "dataset = datasets.load_iris()\n",
    "data = dataset.data\n",
    "target = dataset.target\n",
    "plot_2f_dataset(data[:,:2], target)\n",
    "plot_2f_dataset(data[:,1:3], target)\n",
    "plt.show()"
   ]
  },
  {
   "cell_type": "markdown",
   "metadata": {},
   "source": [
    "### Split dataset into train & test samples"
   ]
  },
  {
   "cell_type": "code",
   "execution_count": 12,
   "metadata": {},
   "outputs": [
    {
     "name": "stderr",
     "output_type": "stream",
     "text": [
      "/Users/Yaroslava/anaconda/lib/python3.6/site-packages/sklearn/cross_validation.py:41: DeprecationWarning: This module was deprecated in version 0.18 in favor of the model_selection module into which all the refactored classes and functions are moved. Also note that the interface of the new CV iterators are different from that of this module. This module will be removed in 0.20.\n",
      "  \"This module will be removed in 0.20.\", DeprecationWarning)\n"
     ]
    }
   ],
   "source": [
    "from sklearn import cross_validation as cross_val\n",
    "\n",
    "train_data, test_data, \\\n",
    "train_labels, test_labels = cross_val.train_test_split(data, target,\n",
    "                                                       test_size = 0.3)"
   ]
  },
  {
   "cell_type": "code",
   "execution_count": 13,
   "metadata": {},
   "outputs": [
    {
     "name": "stdout",
     "output_type": "stream",
     "text": [
      "train_data: \n",
      " [[ 7.4  2.8  6.1  1.9]\n",
      " [ 7.9  3.8  6.4  2. ]\n",
      " [ 4.8  3.4  1.9  0.2]\n",
      " [ 6.5  3.   5.5  1.8]\n",
      " [ 6.2  2.9  4.3  1.3]] \n",
      "...\n",
      "\n",
      "train_labels: \n",
      " [2 2 0 2 1] ...\n"
     ]
    }
   ],
   "source": [
    "print('train_data: \\n',train_data[:5],'\\n...\\n')\n",
    "print('train_labels: \\n',train_labels[:5],'...')"
   ]
  },
  {
   "cell_type": "markdown",
   "metadata": {},
   "source": [
    "### Run model and output"
   ]
  },
  {
   "cell_type": "code",
   "execution_count": 14,
   "metadata": {},
   "outputs": [
    {
     "name": "stdout",
     "output_type": "stream",
     "text": [
      "true vs. prediction:\n",
      " [[0 0]\n",
      " [2 2]\n",
      " [1 1]\n",
      " [2 1]\n",
      " [0 0]\n",
      " [0 0]\n",
      " [2 2]\n",
      " [1 1]\n",
      " [0 0]\n",
      " [0 0]] \n",
      "...\n",
      "\n",
      "accuracy:  0.956\n"
     ]
    }
   ],
   "source": [
    "test_labels_predict = naive_bayes_classifier(train_data, train_labels,\n",
    "                                             test_data, distrib='Gauss')\n",
    "\n",
    "print_result(test_labels, test_labels_predict, cut = 10)\n",
    "if train_data.shape[1] == 2 and (train_data.dtype.type == np.float64\n",
    "                                 or train_data.dtype.type == np.int64):\n",
    "    #plot_2f_dataset(train_data, train_labels_predict)\n",
    "    plot_2f_dataset(test_data, test_labels_predict)"
   ]
  },
  {
   "cell_type": "markdown",
   "metadata": {},
   "source": [
    "### sklearn.naive_bayes.GaussianNB for check"
   ]
  },
  {
   "cell_type": "code",
   "execution_count": 15,
   "metadata": {
    "scrolled": false
   },
   "outputs": [
    {
     "name": "stdout",
     "output_type": "stream",
     "text": [
      "true vs. prediction:\n",
      " [[0 0]\n",
      " [2 2]\n",
      " [1 1]\n",
      " [2 1]\n",
      " [0 0]] \n",
      "...\n",
      "\n",
      "accuracy:  0.956\n"
     ]
    }
   ],
   "source": [
    "from sklearn import naive_bayes\n",
    "\n",
    "Gaussian_NB_classifier = naive_bayes.GaussianNB()\n",
    "Gaussian_NB_classifier.fit(train_data,train_labels)\n",
    "print_result(test_labels, Gaussian_NB_classifier.predict(test_data))\n",
    "if train_data.shape[1] == 2 and (train_data.dtype.type == np.float64\n",
    "                                 or train_data.dtype.type == np.int64):\n",
    "    #plot_2f_dataset(train_data, Gaussian_NB_classifier.predict(train_data))\n",
    "    plot_2f_dataset(test_data, Gaussian_NB_classifier.predict(test_data))"
   ]
  },
  {
   "cell_type": "code",
   "execution_count": null,
   "metadata": {
    "collapsed": true
   },
   "outputs": [],
   "source": []
  }
 ],
 "metadata": {
  "kernelspec": {
   "display_name": "Python 3",
   "language": "python",
   "name": "python3"
  },
  "language_info": {
   "codemirror_mode": {
    "name": "ipython",
    "version": 3
   },
   "file_extension": ".py",
   "mimetype": "text/x-python",
   "name": "python",
   "nbconvert_exporter": "python",
   "pygments_lexer": "ipython3",
   "version": "3.6.1"
  }
 },
 "nbformat": 4,
 "nbformat_minor": 2
}
